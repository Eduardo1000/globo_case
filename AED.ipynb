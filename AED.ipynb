{
 "cells": [
  {
   "cell_type": "markdown",
   "metadata": {},
   "source": [
    "# Análise Exploratória dos Dados"
   ]
  },
  {
   "cell_type": "code",
   "execution_count": 83,
   "metadata": {},
   "outputs": [],
   "source": [
    "import pandas as pd\n",
    "import numpy as np\n",
    "import os\n",
    "import matplotlib.pyplot as plt\n",
    "\n",
    "pd.set_option('max_rows', 500)"
   ]
  },
  {
   "cell_type": "code",
   "execution_count": 2,
   "metadata": {},
   "outputs": [
    {
     "data": {
      "text/plain": [
       "['BD_SERVICOS.csv', 'BD_CONSUMO.csv', 'BD_DEM_TIME.csv']"
      ]
     },
     "execution_count": 2,
     "metadata": {},
     "output_type": "execute_result"
    }
   ],
   "source": [
    "data_path = 'dataset'\n",
    "files = [x for x in os.listdir(data_path) if x.endswith('.csv')]\n",
    "files"
   ]
  },
  {
   "cell_type": "markdown",
   "metadata": {},
   "source": [
    "## Variáveis de Ambiente"
   ]
  },
  {
   "cell_type": "code",
   "execution_count": 3,
   "metadata": {},
   "outputs": [],
   "source": [
    "ano_atual = 2021\n",
    "ano_antigo = 1900"
   ]
  },
  {
   "cell_type": "markdown",
   "metadata": {},
   "source": [
    "# BD_DEM_TIME.csv"
   ]
  },
  {
   "cell_type": "code",
   "execution_count": 106,
   "metadata": {},
   "outputs": [
    {
     "data": {
      "text/html": [
       "<div>\n",
       "<style scoped>\n",
       "    .dataframe tbody tr th:only-of-type {\n",
       "        vertical-align: middle;\n",
       "    }\n",
       "\n",
       "    .dataframe tbody tr th {\n",
       "        vertical-align: top;\n",
       "    }\n",
       "\n",
       "    .dataframe thead th {\n",
       "        text-align: right;\n",
       "    }\n",
       "</style>\n",
       "<table border=\"1\" class=\"dataframe\">\n",
       "  <thead>\n",
       "    <tr style=\"text-align: right;\">\n",
       "      <th></th>\n",
       "      <th>KEY</th>\n",
       "      <th>SEXO</th>\n",
       "      <th>DTA_NASC</th>\n",
       "      <th>ESTADO</th>\n",
       "      <th>TIME</th>\n",
       "    </tr>\n",
       "  </thead>\n",
       "  <tbody>\n",
       "    <tr>\n",
       "      <th>0</th>\n",
       "      <td>2421280</td>\n",
       "      <td>M</td>\n",
       "      <td>1994.0</td>\n",
       "      <td>Minas Gerais</td>\n",
       "      <td>Cruzeiro</td>\n",
       "    </tr>\n",
       "    <tr>\n",
       "      <th>1</th>\n",
       "      <td>1604566</td>\n",
       "      <td>M</td>\n",
       "      <td>1990.0</td>\n",
       "      <td>Bahia</td>\n",
       "      <td>Flamengo</td>\n",
       "    </tr>\n",
       "    <tr>\n",
       "      <th>2</th>\n",
       "      <td>133472</td>\n",
       "      <td>M</td>\n",
       "      <td>1985.0</td>\n",
       "      <td>Rio de Janeiro</td>\n",
       "      <td>Botafogo</td>\n",
       "    </tr>\n",
       "    <tr>\n",
       "      <th>3</th>\n",
       "      <td>1069773</td>\n",
       "      <td>M</td>\n",
       "      <td>1989.0</td>\n",
       "      <td>Rio Grande do Sul</td>\n",
       "      <td>Gremio</td>\n",
       "    </tr>\n",
       "    <tr>\n",
       "      <th>4</th>\n",
       "      <td>2083240</td>\n",
       "      <td>M</td>\n",
       "      <td>1994.0</td>\n",
       "      <td>Sao Paulo</td>\n",
       "      <td>Santos</td>\n",
       "    </tr>\n",
       "    <tr>\n",
       "      <th>...</th>\n",
       "      <td>...</td>\n",
       "      <td>...</td>\n",
       "      <td>...</td>\n",
       "      <td>...</td>\n",
       "      <td>...</td>\n",
       "    </tr>\n",
       "    <tr>\n",
       "      <th>951459</th>\n",
       "      <td>2372668</td>\n",
       "      <td>M</td>\n",
       "      <td>1994.0</td>\n",
       "      <td>Rio Grande do Sul</td>\n",
       "      <td>Gremio</td>\n",
       "    </tr>\n",
       "    <tr>\n",
       "      <th>951460</th>\n",
       "      <td>1640963</td>\n",
       "      <td>M</td>\n",
       "      <td>1988.0</td>\n",
       "      <td>Sao Paulo</td>\n",
       "      <td>Sao Paulo</td>\n",
       "    </tr>\n",
       "    <tr>\n",
       "      <th>951461</th>\n",
       "      <td>810316</td>\n",
       "      <td>M</td>\n",
       "      <td>1982.0</td>\n",
       "      <td>Sao Paulo</td>\n",
       "      <td>Corinthians</td>\n",
       "    </tr>\n",
       "    <tr>\n",
       "      <th>951462</th>\n",
       "      <td>3113267</td>\n",
       "      <td>NaN</td>\n",
       "      <td>NaN</td>\n",
       "      <td>Rio de Janeiro</td>\n",
       "      <td>Botafogo</td>\n",
       "    </tr>\n",
       "    <tr>\n",
       "      <th>951463</th>\n",
       "      <td>1413278</td>\n",
       "      <td>M</td>\n",
       "      <td>1984.0</td>\n",
       "      <td>Parana</td>\n",
       "      <td>Corinthians</td>\n",
       "    </tr>\n",
       "  </tbody>\n",
       "</table>\n",
       "<p>951464 rows × 5 columns</p>\n",
       "</div>"
      ],
      "text/plain": [
       "            KEY SEXO  DTA_NASC             ESTADO         TIME\n",
       "0       2421280    M    1994.0       Minas Gerais     Cruzeiro\n",
       "1       1604566    M    1990.0              Bahia     Flamengo\n",
       "2        133472    M    1985.0     Rio de Janeiro     Botafogo\n",
       "3       1069773    M    1989.0  Rio Grande do Sul       Gremio\n",
       "4       2083240    M    1994.0          Sao Paulo       Santos\n",
       "...         ...  ...       ...                ...          ...\n",
       "951459  2372668    M    1994.0  Rio Grande do Sul       Gremio\n",
       "951460  1640963    M    1988.0          Sao Paulo    Sao Paulo\n",
       "951461   810316    M    1982.0          Sao Paulo  Corinthians\n",
       "951462  3113267  NaN       NaN     Rio de Janeiro     Botafogo\n",
       "951463  1413278    M    1984.0             Parana  Corinthians\n",
       "\n",
       "[951464 rows x 5 columns]"
      ]
     },
     "execution_count": 106,
     "metadata": {},
     "output_type": "execute_result"
    }
   ],
   "source": [
    "df_bem_time = pd.read_csv(os.path.join(data_path, 'BD_DEM_TIME.csv'))\n",
    "df_bem_time"
   ]
  },
  {
   "cell_type": "markdown",
   "metadata": {},
   "source": [
    "## Data de Nascimento"
   ]
  },
  {
   "cell_type": "code",
   "execution_count": 107,
   "metadata": {},
   "outputs": [],
   "source": [
    "column = 'DTA_NASC'\n",
    "mask = (df_bem_time[column]>ano_antigo) & (df_bem_time[column]<ano_atual)\n",
    "df_bem_time.loc[~mask, column] = None # joga quem ta fora da data para None\n",
    "df_bem_time['IDADE'] = ano_atual - df_bem_time[column]\n",
    "df_bem_time = df_bem_time.drop(columns=[column])"
   ]
  },
  {
   "cell_type": "markdown",
   "metadata": {},
   "source": [
    "## Idade"
   ]
  },
  {
   "cell_type": "code",
   "execution_count": 108,
   "metadata": {},
   "outputs": [
    {
     "data": {
      "text/plain": [
       "<AxesSubplot:title={'center':'IDADE'}, ylabel='Frequency'>"
      ]
     },
     "execution_count": 108,
     "metadata": {},
     "output_type": "execute_result"
    },
    {
     "data": {
      "image/png": "[encoded data removed]",
      "text/plain": [
       "<Figure size 1440x432 with 1 Axes>"
      ]
     },
     "metadata": {
      "needs_background": "light"
     },
     "output_type": "display_data"
    }
   ],
   "source": [
    "# Existem valores estranhos para Data de Nascimento\n",
    "column='IDADE'\n",
    "df_bem_time[column].plot.hist(figsize=(20, 6), title=column, bins=20)"
   ]
  },
  {
   "cell_type": "code",
   "execution_count": 112,
   "metadata": {},
   "outputs": [
    {
     "data": {
      "text/html": [
       "<div>\n",
       "<style scoped>\n",
       "    .dataframe tbody tr th:only-of-type {\n",
       "        vertical-align: middle;\n",
       "    }\n",
       "\n",
       "    .dataframe tbody tr th {\n",
       "        vertical-align: top;\n",
       "    }\n",
       "\n",
       "    .dataframe thead th {\n",
       "        text-align: right;\n",
       "    }\n",
       "</style>\n",
       "<table border=\"1\" class=\"dataframe\">\n",
       "  <thead>\n",
       "    <tr style=\"text-align: right;\">\n",
       "      <th></th>\n",
       "      <th>KEY</th>\n",
       "      <th>IDADE</th>\n",
       "    </tr>\n",
       "  </thead>\n",
       "  <tbody>\n",
       "    <tr>\n",
       "      <th>count</th>\n",
       "      <td>9.514640e+05</td>\n",
       "      <td>912526.000000</td>\n",
       "    </tr>\n",
       "    <tr>\n",
       "      <th>mean</th>\n",
       "      <td>1.708691e+06</td>\n",
       "      <td>33.298431</td>\n",
       "    </tr>\n",
       "    <tr>\n",
       "      <th>std</th>\n",
       "      <td>9.852548e+05</td>\n",
       "      <td>9.324710</td>\n",
       "    </tr>\n",
       "    <tr>\n",
       "      <th>min</th>\n",
       "      <td>3.000000e+00</td>\n",
       "      <td>3.000000</td>\n",
       "    </tr>\n",
       "    <tr>\n",
       "      <th>25%</th>\n",
       "      <td>8.548928e+05</td>\n",
       "      <td>27.000000</td>\n",
       "    </tr>\n",
       "    <tr>\n",
       "      <th>50%</th>\n",
       "      <td>1.709532e+06</td>\n",
       "      <td>32.000000</td>\n",
       "    </tr>\n",
       "    <tr>\n",
       "      <th>75%</th>\n",
       "      <td>2.562060e+06</td>\n",
       "      <td>38.000000</td>\n",
       "    </tr>\n",
       "    <tr>\n",
       "      <th>max</th>\n",
       "      <td>3.414422e+06</td>\n",
       "      <td>120.000000</td>\n",
       "    </tr>\n",
       "  </tbody>\n",
       "</table>\n",
       "</div>"
      ],
      "text/plain": [
       "                KEY          IDADE\n",
       "count  9.514640e+05  912526.000000\n",
       "mean   1.708691e+06      33.298431\n",
       "std    9.852548e+05       9.324710\n",
       "min    3.000000e+00       3.000000\n",
       "25%    8.548928e+05      27.000000\n",
       "50%    1.709532e+06      32.000000\n",
       "75%    2.562060e+06      38.000000\n",
       "max    3.414422e+06     120.000000"
      ]
     },
     "execution_count": 112,
     "metadata": {},
     "output_type": "execute_result"
    }
   ],
   "source": [
    "df_bem_time.describe()"
   ]
  },
  {
   "cell_type": "code",
   "execution_count": 111,
   "metadata": {},
   "outputs": [
    {
     "data": {
      "text/plain": [
       "38938"
      ]
     },
     "execution_count": 111,
     "metadata": {},
     "output_type": "execute_result"
    }
   ],
   "source": [
    "# Quantidade de Idades Nulas\n",
    "column='IDADE'\n",
    "df_bem_time[column].isna().sum()"
   ]
  },
  {
   "cell_type": "markdown",
   "metadata": {},
   "source": [
    "## Sexo"
   ]
  },
  {
   "cell_type": "code",
   "execution_count": 113,
   "metadata": {},
   "outputs": [],
   "source": [
    "column='SEXO'\n",
    "mask = (df_bem_time[column] == 'M') | (df_bem_time[column] == 'F')\n",
    "df_bem_time.loc[~mask, 'SEXO'] = None"
   ]
  },
  {
   "cell_type": "code",
   "execution_count": 124,
   "metadata": {},
   "outputs": [
    {
     "data": {
      "text/plain": [
       "<AxesSubplot:title={'center':'SEXO'}>"
      ]
     },
     "execution_count": 124,
     "metadata": {},
     "output_type": "execute_result"
    },
    {
     "data": {
      "image/png": "[encoded data removed]",
      "text/plain": [
       "<Figure size 1440x432 with 1 Axes>"
      ]
     },
     "metadata": {
      "needs_background": "light"
     },
     "output_type": "display_data"
    }
   ],
   "source": [
    "df_bem_time[column].value_counts().plot.bar(figsize=(20, 6), title=column)"
   ]
  },
  {
   "cell_type": "code",
   "execution_count": 118,
   "metadata": {},
   "outputs": [
    {
     "data": {
      "text/html": [
       "<div>\n",
       "<style scoped>\n",
       "    .dataframe tbody tr th:only-of-type {\n",
       "        vertical-align: middle;\n",
       "    }\n",
       "\n",
       "    .dataframe tbody tr th {\n",
       "        vertical-align: top;\n",
       "    }\n",
       "\n",
       "    .dataframe thead th {\n",
       "        text-align: right;\n",
       "    }\n",
       "</style>\n",
       "<table border=\"1\" class=\"dataframe\">\n",
       "  <thead>\n",
       "    <tr style=\"text-align: right;\">\n",
       "      <th></th>\n",
       "      <th>SEXO</th>\n",
       "    </tr>\n",
       "  </thead>\n",
       "  <tbody>\n",
       "    <tr>\n",
       "      <th>M</th>\n",
       "      <td>858914</td>\n",
       "    </tr>\n",
       "    <tr>\n",
       "      <th>F</th>\n",
       "      <td>51345</td>\n",
       "    </tr>\n",
       "    <tr>\n",
       "      <th>NaN</th>\n",
       "      <td>41205</td>\n",
       "    </tr>\n",
       "  </tbody>\n",
       "</table>\n",
       "</div>"
      ],
      "text/plain": [
       "       SEXO\n",
       "M    858914\n",
       "F     51345\n",
       "NaN   41205"
      ]
     },
     "execution_count": 118,
     "metadata": {},
     "output_type": "execute_result"
    }
   ],
   "source": [
    "df_bem_time[column].value_counts(dropna=False).to_frame()"
   ]
  },
  {
   "cell_type": "markdown",
   "metadata": {},
   "source": [
    "## Estado"
   ]
  },
  {
   "cell_type": "code",
   "execution_count": 130,
   "metadata": {},
   "outputs": [],
   "source": [
    "column = 'ESTADO'\n",
    "df_bem_time.loc[df_bem_time[column]=='Nao informado', column] = None"
   ]
  },
  {
   "cell_type": "code",
   "execution_count": 134,
   "metadata": {
    "scrolled": false
   },
   "outputs": [
    {
     "data": {
      "text/plain": [
       "<AxesSubplot:title={'center':'ESTADO'}>"
      ]
     },
     "execution_count": 134,
     "metadata": {},
     "output_type": "execute_result"
    },
    {
     "data": {
      "image/png": "[encoded data removed]",
      "text/plain": [
       "<Figure size 1440x432 with 1 Axes>"
      ]
     },
     "metadata": {
      "needs_background": "light"
     },
     "output_type": "display_data"
    }
   ],
   "source": [
    "column = 'ESTADO'\n",
    "df_bem_time[column].value_counts().plot.bar(figsize=(20, 6), title=column)"
   ]
  },
  {
   "cell_type": "code",
   "execution_count": 132,
   "metadata": {},
   "outputs": [
    {
     "data": {
      "text/html": [
       "<div>\n",
       "<style scoped>\n",
       "    .dataframe tbody tr th:only-of-type {\n",
       "        vertical-align: middle;\n",
       "    }\n",
       "\n",
       "    .dataframe tbody tr th {\n",
       "        vertical-align: top;\n",
       "    }\n",
       "\n",
       "    .dataframe thead th {\n",
       "        text-align: right;\n",
       "    }\n",
       "</style>\n",
       "<table border=\"1\" class=\"dataframe\">\n",
       "  <thead>\n",
       "    <tr style=\"text-align: right;\">\n",
       "      <th></th>\n",
       "      <th>ESTADO</th>\n",
       "    </tr>\n",
       "  </thead>\n",
       "  <tbody>\n",
       "    <tr>\n",
       "      <th>Sao Paulo</th>\n",
       "      <td>298040</td>\n",
       "    </tr>\n",
       "    <tr>\n",
       "      <th>Rio de Janeiro</th>\n",
       "      <td>150608</td>\n",
       "    </tr>\n",
       "    <tr>\n",
       "      <th>Minas Gerais</th>\n",
       "      <td>108878</td>\n",
       "    </tr>\n",
       "    <tr>\n",
       "      <th>Rio Grande do Sul</th>\n",
       "      <td>52139</td>\n",
       "    </tr>\n",
       "    <tr>\n",
       "      <th>Parana</th>\n",
       "      <td>49036</td>\n",
       "    </tr>\n",
       "    <tr>\n",
       "      <th>Bahia</th>\n",
       "      <td>47848</td>\n",
       "    </tr>\n",
       "    <tr>\n",
       "      <th>Santa Catarina</th>\n",
       "      <td>34581</td>\n",
       "    </tr>\n",
       "    <tr>\n",
       "      <th>Distrito Federal</th>\n",
       "      <td>24311</td>\n",
       "    </tr>\n",
       "    <tr>\n",
       "      <th>Espirito Santo</th>\n",
       "      <td>23790</td>\n",
       "    </tr>\n",
       "    <tr>\n",
       "      <th>Pernambuco</th>\n",
       "      <td>23001</td>\n",
       "    </tr>\n",
       "    <tr>\n",
       "      <th>Goias</th>\n",
       "      <td>21742</td>\n",
       "    </tr>\n",
       "    <tr>\n",
       "      <th>Paraiba</th>\n",
       "      <td>13130</td>\n",
       "    </tr>\n",
       "    <tr>\n",
       "      <th>Ceara</th>\n",
       "      <td>13059</td>\n",
       "    </tr>\n",
       "    <tr>\n",
       "      <th>Rio Grande do Norte</th>\n",
       "      <td>12802</td>\n",
       "    </tr>\n",
       "    <tr>\n",
       "      <th>Mato Grosso</th>\n",
       "      <td>10736</td>\n",
       "    </tr>\n",
       "    <tr>\n",
       "      <th>Mato Grosso do Sul</th>\n",
       "      <td>9242</td>\n",
       "    </tr>\n",
       "    <tr>\n",
       "      <th>Maranhao</th>\n",
       "      <td>9225</td>\n",
       "    </tr>\n",
       "    <tr>\n",
       "      <th>Para</th>\n",
       "      <td>7620</td>\n",
       "    </tr>\n",
       "    <tr>\n",
       "      <th>Piaui</th>\n",
       "      <td>6867</td>\n",
       "    </tr>\n",
       "    <tr>\n",
       "      <th>Alagoas</th>\n",
       "      <td>6405</td>\n",
       "    </tr>\n",
       "    <tr>\n",
       "      <th>Amazonas</th>\n",
       "      <td>6358</td>\n",
       "    </tr>\n",
       "    <tr>\n",
       "      <th>Sergipe</th>\n",
       "      <td>5815</td>\n",
       "    </tr>\n",
       "    <tr>\n",
       "      <th>Rondonia</th>\n",
       "      <td>4808</td>\n",
       "    </tr>\n",
       "    <tr>\n",
       "      <th>Tocantins</th>\n",
       "      <td>4192</td>\n",
       "    </tr>\n",
       "    <tr>\n",
       "      <th>Acre</th>\n",
       "      <td>3047</td>\n",
       "    </tr>\n",
       "    <tr>\n",
       "      <th>Amapa</th>\n",
       "      <td>1538</td>\n",
       "    </tr>\n",
       "    <tr>\n",
       "      <th>Fora do Brasil</th>\n",
       "      <td>1456</td>\n",
       "    </tr>\n",
       "    <tr>\n",
       "      <th>Roraima</th>\n",
       "      <td>943</td>\n",
       "    </tr>\n",
       "    <tr>\n",
       "      <th>NaN</th>\n",
       "      <td>247</td>\n",
       "    </tr>\n",
       "  </tbody>\n",
       "</table>\n",
       "</div>"
      ],
      "text/plain": [
       "                     ESTADO\n",
       "Sao Paulo            298040\n",
       "Rio de Janeiro       150608\n",
       "Minas Gerais         108878\n",
       "Rio Grande do Sul     52139\n",
       "Parana                49036\n",
       "Bahia                 47848\n",
       "Santa Catarina        34581\n",
       "Distrito Federal      24311\n",
       "Espirito Santo        23790\n",
       "Pernambuco            23001\n",
       "Goias                 21742\n",
       "Paraiba               13130\n",
       "Ceara                 13059\n",
       "Rio Grande do Norte   12802\n",
       "Mato Grosso           10736\n",
       "Mato Grosso do Sul     9242\n",
       "Maranhao               9225\n",
       "Para                   7620\n",
       "Piaui                  6867\n",
       "Alagoas                6405\n",
       "Amazonas               6358\n",
       "Sergipe                5815\n",
       "Rondonia               4808\n",
       "Tocantins              4192\n",
       "Acre                   3047\n",
       "Amapa                  1538\n",
       "Fora do Brasil         1456\n",
       "Roraima                 943\n",
       "NaN                     247"
      ]
     },
     "execution_count": 132,
     "metadata": {},
     "output_type": "execute_result"
    }
   ],
   "source": [
    "df_bem_time[column].value_counts(dropna=False).to_frame()"
   ]
  },
  {
   "cell_type": "markdown",
   "metadata": {},
   "source": [
    "## Time"
   ]
  },
  {
   "cell_type": "code",
   "execution_count": 140,
   "metadata": {
    "scrolled": false
   },
   "outputs": [
    {
     "name": "stdout",
     "output_type": "stream",
     "text": [
      "Total de Times: 29\n"
     ]
    },
    {
     "data": {
      "text/plain": [
       "<AxesSubplot:title={'center':'TIME'}>"
      ]
     },
     "execution_count": 140,
     "metadata": {},
     "output_type": "execute_result"
    },
    {
     "data": {
      "image/png": "[encoded data removed]",
      "text/plain": [
       "<Figure size 1440x432 with 1 Axes>"
      ]
     },
     "metadata": {
      "needs_background": "light"
     },
     "output_type": "display_data"
    }
   ],
   "source": [
    "column='TIME'\n",
    "print('Total de Times:', len(df_bem_time[column].unique()))\n",
    "df_bem_time[column].value_counts().plot.bar(figsize=(20, 6), title=column)"
   ]
  },
  {
   "cell_type": "code",
   "execution_count": 136,
   "metadata": {},
   "outputs": [
    {
     "data": {
      "text/html": [
       "<div>\n",
       "<style scoped>\n",
       "    .dataframe tbody tr th:only-of-type {\n",
       "        vertical-align: middle;\n",
       "    }\n",
       "\n",
       "    .dataframe tbody tr th {\n",
       "        vertical-align: top;\n",
       "    }\n",
       "\n",
       "    .dataframe thead th {\n",
       "        text-align: right;\n",
       "    }\n",
       "</style>\n",
       "<table border=\"1\" class=\"dataframe\">\n",
       "  <thead>\n",
       "    <tr style=\"text-align: right;\">\n",
       "      <th></th>\n",
       "      <th>TIME</th>\n",
       "    </tr>\n",
       "  </thead>\n",
       "  <tbody>\n",
       "    <tr>\n",
       "      <th>Flamengo</th>\n",
       "      <td>189334</td>\n",
       "    </tr>\n",
       "    <tr>\n",
       "      <th>Corinthians</th>\n",
       "      <td>153985</td>\n",
       "    </tr>\n",
       "    <tr>\n",
       "      <th>Sao Paulo</th>\n",
       "      <td>133624</td>\n",
       "    </tr>\n",
       "    <tr>\n",
       "      <th>Palmeiras</th>\n",
       "      <td>103745</td>\n",
       "    </tr>\n",
       "    <tr>\n",
       "      <th>Vasco</th>\n",
       "      <td>67106</td>\n",
       "    </tr>\n",
       "    <tr>\n",
       "      <th>Cruzeiro</th>\n",
       "      <td>48067</td>\n",
       "    </tr>\n",
       "    <tr>\n",
       "      <th>Santos</th>\n",
       "      <td>45403</td>\n",
       "    </tr>\n",
       "    <tr>\n",
       "      <th>Gremio</th>\n",
       "      <td>43627</td>\n",
       "    </tr>\n",
       "    <tr>\n",
       "      <th>Atletico-MG</th>\n",
       "      <td>30082</td>\n",
       "    </tr>\n",
       "    <tr>\n",
       "      <th>Internacional</th>\n",
       "      <td>28143</td>\n",
       "    </tr>\n",
       "    <tr>\n",
       "      <th>Fluminense</th>\n",
       "      <td>26426</td>\n",
       "    </tr>\n",
       "    <tr>\n",
       "      <th>Botafogo</th>\n",
       "      <td>25644</td>\n",
       "    </tr>\n",
       "    <tr>\n",
       "      <th>Bahia</th>\n",
       "      <td>12683</td>\n",
       "    </tr>\n",
       "    <tr>\n",
       "      <th>Sport</th>\n",
       "      <td>11968</td>\n",
       "    </tr>\n",
       "    <tr>\n",
       "      <th>Vitoria</th>\n",
       "      <td>8075</td>\n",
       "    </tr>\n",
       "    <tr>\n",
       "      <th>Atletico-PR</th>\n",
       "      <td>6751</td>\n",
       "    </tr>\n",
       "    <tr>\n",
       "      <th>Nautico</th>\n",
       "      <td>2896</td>\n",
       "    </tr>\n",
       "    <tr>\n",
       "      <th>Goiais</th>\n",
       "      <td>2220</td>\n",
       "    </tr>\n",
       "    <tr>\n",
       "      <th>Figueirense</th>\n",
       "      <td>2183</td>\n",
       "    </tr>\n",
       "    <tr>\n",
       "      <th>Chapecoense</th>\n",
       "      <td>2171</td>\n",
       "    </tr>\n",
       "    <tr>\n",
       "      <th>ABC</th>\n",
       "      <td>2087</td>\n",
       "    </tr>\n",
       "    <tr>\n",
       "      <th>Paysandu</th>\n",
       "      <td>1447</td>\n",
       "    </tr>\n",
       "    <tr>\n",
       "      <th>Ponte Preta</th>\n",
       "      <td>1332</td>\n",
       "    </tr>\n",
       "    <tr>\n",
       "      <th>America-RN</th>\n",
       "      <td>1202</td>\n",
       "    </tr>\n",
       "    <tr>\n",
       "      <th>Portuguesa</th>\n",
       "      <td>631</td>\n",
       "    </tr>\n",
       "    <tr>\n",
       "      <th>Icasa</th>\n",
       "      <td>195</td>\n",
       "    </tr>\n",
       "    <tr>\n",
       "      <th>Luverdense</th>\n",
       "      <td>176</td>\n",
       "    </tr>\n",
       "    <tr>\n",
       "      <th>Bragantino</th>\n",
       "      <td>138</td>\n",
       "    </tr>\n",
       "    <tr>\n",
       "      <th>Gremio Prudente</th>\n",
       "      <td>123</td>\n",
       "    </tr>\n",
       "  </tbody>\n",
       "</table>\n",
       "</div>"
      ],
      "text/plain": [
       "                   TIME\n",
       "Flamengo         189334\n",
       "Corinthians      153985\n",
       "Sao Paulo        133624\n",
       "Palmeiras        103745\n",
       "Vasco             67106\n",
       "Cruzeiro          48067\n",
       "Santos            45403\n",
       "Gremio            43627\n",
       "Atletico-MG       30082\n",
       "Internacional     28143\n",
       "Fluminense        26426\n",
       "Botafogo          25644\n",
       "Bahia             12683\n",
       "Sport             11968\n",
       "Vitoria            8075\n",
       "Atletico-PR        6751\n",
       "Nautico            2896\n",
       "Goiais             2220\n",
       "Figueirense        2183\n",
       "Chapecoense        2171\n",
       "ABC                2087\n",
       "Paysandu           1447\n",
       "Ponte Preta        1332\n",
       "America-RN         1202\n",
       "Portuguesa          631\n",
       "Icasa               195\n",
       "Luverdense          176\n",
       "Bragantino          138\n",
       "Gremio Prudente     123"
      ]
     },
     "execution_count": 136,
     "metadata": {},
     "output_type": "execute_result"
    }
   ],
   "source": [
    "column='TIME'\n",
    "df_bem_time[column].value_counts(dropna=False).to_frame()"
   ]
  },
  {
   "cell_type": "markdown",
   "metadata": {},
   "source": [
    "# BD_SERVICOS.csv"
   ]
  },
  {
   "cell_type": "code",
   "execution_count": 141,
   "metadata": {},
   "outputs": [
    {
     "data": {
      "text/html": [
       "<div>\n",
       "<style scoped>\n",
       "    .dataframe tbody tr th:only-of-type {\n",
       "        vertical-align: middle;\n",
       "    }\n",
       "\n",
       "    .dataframe tbody tr th {\n",
       "        vertical-align: top;\n",
       "    }\n",
       "\n",
       "    .dataframe thead th {\n",
       "        text-align: right;\n",
       "    }\n",
       "</style>\n",
       "<table border=\"1\" class=\"dataframe\">\n",
       "  <thead>\n",
       "    <tr style=\"text-align: right;\">\n",
       "      <th></th>\n",
       "      <th>KEY</th>\n",
       "      <th>GLOBOPLAY</th>\n",
       "      <th>PREMIERE_PLAY</th>\n",
       "      <th>GLOBOSAT_PLAY</th>\n",
       "      <th>COMBATE</th>\n",
       "      <th>CARTOLA_PRO</th>\n",
       "    </tr>\n",
       "  </thead>\n",
       "  <tbody>\n",
       "    <tr>\n",
       "      <th>0</th>\n",
       "      <td>2812202</td>\n",
       "      <td>0</td>\n",
       "      <td>0</td>\n",
       "      <td>0</td>\n",
       "      <td>0</td>\n",
       "      <td>0</td>\n",
       "    </tr>\n",
       "    <tr>\n",
       "      <th>1</th>\n",
       "      <td>609314</td>\n",
       "      <td>0</td>\n",
       "      <td>0</td>\n",
       "      <td>0</td>\n",
       "      <td>0</td>\n",
       "      <td>0</td>\n",
       "    </tr>\n",
       "    <tr>\n",
       "      <th>2</th>\n",
       "      <td>1837779</td>\n",
       "      <td>0</td>\n",
       "      <td>0</td>\n",
       "      <td>0</td>\n",
       "      <td>0</td>\n",
       "      <td>0</td>\n",
       "    </tr>\n",
       "    <tr>\n",
       "      <th>3</th>\n",
       "      <td>950603</td>\n",
       "      <td>0</td>\n",
       "      <td>0</td>\n",
       "      <td>0</td>\n",
       "      <td>0</td>\n",
       "      <td>0</td>\n",
       "    </tr>\n",
       "    <tr>\n",
       "      <th>4</th>\n",
       "      <td>2105538</td>\n",
       "      <td>0</td>\n",
       "      <td>0</td>\n",
       "      <td>1</td>\n",
       "      <td>0</td>\n",
       "      <td>0</td>\n",
       "    </tr>\n",
       "    <tr>\n",
       "      <th>...</th>\n",
       "      <td>...</td>\n",
       "      <td>...</td>\n",
       "      <td>...</td>\n",
       "      <td>...</td>\n",
       "      <td>...</td>\n",
       "      <td>...</td>\n",
       "    </tr>\n",
       "    <tr>\n",
       "      <th>951459</th>\n",
       "      <td>1278011</td>\n",
       "      <td>1</td>\n",
       "      <td>0</td>\n",
       "      <td>1</td>\n",
       "      <td>0</td>\n",
       "      <td>1</td>\n",
       "    </tr>\n",
       "    <tr>\n",
       "      <th>951460</th>\n",
       "      <td>2042105</td>\n",
       "      <td>1</td>\n",
       "      <td>0</td>\n",
       "      <td>0</td>\n",
       "      <td>0</td>\n",
       "      <td>1</td>\n",
       "    </tr>\n",
       "    <tr>\n",
       "      <th>951461</th>\n",
       "      <td>1898803</td>\n",
       "      <td>1</td>\n",
       "      <td>1</td>\n",
       "      <td>1</td>\n",
       "      <td>0</td>\n",
       "      <td>1</td>\n",
       "    </tr>\n",
       "    <tr>\n",
       "      <th>951462</th>\n",
       "      <td>3106291</td>\n",
       "      <td>1</td>\n",
       "      <td>0</td>\n",
       "      <td>1</td>\n",
       "      <td>0</td>\n",
       "      <td>1</td>\n",
       "    </tr>\n",
       "    <tr>\n",
       "      <th>951463</th>\n",
       "      <td>897760</td>\n",
       "      <td>1</td>\n",
       "      <td>1</td>\n",
       "      <td>0</td>\n",
       "      <td>0</td>\n",
       "      <td>1</td>\n",
       "    </tr>\n",
       "  </tbody>\n",
       "</table>\n",
       "<p>951464 rows × 6 columns</p>\n",
       "</div>"
      ],
      "text/plain": [
       "            KEY  GLOBOPLAY  PREMIERE_PLAY  GLOBOSAT_PLAY  COMBATE  CARTOLA_PRO\n",
       "0       2812202          0              0              0        0            0\n",
       "1        609314          0              0              0        0            0\n",
       "2       1837779          0              0              0        0            0\n",
       "3        950603          0              0              0        0            0\n",
       "4       2105538          0              0              1        0            0\n",
       "...         ...        ...            ...            ...      ...          ...\n",
       "951459  1278011          1              0              1        0            1\n",
       "951460  2042105          1              0              0        0            1\n",
       "951461  1898803          1              1              1        0            1\n",
       "951462  3106291          1              0              1        0            1\n",
       "951463   897760          1              1              0        0            1\n",
       "\n",
       "[951464 rows x 6 columns]"
      ]
     },
     "execution_count": 141,
     "metadata": {},
     "output_type": "execute_result"
    }
   ],
   "source": [
    "df_servicos = pd.read_csv(os.path.join(data_path, 'BD_SERVICOS.csv'))\n",
    "df_servicos"
   ]
  },
  {
   "cell_type": "code",
   "execution_count": 7,
   "metadata": {},
   "outputs": [
    {
     "data": {
      "text/html": [
       "<div>\n",
       "<style scoped>\n",
       "    .dataframe tbody tr th:only-of-type {\n",
       "        vertical-align: middle;\n",
       "    }\n",
       "\n",
       "    .dataframe tbody tr th {\n",
       "        vertical-align: top;\n",
       "    }\n",
       "\n",
       "    .dataframe thead th {\n",
       "        text-align: right;\n",
       "    }\n",
       "</style>\n",
       "<table border=\"1\" class=\"dataframe\">\n",
       "  <thead>\n",
       "    <tr style=\"text-align: right;\">\n",
       "      <th></th>\n",
       "      <th>KEY</th>\n",
       "      <th>GLOBOPLAY</th>\n",
       "      <th>PREMIERE_PLAY</th>\n",
       "      <th>GLOBOSAT_PLAY</th>\n",
       "      <th>COMBATE</th>\n",
       "      <th>CARTOLA_PRO</th>\n",
       "    </tr>\n",
       "  </thead>\n",
       "  <tbody>\n",
       "    <tr>\n",
       "      <th>count</th>\n",
       "      <td>9.514640e+05</td>\n",
       "      <td>951464.000000</td>\n",
       "      <td>951464.000000</td>\n",
       "      <td>951464.000000</td>\n",
       "      <td>951464.000000</td>\n",
       "      <td>951464.000000</td>\n",
       "    </tr>\n",
       "    <tr>\n",
       "      <th>mean</th>\n",
       "      <td>1.708691e+06</td>\n",
       "      <td>0.401452</td>\n",
       "      <td>0.185091</td>\n",
       "      <td>0.237106</td>\n",
       "      <td>0.017795</td>\n",
       "      <td>0.154316</td>\n",
       "    </tr>\n",
       "    <tr>\n",
       "      <th>std</th>\n",
       "      <td>9.852548e+05</td>\n",
       "      <td>0.490192</td>\n",
       "      <td>0.388371</td>\n",
       "      <td>0.425308</td>\n",
       "      <td>0.132205</td>\n",
       "      <td>0.361251</td>\n",
       "    </tr>\n",
       "    <tr>\n",
       "      <th>min</th>\n",
       "      <td>3.000000e+00</td>\n",
       "      <td>0.000000</td>\n",
       "      <td>0.000000</td>\n",
       "      <td>0.000000</td>\n",
       "      <td>0.000000</td>\n",
       "      <td>0.000000</td>\n",
       "    </tr>\n",
       "    <tr>\n",
       "      <th>25%</th>\n",
       "      <td>8.548928e+05</td>\n",
       "      <td>0.000000</td>\n",
       "      <td>0.000000</td>\n",
       "      <td>0.000000</td>\n",
       "      <td>0.000000</td>\n",
       "      <td>0.000000</td>\n",
       "    </tr>\n",
       "    <tr>\n",
       "      <th>50%</th>\n",
       "      <td>1.709532e+06</td>\n",
       "      <td>0.000000</td>\n",
       "      <td>0.000000</td>\n",
       "      <td>0.000000</td>\n",
       "      <td>0.000000</td>\n",
       "      <td>0.000000</td>\n",
       "    </tr>\n",
       "    <tr>\n",
       "      <th>75%</th>\n",
       "      <td>2.562060e+06</td>\n",
       "      <td>1.000000</td>\n",
       "      <td>0.000000</td>\n",
       "      <td>0.000000</td>\n",
       "      <td>0.000000</td>\n",
       "      <td>0.000000</td>\n",
       "    </tr>\n",
       "    <tr>\n",
       "      <th>max</th>\n",
       "      <td>3.414422e+06</td>\n",
       "      <td>1.000000</td>\n",
       "      <td>1.000000</td>\n",
       "      <td>1.000000</td>\n",
       "      <td>1.000000</td>\n",
       "      <td>1.000000</td>\n",
       "    </tr>\n",
       "  </tbody>\n",
       "</table>\n",
       "</div>"
      ],
      "text/plain": [
       "                KEY      GLOBOPLAY  PREMIERE_PLAY  GLOBOSAT_PLAY  \\\n",
       "count  9.514640e+05  951464.000000  951464.000000  951464.000000   \n",
       "mean   1.708691e+06       0.401452       0.185091       0.237106   \n",
       "std    9.852548e+05       0.490192       0.388371       0.425308   \n",
       "min    3.000000e+00       0.000000       0.000000       0.000000   \n",
       "25%    8.548928e+05       0.000000       0.000000       0.000000   \n",
       "50%    1.709532e+06       0.000000       0.000000       0.000000   \n",
       "75%    2.562060e+06       1.000000       0.000000       0.000000   \n",
       "max    3.414422e+06       1.000000       1.000000       1.000000   \n",
       "\n",
       "             COMBATE    CARTOLA_PRO  \n",
       "count  951464.000000  951464.000000  \n",
       "mean        0.017795       0.154316  \n",
       "std         0.132205       0.361251  \n",
       "min         0.000000       0.000000  \n",
       "25%         0.000000       0.000000  \n",
       "50%         0.000000       0.000000  \n",
       "75%         0.000000       0.000000  \n",
       "max         1.000000       1.000000  "
      ]
     },
     "execution_count": 7,
     "metadata": {},
     "output_type": "execute_result"
    }
   ],
   "source": [
    "df_servicos.describe() # São colunas categóricas de fato"
   ]
  },
  {
   "cell_type": "code",
   "execution_count": 166,
   "metadata": {},
   "outputs": [
    {
     "data": {
      "text/plain": [
       "<AxesSubplot:>"
      ]
     },
     "execution_count": 166,
     "metadata": {},
     "output_type": "execute_result"
    },
    {
     "data": {
      "image/png": "[encoded data removed]",
      "text/plain": [
       "<Figure size 1440x432 with 1 Axes>"
      ]
     },
     "metadata": {
      "needs_background": "light"
     },
     "output_type": "display_data"
    }
   ],
   "source": [
    "df_servicos.drop(columns=['KEY']).sum().sort_values(ascending=False).plot.bar(figsize=(20, 6))"
   ]
  },
  {
   "cell_type": "code",
   "execution_count": 165,
   "metadata": {},
   "outputs": [
    {
     "data": {
      "text/plain": [
       "<AxesSubplot:title={'center':'Número de Serviços por Usuário'}>"
      ]
     },
     "execution_count": 165,
     "metadata": {},
     "output_type": "execute_result"
    },
    {
     "data": {
      "image/png": "[encoded data removed]",
      "text/plain": [
       "<Figure size 1440x432 with 1 Axes>"
      ]
     },
     "metadata": {
      "needs_background": "light"
     },
     "output_type": "display_data"
    }
   ],
   "source": [
    "plt.title('Número de Serviços por Usuário')\n",
    "df_servicos.drop(columns=['KEY']).sum(axis=1).hist(figsize=(20, 6), bins=5, align='left', rwidth=0.8)"
   ]
  },
  {
   "cell_type": "markdown",
   "metadata": {},
   "source": [
    "# BD_CONSUMO.csv"
   ]
  },
  {
   "cell_type": "code",
   "execution_count": 256,
   "metadata": {},
   "outputs": [
    {
     "data": {
      "text/plain": [
       "(14174706, 3)"
      ]
     },
     "execution_count": 256,
     "metadata": {},
     "output_type": "execute_result"
    }
   ],
   "source": [
    "df_consumo = pd.read_csv(os.path.join(data_path, 'BD_CONSUMO.csv'))\n",
    "df_consumo = df_consumo.dropna()\n",
    "df_consumo.shape"
   ]
  },
  {
   "cell_type": "code",
   "execution_count": 176,
   "metadata": {},
   "outputs": [],
   "source": [
    "df_group_consumo = df_consumo.groupby('KEY')"
   ]
  },
  {
   "cell_type": "code",
   "execution_count": 206,
   "metadata": {},
   "outputs": [
    {
     "data": {
      "text/plain": [
       "<AxesSubplot:>"
      ]
     },
     "execution_count": 206,
     "metadata": {},
     "output_type": "execute_result"
    },
    {
     "data": {
      "image/png": "[encoded data removed]",
      "text/plain": [
       "<Figure size 1440x432 with 1 Axes>"
      ]
     },
     "metadata": {
      "needs_background": "light"
     },
     "output_type": "display_data"
    }
   ],
   "source": [
    "df_group_consumo.count()['tempo'].hist(figsize=(20, 6), bins=100, log=True)"
   ]
  },
  {
   "cell_type": "code",
   "execution_count": 207,
   "metadata": {},
   "outputs": [
    {
     "data": {
      "text/html": [
       "<div>\n",
       "<style scoped>\n",
       "    .dataframe tbody tr th:only-of-type {\n",
       "        vertical-align: middle;\n",
       "    }\n",
       "\n",
       "    .dataframe tbody tr th {\n",
       "        vertical-align: top;\n",
       "    }\n",
       "\n",
       "    .dataframe thead th {\n",
       "        text-align: right;\n",
       "    }\n",
       "</style>\n",
       "<table border=\"1\" class=\"dataframe\">\n",
       "  <thead>\n",
       "    <tr style=\"text-align: right;\">\n",
       "      <th></th>\n",
       "      <th>tempo</th>\n",
       "    </tr>\n",
       "  </thead>\n",
       "  <tbody>\n",
       "    <tr>\n",
       "      <th>count</th>\n",
       "      <td>711705.0</td>\n",
       "    </tr>\n",
       "    <tr>\n",
       "      <th>mean</th>\n",
       "      <td>19.92</td>\n",
       "    </tr>\n",
       "    <tr>\n",
       "      <th>std</th>\n",
       "      <td>35.1</td>\n",
       "    </tr>\n",
       "    <tr>\n",
       "      <th>min</th>\n",
       "      <td>1.0</td>\n",
       "    </tr>\n",
       "    <tr>\n",
       "      <th>25%</th>\n",
       "      <td>2.0</td>\n",
       "    </tr>\n",
       "    <tr>\n",
       "      <th>50%</th>\n",
       "      <td>7.0</td>\n",
       "    </tr>\n",
       "    <tr>\n",
       "      <th>75%</th>\n",
       "      <td>23.0</td>\n",
       "    </tr>\n",
       "    <tr>\n",
       "      <th>90%</th>\n",
       "      <td>53.0</td>\n",
       "    </tr>\n",
       "    <tr>\n",
       "      <th>95%</th>\n",
       "      <td>82.0</td>\n",
       "    </tr>\n",
       "    <tr>\n",
       "      <th>99%</th>\n",
       "      <td>161.0</td>\n",
       "    </tr>\n",
       "    <tr>\n",
       "      <th>99.9%</th>\n",
       "      <td>328.0</td>\n",
       "    </tr>\n",
       "    <tr>\n",
       "      <th>max</th>\n",
       "      <td>3011.0</td>\n",
       "    </tr>\n",
       "  </tbody>\n",
       "</table>\n",
       "</div>"
      ],
      "text/plain": [
       "          tempo\n",
       "count  711705.0\n",
       "mean      19.92\n",
       "std        35.1\n",
       "min         1.0\n",
       "25%         2.0\n",
       "50%         7.0\n",
       "75%        23.0\n",
       "90%        53.0\n",
       "95%        82.0\n",
       "99%       161.0\n",
       "99.9%     328.0\n",
       "max      3011.0"
      ]
     },
     "execution_count": 207,
     "metadata": {},
     "output_type": "execute_result"
    }
   ],
   "source": [
    "df_group_consumo.count()['tempo'].describe(percentiles=[.25, .5, .75, .9, .95, .99, .999]).round(2).astype(str).to_frame()"
   ]
  },
  {
   "cell_type": "markdown",
   "metadata": {},
   "source": [
    "## tempo"
   ]
  },
  {
   "cell_type": "code",
   "execution_count": 191,
   "metadata": {},
   "outputs": [
    {
     "data": {
      "text/plain": [
       "<AxesSubplot:>"
      ]
     },
     "execution_count": 191,
     "metadata": {},
     "output_type": "execute_result"
    },
    {
     "data": {
      "image/png": "[encoded data removed]",
      "text/plain": [
       "<Figure size 1440x432 with 1 Axes>"
      ]
     },
     "metadata": {
      "needs_background": "light"
     },
     "output_type": "display_data"
    }
   ],
   "source": [
    "df_consumo['tempo'].hist(figsize=(20, 6), bins=100, log=True)"
   ]
  },
  {
   "cell_type": "code",
   "execution_count": 202,
   "metadata": {},
   "outputs": [
    {
     "data": {
      "text/html": [
       "<div>\n",
       "<style scoped>\n",
       "    .dataframe tbody tr th:only-of-type {\n",
       "        vertical-align: middle;\n",
       "    }\n",
       "\n",
       "    .dataframe tbody tr th {\n",
       "        vertical-align: top;\n",
       "    }\n",
       "\n",
       "    .dataframe thead th {\n",
       "        text-align: right;\n",
       "    }\n",
       "</style>\n",
       "<table border=\"1\" class=\"dataframe\">\n",
       "  <thead>\n",
       "    <tr style=\"text-align: right;\">\n",
       "      <th></th>\n",
       "      <th>KEY</th>\n",
       "      <th>tempo</th>\n",
       "      <th>url</th>\n",
       "    </tr>\n",
       "  </thead>\n",
       "  <tbody>\n",
       "    <tr>\n",
       "      <th>1098</th>\n",
       "      <td>1367044</td>\n",
       "      <td>7656.0</td>\n",
       "      <td>https://globoesporte.globo.com/futebol/times/f...</td>\n",
       "    </tr>\n",
       "    <tr>\n",
       "      <th>2022</th>\n",
       "      <td>2735619</td>\n",
       "      <td>9209.0</td>\n",
       "      <td>https://globoesporte.globo.com/futebol/times/s...</td>\n",
       "    </tr>\n",
       "    <tr>\n",
       "      <th>2372</th>\n",
       "      <td>2226394</td>\n",
       "      <td>7743.0</td>\n",
       "      <td>http://globoesporte.globo.com/sp/santos-e-regi...</td>\n",
       "    </tr>\n",
       "    <tr>\n",
       "      <th>3476</th>\n",
       "      <td>3306127</td>\n",
       "      <td>8826.0</td>\n",
       "      <td>https://globoesporte.globo.com/futebol/selecoe...</td>\n",
       "    </tr>\n",
       "    <tr>\n",
       "      <th>4829</th>\n",
       "      <td>2079106</td>\n",
       "      <td>9564.0</td>\n",
       "      <td>http://globoesporte.globo.com/ba/futebol/notic...</td>\n",
       "    </tr>\n",
       "    <tr>\n",
       "      <th>...</th>\n",
       "      <td>...</td>\n",
       "      <td>...</td>\n",
       "      <td>...</td>\n",
       "    </tr>\n",
       "    <tr>\n",
       "      <th>14167280</th>\n",
       "      <td>1980873</td>\n",
       "      <td>7599.0</td>\n",
       "      <td>https://globoesporte.globo.com/ba/futebol/time...</td>\n",
       "    </tr>\n",
       "    <tr>\n",
       "      <th>14167899</th>\n",
       "      <td>2695456</td>\n",
       "      <td>8473.0</td>\n",
       "      <td>https://globoesporte.globo.com/mg/futebol/noti...</td>\n",
       "    </tr>\n",
       "    <tr>\n",
       "      <th>14169515</th>\n",
       "      <td>1837580</td>\n",
       "      <td>9043.0</td>\n",
       "      <td>https://globoesporte.globo.com/sp/santos-e-reg...</td>\n",
       "    </tr>\n",
       "    <tr>\n",
       "      <th>14173108</th>\n",
       "      <td>170879</td>\n",
       "      <td>7732.0</td>\n",
       "      <td>http://globoesporte.globo.com/rs/futebol/times...</td>\n",
       "    </tr>\n",
       "    <tr>\n",
       "      <th>14173808</th>\n",
       "      <td>679840</td>\n",
       "      <td>11903.0</td>\n",
       "      <td>https://globoesporte.globo.com/futebol/times/s...</td>\n",
       "    </tr>\n",
       "  </tbody>\n",
       "</table>\n",
       "<p>14172 rows × 3 columns</p>\n",
       "</div>"
      ],
      "text/plain": [
       "              KEY    tempo                                                url\n",
       "1098      1367044   7656.0  https://globoesporte.globo.com/futebol/times/f...\n",
       "2022      2735619   9209.0  https://globoesporte.globo.com/futebol/times/s...\n",
       "2372      2226394   7743.0  http://globoesporte.globo.com/sp/santos-e-regi...\n",
       "3476      3306127   8826.0  https://globoesporte.globo.com/futebol/selecoe...\n",
       "4829      2079106   9564.0  http://globoesporte.globo.com/ba/futebol/notic...\n",
       "...           ...      ...                                                ...\n",
       "14167280  1980873   7599.0  https://globoesporte.globo.com/ba/futebol/time...\n",
       "14167899  2695456   8473.0  https://globoesporte.globo.com/mg/futebol/noti...\n",
       "14169515  1837580   9043.0  https://globoesporte.globo.com/sp/santos-e-reg...\n",
       "14173108   170879   7732.0  http://globoesporte.globo.com/rs/futebol/times...\n",
       "14173808   679840  11903.0  https://globoesporte.globo.com/futebol/times/s...\n",
       "\n",
       "[14172 rows x 3 columns]"
      ]
     },
     "execution_count": 202,
     "metadata": {},
     "output_type": "execute_result"
    }
   ],
   "source": [
    "df_consumo[df_consumo['tempo'] > 7550]"
   ]
  },
  {
   "cell_type": "code",
   "execution_count": 204,
   "metadata": {},
   "outputs": [
    {
     "data": {
      "text/html": [
       "<div>\n",
       "<style scoped>\n",
       "    .dataframe tbody tr th:only-of-type {\n",
       "        vertical-align: middle;\n",
       "    }\n",
       "\n",
       "    .dataframe tbody tr th {\n",
       "        vertical-align: top;\n",
       "    }\n",
       "\n",
       "    .dataframe thead th {\n",
       "        text-align: right;\n",
       "    }\n",
       "</style>\n",
       "<table border=\"1\" class=\"dataframe\">\n",
       "  <thead>\n",
       "    <tr style=\"text-align: right;\">\n",
       "      <th></th>\n",
       "      <th>tempo</th>\n",
       "    </tr>\n",
       "  </thead>\n",
       "  <tbody>\n",
       "    <tr>\n",
       "      <th>count</th>\n",
       "      <td>14174706.0</td>\n",
       "    </tr>\n",
       "    <tr>\n",
       "      <th>mean</th>\n",
       "      <td>1362.17</td>\n",
       "    </tr>\n",
       "    <tr>\n",
       "      <th>std</th>\n",
       "      <td>978.27</td>\n",
       "    </tr>\n",
       "    <tr>\n",
       "      <th>min</th>\n",
       "      <td>292.0</td>\n",
       "    </tr>\n",
       "    <tr>\n",
       "      <th>25%</th>\n",
       "      <td>726.0</td>\n",
       "    </tr>\n",
       "    <tr>\n",
       "      <th>50%</th>\n",
       "      <td>1150.0</td>\n",
       "    </tr>\n",
       "    <tr>\n",
       "      <th>75%</th>\n",
       "      <td>1754.0</td>\n",
       "    </tr>\n",
       "    <tr>\n",
       "      <th>90%</th>\n",
       "      <td>2561.0</td>\n",
       "    </tr>\n",
       "    <tr>\n",
       "      <th>95%</th>\n",
       "      <td>3142.0</td>\n",
       "    </tr>\n",
       "    <tr>\n",
       "      <th>99%</th>\n",
       "      <td>4731.0</td>\n",
       "    </tr>\n",
       "    <tr>\n",
       "      <th>99.9%</th>\n",
       "      <td>7550.0</td>\n",
       "    </tr>\n",
       "    <tr>\n",
       "      <th>max</th>\n",
       "      <td>119347.0</td>\n",
       "    </tr>\n",
       "  </tbody>\n",
       "</table>\n",
       "</div>"
      ],
      "text/plain": [
       "            tempo\n",
       "count  14174706.0\n",
       "mean      1362.17\n",
       "std        978.27\n",
       "min         292.0\n",
       "25%         726.0\n",
       "50%        1150.0\n",
       "75%        1754.0\n",
       "90%        2561.0\n",
       "95%        3142.0\n",
       "99%        4731.0\n",
       "99.9%      7550.0\n",
       "max      119347.0"
      ]
     },
     "execution_count": 204,
     "metadata": {},
     "output_type": "execute_result"
    }
   ],
   "source": [
    "df_consumo['tempo'].describe(percentiles=[.25, .5, .75, .9, .95, .99, .999]).round(2).astype(str).to_frame()"
   ]
  },
  {
   "cell_type": "markdown",
   "metadata": {},
   "source": [
    "## links"
   ]
  },
  {
   "cell_type": "code",
   "execution_count": 448,
   "metadata": {},
   "outputs": [],
   "source": [
    "am = df_consumo[:100000].copy()"
   ]
  },
  {
   "cell_type": "code",
   "execution_count": 449,
   "metadata": {},
   "outputs": [],
   "source": [
    "# remove o nome do site, pega apenas os argumentos\n",
    "am['url'] = am['url'].str.split(\".com/\").str.get(1)"
   ]
  },
  {
   "cell_type": "code",
   "execution_count": 450,
   "metadata": {},
   "outputs": [],
   "source": [
    "split_futebol = am['url'].str.split(\"futebol/\")"
   ]
  },
  {
   "cell_type": "code",
   "execution_count": 451,
   "metadata": {},
   "outputs": [],
   "source": [
    "am['url_region'] = split_futebol.str.get(0).str[:-1]"
   ]
  },
  {
   "cell_type": "code",
   "execution_count": 452,
   "metadata": {},
   "outputs": [],
   "source": [
    "am['url_region'] = am['url_region'].str.split(\"/\").str.get(0)"
   ]
  },
  {
   "cell_type": "code",
   "execution_count": 453,
   "metadata": {},
   "outputs": [],
   "source": [
    "am.loc[am['url_region'].str.len() > 2, 'url_region'] = None"
   ]
  },
  {
   "cell_type": "code",
   "execution_count": 454,
   "metadata": {},
   "outputs": [],
   "source": [
    "am.loc[am['url_region'] == '', 'url_region'] = None"
   ]
  },
  {
   "cell_type": "code",
   "execution_count": 455,
   "metadata": {},
   "outputs": [],
   "source": [
    "split_noticia = split_futebol.str.get(1).str.split(\"noticia/\")"
   ]
  },
  {
   "cell_type": "code",
   "execution_count": 456,
   "metadata": {},
   "outputs": [],
   "source": [
    "am['url_noticia'] = split_noticia.str.get(1)"
   ]
  },
  {
   "cell_type": "code",
   "execution_count": 457,
   "metadata": {},
   "outputs": [],
   "source": [
    "am['url_campeonato'] = split_noticia.str.get(0).str.split(\"times/\").str.get(0).str[:-1]"
   ]
  },
  {
   "cell_type": "code",
   "execution_count": 458,
   "metadata": {},
   "outputs": [],
   "source": [
    "am['url_campeonato'] = am['url_campeonato'].str.split(\"/\").str.get(0)"
   ]
  },
  {
   "cell_type": "code",
   "execution_count": 459,
   "metadata": {},
   "outputs": [],
   "source": [
    "am.loc[am['url_campeonato'] == '', 'url_campeonato'] = None"
   ]
  },
  {
   "cell_type": "code",
   "execution_count": 460,
   "metadata": {},
   "outputs": [],
   "source": [
    "am['url_times'] = split_noticia.str.get(0).str.split(\"times/\").str.get(1).str[:-1]"
   ]
  },
  {
   "cell_type": "code",
   "execution_count": 461,
   "metadata": {},
   "outputs": [],
   "source": [
    "am['url_times'] = am['url_times'].str.split(\"/\").str.get(0)"
   ]
  },
  {
   "cell_type": "code",
   "execution_count": 462,
   "metadata": {},
   "outputs": [],
   "source": [
    "am.loc[am['url_times'] == '', 'url_times'] = None"
   ]
  },
  {
   "cell_type": "code",
   "execution_count": 463,
   "metadata": {},
   "outputs": [],
   "source": [
    "am.drop(columns=['url'], inplace=True)"
   ]
  },
  {
   "cell_type": "code",
   "execution_count": 464,
   "metadata": {},
   "outputs": [
    {
     "data": {
      "text/html": [
       "<div>\n",
       "<style scoped>\n",
       "    .dataframe tbody tr th:only-of-type {\n",
       "        vertical-align: middle;\n",
       "    }\n",
       "\n",
       "    .dataframe tbody tr th {\n",
       "        vertical-align: top;\n",
       "    }\n",
       "\n",
       "    .dataframe thead th {\n",
       "        text-align: right;\n",
       "    }\n",
       "</style>\n",
       "<table border=\"1\" class=\"dataframe\">\n",
       "  <thead>\n",
       "    <tr style=\"text-align: right;\">\n",
       "      <th></th>\n",
       "      <th>KEY</th>\n",
       "      <th>tempo</th>\n",
       "      <th>url_region</th>\n",
       "      <th>url_noticia</th>\n",
       "      <th>url_campeonato</th>\n",
       "      <th>url_times</th>\n",
       "    </tr>\n",
       "  </thead>\n",
       "  <tbody>\n",
       "    <tr>\n",
       "      <th>0</th>\n",
       "      <td>1666965</td>\n",
       "      <td>1532.0</td>\n",
       "      <td>mg</td>\n",
       "      <td>diretor-de-futebol-do-atletico-mg-revela-consu...</td>\n",
       "      <td>None</td>\n",
       "      <td>siga-atletico-mg</td>\n",
       "    </tr>\n",
       "    <tr>\n",
       "      <th>1</th>\n",
       "      <td>2428750</td>\n",
       "      <td>965.0</td>\n",
       "      <td>None</td>\n",
       "      <td>NaN</td>\n",
       "      <td>None</td>\n",
       "      <td>botafogo</td>\n",
       "    </tr>\n",
       "    <tr>\n",
       "      <th>2</th>\n",
       "      <td>23359</td>\n",
       "      <td>464.0</td>\n",
       "      <td>pb</td>\n",
       "      <td>NaN</td>\n",
       "      <td>campeonato-paraibano</td>\n",
       "      <td>NaN</td>\n",
       "    </tr>\n",
       "    <tr>\n",
       "      <th>3</th>\n",
       "      <td>2451676</td>\n",
       "      <td>3286.0</td>\n",
       "      <td>sp</td>\n",
       "      <td>conmebol-abre-investigacao-para-verificar-se-s...</td>\n",
       "      <td>None</td>\n",
       "      <td>santos</td>\n",
       "    </tr>\n",
       "    <tr>\n",
       "      <th>4</th>\n",
       "      <td>707389</td>\n",
       "      <td>1195.0</td>\n",
       "      <td>None</td>\n",
       "      <td>lateral-da-base-do-palmeiras-releva-chegadas-f...</td>\n",
       "      <td>None</td>\n",
       "      <td>palmeiras</td>\n",
       "    </tr>\n",
       "    <tr>\n",
       "      <th>...</th>\n",
       "      <td>...</td>\n",
       "      <td>...</td>\n",
       "      <td>...</td>\n",
       "      <td>...</td>\n",
       "      <td>...</td>\n",
       "      <td>...</td>\n",
       "    </tr>\n",
       "    <tr>\n",
       "      <th>99995</th>\n",
       "      <td>1547217</td>\n",
       "      <td>1458.0</td>\n",
       "      <td>None</td>\n",
       "      <td>douglas-volta-a-sao-paulo-mancando-e-deve-desf...</td>\n",
       "      <td>None</td>\n",
       "      <td>corinthians</td>\n",
       "    </tr>\n",
       "    <tr>\n",
       "      <th>99996</th>\n",
       "      <td>2682073</td>\n",
       "      <td>1357.0</td>\n",
       "      <td>None</td>\n",
       "      <td>piris-chega-ao-rio-para-assinar-com-o-flamengo...</td>\n",
       "      <td>None</td>\n",
       "      <td>flamengo</td>\n",
       "    </tr>\n",
       "    <tr>\n",
       "      <th>99997</th>\n",
       "      <td>2960170</td>\n",
       "      <td>3187.0</td>\n",
       "      <td>None</td>\n",
       "      <td>homens-de-ferro-artilheiro-da-hora-12o-jogador...</td>\n",
       "      <td>brasileirao-serie-a</td>\n",
       "      <td>NaN</td>\n",
       "    </tr>\n",
       "    <tr>\n",
       "      <th>99998</th>\n",
       "      <td>1666813</td>\n",
       "      <td>899.0</td>\n",
       "      <td>None</td>\n",
       "      <td>NaN</td>\n",
       "      <td>None</td>\n",
       "      <td>flamengo</td>\n",
       "    </tr>\n",
       "    <tr>\n",
       "      <th>99999</th>\n",
       "      <td>522020</td>\n",
       "      <td>341.0</td>\n",
       "      <td>None</td>\n",
       "      <td>NaN</td>\n",
       "      <td>None</td>\n",
       "      <td>palmeiras</td>\n",
       "    </tr>\n",
       "  </tbody>\n",
       "</table>\n",
       "<p>100000 rows × 6 columns</p>\n",
       "</div>"
      ],
      "text/plain": [
       "           KEY   tempo url_region  \\\n",
       "0      1666965  1532.0         mg   \n",
       "1      2428750   965.0       None   \n",
       "2        23359   464.0         pb   \n",
       "3      2451676  3286.0         sp   \n",
       "4       707389  1195.0       None   \n",
       "...        ...     ...        ...   \n",
       "99995  1547217  1458.0       None   \n",
       "99996  2682073  1357.0       None   \n",
       "99997  2960170  3187.0       None   \n",
       "99998  1666813   899.0       None   \n",
       "99999   522020   341.0       None   \n",
       "\n",
       "                                             url_noticia  \\\n",
       "0      diretor-de-futebol-do-atletico-mg-revela-consu...   \n",
       "1                                                    NaN   \n",
       "2                                                    NaN   \n",
       "3      conmebol-abre-investigacao-para-verificar-se-s...   \n",
       "4      lateral-da-base-do-palmeiras-releva-chegadas-f...   \n",
       "...                                                  ...   \n",
       "99995  douglas-volta-a-sao-paulo-mancando-e-deve-desf...   \n",
       "99996  piris-chega-ao-rio-para-assinar-com-o-flamengo...   \n",
       "99997  homens-de-ferro-artilheiro-da-hora-12o-jogador...   \n",
       "99998                                                NaN   \n",
       "99999                                                NaN   \n",
       "\n",
       "             url_campeonato         url_times  \n",
       "0                      None  siga-atletico-mg  \n",
       "1                      None          botafogo  \n",
       "2      campeonato-paraibano               NaN  \n",
       "3                      None            santos  \n",
       "4                      None         palmeiras  \n",
       "...                     ...               ...  \n",
       "99995                  None       corinthians  \n",
       "99996                  None          flamengo  \n",
       "99997   brasileirao-serie-a               NaN  \n",
       "99998                  None          flamengo  \n",
       "99999                  None         palmeiras  \n",
       "\n",
       "[100000 rows x 6 columns]"
      ]
     },
     "execution_count": 464,
     "metadata": {},
     "output_type": "execute_result"
    }
   ],
   "source": [
    "am"
   ]
  },
  {
   "cell_type": "markdown",
   "metadata": {},
   "source": [
    "## url_region"
   ]
  },
  {
   "cell_type": "code",
   "execution_count": 465,
   "metadata": {},
   "outputs": [
    {
     "data": {
      "text/plain": [
       "array(['mg', None, 'pb', 'sp', 'rj', 'al', 'pr', 'rs', 'sc', 'ce', 'go',\n",
       "       'ba', 'pe', 'rn', 'df', 'pi', 'am', 'pa', 'ac', 'es', 'ma', 'mt',\n",
       "       'to', 'se', 'ms', 'ap', 'ro'], dtype=object)"
      ]
     },
     "execution_count": 465,
     "metadata": {},
     "output_type": "execute_result"
    }
   ],
   "source": [
    "am['url_region'].unique()"
   ]
  },
  {
   "cell_type": "code",
   "execution_count": 398,
   "metadata": {
    "scrolled": false
   },
   "outputs": [
    {
     "data": {
      "text/plain": [
       "<AxesSubplot:title={'center':'url_region'}>"
      ]
     },
     "execution_count": 398,
     "metadata": {},
     "output_type": "execute_result"
    },
    {
     "data": {
      "image/png": "[encoded data removed]",
      "text/plain": [
       "<Figure size 1440x432 with 1 Axes>"
      ]
     },
     "metadata": {
      "needs_background": "light"
     },
     "output_type": "display_data"
    }
   ],
   "source": [
    "am['url_region'].value_counts().plot.bar(figsize=(20, 6), title='url_region', rot=0)"
   ]
  },
  {
   "cell_type": "code",
   "execution_count": 396,
   "metadata": {
    "scrolled": true
   },
   "outputs": [
    {
     "data": {
      "text/plain": [
       "NaN    66454\n",
       "sp     12687\n",
       "rs      9683\n",
       "pr      1958\n",
       "pe      1778\n",
       "ba      1665\n",
       "rj      1354\n",
       "sc      1310\n",
       "mg       875\n",
       "ce       839\n",
       "al       587\n",
       "go       245\n",
       "am       129\n",
       "pb        98\n",
       "pa        78\n",
       "pi        53\n",
       "ma        43\n",
       "es        38\n",
       "df        33\n",
       "ac        31\n",
       "rn        24\n",
       "to        12\n",
       "mt        12\n",
       "se         7\n",
       "ap         3\n",
       "ms         3\n",
       "ro         1\n",
       "Name: url_region, dtype: int64"
      ]
     },
     "execution_count": 396,
     "metadata": {},
     "output_type": "execute_result"
    }
   ],
   "source": [
    "am['url_region'].value_counts(dropna=False)"
   ]
  },
  {
   "cell_type": "markdown",
   "metadata": {},
   "source": [
    "## url_noticia"
   ]
  },
  {
   "cell_type": "code",
   "execution_count": 402,
   "metadata": {},
   "outputs": [
    {
     "data": {
      "text/plain": [
       "array(['diretor-de-futebol-do-atletico-mg-revela-consulta-da-roma-por-maidana.ghtml',\n",
       "       nan,\n",
       "       'conmebol-abre-investigacao-para-verificar-se-santos-escalou-sanchez-de-forma-irregular.ghtml',\n",
       "       ...,\n",
       "       'mosaico6-festa-tera-cascata-de-papel-picado-bandeiroes-e-efeito-de-quase-360.ghtml',\n",
       "       'gerson-gusmao-minimiza-jejum-do-operario-pr-e-mira-mata-mata-criamos-gordura.ghtml',\n",
       "       '2014/11/ceni-fala-do-filho-que-teve-fora-do-casamento-assumi-porque-o-amo.html'],\n",
       "      dtype=object)"
      ]
     },
     "execution_count": 402,
     "metadata": {},
     "output_type": "execute_result"
    }
   ],
   "source": [
    "am['url_noticia'].unique()"
   ]
  },
  {
   "cell_type": "markdown",
   "metadata": {},
   "source": [
    "## url_campeonato"
   ]
  },
  {
   "cell_type": "code",
   "execution_count": 466,
   "metadata": {
    "scrolled": false
   },
   "outputs": [
    {
     "data": {
      "text/plain": [
       "array([None, 'campeonato-paraibano', 'brasileirao-serie-a',\n",
       "       'libertadores', 'copa-do-brasil', 'carioca-serie-b1',\n",
       "       'mineiro-modulo-2', nan, 'copa-sul-americana', 'carioca-serie-c',\n",
       "       'voce-escala', 'gaucho-segunda-divisao', 'mineiro-segunda-divisao',\n",
       "       'campeonato-paulista', 'carioca-serie-b2', 'mundial-de-clubes',\n",
       "       'copa-paulista', 'paulista-segunda-divisao',\n",
       "       'simulador-do-campeao-brasileiro', 'campeonato-brasileiro',\n",
       "       'selecoes', 'catarinense-segunda-divisao', 'copa-espirito-santo',\n",
       "       'campeonato', 'campeonato-gaucho', 'copa-sp-de-futebol-junior',\n",
       "       'paulista-serie-a2', 'campeonato-mineiro',\n",
       "       'mapa-das-curtidas-2017', 'taca-bh-sub-17', 'campeonato-carioca',\n",
       "       'copa-rio', 'campeonato-potiguar', 'liga-dos-campeoes',\n",
       "       'campeonato-paranaense', 'brasileirao-serie-a%20simulador',\n",
       "       'copa-verde', 'quintal-da-bola', 'futebol-feminino',\n",
       "       'campeonato-acreano', 'campeonato-amazonense', 'copa-do-nordeste',\n",
       "       'torneio-da-florida', 'campeonato-capixaba', 'ao-vivo', 'votacao',\n",
       "       '12-04-2012', 'campeonato-cearense', 'copa-america',\n",
       "       'Copa-SP-de-futebol-junior', 'campeonato-sul-mato-grossense',\n",
       "       'vai-e-vem-do-mercado', 'mapa-das-torcidas-no-facebook',\n",
       "       'campeonato-pernambucano', 'paraibano-segunda-divisao',\n",
       "       'campeonato-sergipano', 'maranhense-serie-b',\n",
       "       'goiano-segunda-divisao', 'campeonato-catarinense',\n",
       "       'paulista-serie-a3', 'central-do-mercado',\n",
       "       'lembra-desses-jogadores-dos-anos-90', 'campeonato-maranhense',\n",
       "       'brasileirao', 'rogerio-ceni-100', 'copa-santa-catarina',\n",
       "       'liga-das-nacoes', 'campeonato-brasiliense', 'especial',\n",
       "       'pernambucano-serie-a2', 'escolha-a-selecao-do-brasileirao',\n",
       "       'paraense-segunda-divisao', 'copa-das-confederacoes', 'futebo',\n",
       "       'copa-libertadores', 'artilheiro-do-ano'], dtype=object)"
      ]
     },
     "execution_count": 466,
     "metadata": {},
     "output_type": "execute_result"
    }
   ],
   "source": [
    "am['url_campeonato'].unique()"
   ]
  },
  {
   "cell_type": "code",
   "execution_count": 474,
   "metadata": {
    "scrolled": true
   },
   "outputs": [
    {
     "data": {
      "text/plain": [
       "NaN                                    93483\n",
       "brasileirao-serie-a                     3208\n",
       "libertadores                            1416\n",
       "copa-do-brasil                           997\n",
       "copa-sul-americana                       189\n",
       "campeonato-brasileiro                    102\n",
       "selecoes                                  71\n",
       "campeonato-paulista                       69\n",
       "paulista-segunda-divisao                  43\n",
       "voce-escala                               41\n",
       "copa-paulista                             38\n",
       "carioca-serie-b1                          35\n",
       "catarinense-segunda-divisao               27\n",
       "mineiro-segunda-divisao                   22\n",
       "copa-espirito-santo                       20\n",
       "taca-bh-sub-17                            20\n",
       "mapa-das-curtidas-2017                    18\n",
       "copa-rio                                  15\n",
       "carioca-serie-c                           15\n",
       "carioca-serie-b2                          14\n",
       "campeonato-acreano                        12\n",
       "campeonato-pernambucano                    8\n",
       "campeonato-gaucho                          8\n",
       "campeonato-carioca                         7\n",
       "liga-dos-campeoes                          6\n",
       "campeonato-mineiro                         6\n",
       "campeonato                                 6\n",
       "futebol-feminino                           6\n",
       "copa-do-nordeste                           6\n",
       "copa-sp-de-futebol-junior                  4\n",
       "campeonato-paranaense                      4\n",
       "copa-america                               4\n",
       "campeonato-capixaba                        4\n",
       "mineiro-modulo-2                           4\n",
       "campeonato-amazonense                      4\n",
       "paulista-serie-a2                          4\n",
       "campeonato-catarinense                     3\n",
       "simulador-do-campeao-brasileiro            3\n",
       "especial                                   3\n",
       "campeonato-maranhense                      3\n",
       "gaucho-segunda-divisao                     3\n",
       "Copa-SP-de-futebol-junior                  3\n",
       "maranhense-serie-b                         3\n",
       "campeonato-cearense                        3\n",
       "campeonato-sul-mato-grossense              3\n",
       "ao-vivo                                    2\n",
       "liga-das-nacoes                            2\n",
       "torneio-da-florida                         2\n",
       "vai-e-vem-do-mercado                       2\n",
       "paulista-serie-a3                          2\n",
       "campeonato-paraibano                       2\n",
       "goiano-segunda-divisao                     2\n",
       "12-04-2012                                 1\n",
       "copa-santa-catarina                        1\n",
       "mundial-de-clubes                          1\n",
       "futebo                                     1\n",
       "escolha-a-selecao-do-brasileirao           1\n",
       "paraibano-segunda-divisao                  1\n",
       "pernambucano-serie-a2                      1\n",
       "votacao                                    1\n",
       "copa-verde                                 1\n",
       "campeonato-sergipano                       1\n",
       "brasileirao-serie-a%20simulador            1\n",
       "central-do-mercado                         1\n",
       "lembra-desses-jogadores-dos-anos-90        1\n",
       "artilheiro-do-ano                          1\n",
       "mapa-das-torcidas-no-facebook              1\n",
       "copa-das-confederacoes                     1\n",
       "copa-libertadores                          1\n",
       "campeonato-brasiliense                     1\n",
       "rogerio-ceni-100                           1\n",
       "campeonato-potiguar                        1\n",
       "quintal-da-bola                            1\n",
       "brasileirao                                1\n",
       "paraense-segunda-divisao                   1\n",
       "Name: url_campeonato, dtype: int64"
      ]
     },
     "execution_count": 474,
     "metadata": {},
     "output_type": "execute_result"
    }
   ],
   "source": [
    "am['url_campeonato'].value_counts(dropna=False)"
   ]
  },
  {
   "cell_type": "code",
   "execution_count": 495,
   "metadata": {},
   "outputs": [
    {
     "data": {
      "text/html": [
       "<div>\n",
       "<style scoped>\n",
       "    .dataframe tbody tr th:only-of-type {\n",
       "        vertical-align: middle;\n",
       "    }\n",
       "\n",
       "    .dataframe tbody tr th {\n",
       "        vertical-align: top;\n",
       "    }\n",
       "\n",
       "    .dataframe thead th {\n",
       "        text-align: right;\n",
       "    }\n",
       "</style>\n",
       "<table border=\"1\" class=\"dataframe\">\n",
       "  <thead>\n",
       "    <tr style=\"text-align: right;\">\n",
       "      <th></th>\n",
       "      <th>KEY</th>\n",
       "      <th>tempo</th>\n",
       "      <th>url_region</th>\n",
       "      <th>url_noticia</th>\n",
       "      <th>url_campeonato</th>\n",
       "      <th>url_times</th>\n",
       "    </tr>\n",
       "  </thead>\n",
       "  <tbody>\n",
       "    <tr>\n",
       "      <th>5</th>\n",
       "      <td>2205445</td>\n",
       "      <td>464.0</td>\n",
       "      <td>rj</td>\n",
       "      <td>ex-capitao-do-fla-jonatas-desiste-de-retomar-a...</td>\n",
       "      <td>None</td>\n",
       "      <td>NaN</td>\n",
       "    </tr>\n",
       "    <tr>\n",
       "      <th>6</th>\n",
       "      <td>1099505</td>\n",
       "      <td>1656.0</td>\n",
       "      <td>al</td>\n",
       "      <td>walter-e-preso-em-maceio-por-mostrar-arma-de-b...</td>\n",
       "      <td>None</td>\n",
       "      <td>NaN</td>\n",
       "    </tr>\n",
       "    <tr>\n",
       "      <th>56</th>\n",
       "      <td>2473054</td>\n",
       "      <td>736.0</td>\n",
       "      <td>rs</td>\n",
       "      <td>alem-de-tite-gremio-x-flamengo-atrai-olheiros-...</td>\n",
       "      <td>None</td>\n",
       "      <td>NaN</td>\n",
       "    </tr>\n",
       "    <tr>\n",
       "      <th>58</th>\n",
       "      <td>3295101</td>\n",
       "      <td>2154.0</td>\n",
       "      <td>sp</td>\n",
       "      <td>sao-paulo-acerta-a-contratacao-de-everton-feli...</td>\n",
       "      <td>None</td>\n",
       "      <td>NaN</td>\n",
       "    </tr>\n",
       "    <tr>\n",
       "      <th>95</th>\n",
       "      <td>3357704</td>\n",
       "      <td>1896.0</td>\n",
       "      <td>rj</td>\n",
       "      <td>ex-capitao-do-fla-jonatas-desiste-de-retomar-a...</td>\n",
       "      <td>None</td>\n",
       "      <td>NaN</td>\n",
       "    </tr>\n",
       "    <tr>\n",
       "      <th>...</th>\n",
       "      <td>...</td>\n",
       "      <td>...</td>\n",
       "      <td>...</td>\n",
       "      <td>...</td>\n",
       "      <td>...</td>\n",
       "      <td>...</td>\n",
       "    </tr>\n",
       "    <tr>\n",
       "      <th>99823</th>\n",
       "      <td>955513</td>\n",
       "      <td>1225.0</td>\n",
       "      <td>ba</td>\n",
       "      <td>vencido-pelas-dores-obina-anuncia-fim-da-carre...</td>\n",
       "      <td>None</td>\n",
       "      <td>NaN</td>\n",
       "    </tr>\n",
       "    <tr>\n",
       "      <th>99940</th>\n",
       "      <td>580560</td>\n",
       "      <td>3753.0</td>\n",
       "      <td>sp</td>\n",
       "      <td>sao-paulo-acerta-a-contratacao-de-everton-feli...</td>\n",
       "      <td>None</td>\n",
       "      <td>NaN</td>\n",
       "    </tr>\n",
       "    <tr>\n",
       "      <th>99958</th>\n",
       "      <td>875165</td>\n",
       "      <td>1357.0</td>\n",
       "      <td>rj</td>\n",
       "      <td>juiza-atende-pedido-do-flu-e-determina-bloquei...</td>\n",
       "      <td>None</td>\n",
       "      <td>NaN</td>\n",
       "    </tr>\n",
       "    <tr>\n",
       "      <th>99968</th>\n",
       "      <td>40576</td>\n",
       "      <td>3068.0</td>\n",
       "      <td>rs</td>\n",
       "      <td>apos-reuniao-inter-fecha-contratacao-de-guerre...</td>\n",
       "      <td>None</td>\n",
       "      <td>NaN</td>\n",
       "    </tr>\n",
       "    <tr>\n",
       "      <th>99975</th>\n",
       "      <td>3339092</td>\n",
       "      <td>2947.0</td>\n",
       "      <td>ba</td>\n",
       "      <td>vencido-pelas-dores-obina-anuncia-fim-da-carre...</td>\n",
       "      <td>None</td>\n",
       "      <td>NaN</td>\n",
       "    </tr>\n",
       "  </tbody>\n",
       "</table>\n",
       "<p>5667 rows × 6 columns</p>\n",
       "</div>"
      ],
      "text/plain": [
       "           KEY   tempo url_region  \\\n",
       "5      2205445   464.0         rj   \n",
       "6      1099505  1656.0         al   \n",
       "56     2473054   736.0         rs   \n",
       "58     3295101  2154.0         sp   \n",
       "95     3357704  1896.0         rj   \n",
       "...        ...     ...        ...   \n",
       "99823   955513  1225.0         ba   \n",
       "99940   580560  3753.0         sp   \n",
       "99958   875165  1357.0         rj   \n",
       "99968    40576  3068.0         rs   \n",
       "99975  3339092  2947.0         ba   \n",
       "\n",
       "                                             url_noticia url_campeonato  \\\n",
       "5      ex-capitao-do-fla-jonatas-desiste-de-retomar-a...           None   \n",
       "6      walter-e-preso-em-maceio-por-mostrar-arma-de-b...           None   \n",
       "56     alem-de-tite-gremio-x-flamengo-atrai-olheiros-...           None   \n",
       "58     sao-paulo-acerta-a-contratacao-de-everton-feli...           None   \n",
       "95     ex-capitao-do-fla-jonatas-desiste-de-retomar-a...           None   \n",
       "...                                                  ...            ...   \n",
       "99823  vencido-pelas-dores-obina-anuncia-fim-da-carre...           None   \n",
       "99940  sao-paulo-acerta-a-contratacao-de-everton-feli...           None   \n",
       "99958  juiza-atende-pedido-do-flu-e-determina-bloquei...           None   \n",
       "99968  apos-reuniao-inter-fecha-contratacao-de-guerre...           None   \n",
       "99975  vencido-pelas-dores-obina-anuncia-fim-da-carre...           None   \n",
       "\n",
       "      url_times  \n",
       "5           NaN  \n",
       "6           NaN  \n",
       "56          NaN  \n",
       "58          NaN  \n",
       "95          NaN  \n",
       "...         ...  \n",
       "99823       NaN  \n",
       "99940       NaN  \n",
       "99958       NaN  \n",
       "99968       NaN  \n",
       "99975       NaN  \n",
       "\n",
       "[5667 rows x 6 columns]"
      ]
     },
     "execution_count": 495,
     "metadata": {},
     "output_type": "execute_result"
    }
   ],
   "source": [
    "am[am[['url_campeonato', 'url_times']].isna().all(axis=1)]"
   ]
  },
  {
   "cell_type": "code",
   "execution_count": 497,
   "metadata": {},
   "outputs": [
    {
     "data": {
      "text/plain": [
       "(3763,)"
      ]
     },
     "execution_count": 497,
     "metadata": {},
     "output_type": "execute_result"
    }
   ],
   "source": [
    "am['url_noticia'].unique().shape"
   ]
  },
  {
   "cell_type": "code",
   "execution_count": 491,
   "metadata": {},
   "outputs": [
    {
     "data": {
      "text/html": [
       "<div>\n",
       "<style scoped>\n",
       "    .dataframe tbody tr th:only-of-type {\n",
       "        vertical-align: middle;\n",
       "    }\n",
       "\n",
       "    .dataframe tbody tr th {\n",
       "        vertical-align: top;\n",
       "    }\n",
       "\n",
       "    .dataframe thead th {\n",
       "        text-align: right;\n",
       "    }\n",
       "</style>\n",
       "<table border=\"1\" class=\"dataframe\">\n",
       "  <thead>\n",
       "    <tr style=\"text-align: right;\">\n",
       "      <th></th>\n",
       "      <th>KEY</th>\n",
       "      <th>tempo</th>\n",
       "      <th>url_region</th>\n",
       "      <th>url_noticia</th>\n",
       "      <th>url_campeonato</th>\n",
       "      <th>url_times</th>\n",
       "    </tr>\n",
       "  </thead>\n",
       "  <tbody>\n",
       "    <tr>\n",
       "      <th>1</th>\n",
       "      <td>2428750</td>\n",
       "      <td>965.0</td>\n",
       "      <td>None</td>\n",
       "      <td>NaN</td>\n",
       "      <td>None</td>\n",
       "      <td>botafogo</td>\n",
       "    </tr>\n",
       "    <tr>\n",
       "      <th>2</th>\n",
       "      <td>23359</td>\n",
       "      <td>464.0</td>\n",
       "      <td>pb</td>\n",
       "      <td>NaN</td>\n",
       "      <td>campeonato-paraibano</td>\n",
       "      <td>NaN</td>\n",
       "    </tr>\n",
       "    <tr>\n",
       "      <th>9</th>\n",
       "      <td>3253089</td>\n",
       "      <td>539.0</td>\n",
       "      <td>None</td>\n",
       "      <td>NaN</td>\n",
       "      <td>None</td>\n",
       "      <td>palmeiras</td>\n",
       "    </tr>\n",
       "    <tr>\n",
       "      <th>12</th>\n",
       "      <td>1980453</td>\n",
       "      <td>735.0</td>\n",
       "      <td>None</td>\n",
       "      <td>NaN</td>\n",
       "      <td>None</td>\n",
       "      <td>flamengo</td>\n",
       "    </tr>\n",
       "    <tr>\n",
       "      <th>13</th>\n",
       "      <td>2802136</td>\n",
       "      <td>863.0</td>\n",
       "      <td>pr</td>\n",
       "      <td>NaN</td>\n",
       "      <td>None</td>\n",
       "      <td>atletico-pr</td>\n",
       "    </tr>\n",
       "    <tr>\n",
       "      <th>...</th>\n",
       "      <td>...</td>\n",
       "      <td>...</td>\n",
       "      <td>...</td>\n",
       "      <td>...</td>\n",
       "      <td>...</td>\n",
       "      <td>...</td>\n",
       "    </tr>\n",
       "    <tr>\n",
       "      <th>99989</th>\n",
       "      <td>479487</td>\n",
       "      <td>736.0</td>\n",
       "      <td>sp</td>\n",
       "      <td>NaN</td>\n",
       "      <td>None</td>\n",
       "      <td>santos</td>\n",
       "    </tr>\n",
       "    <tr>\n",
       "      <th>99990</th>\n",
       "      <td>1041053</td>\n",
       "      <td>2050.0</td>\n",
       "      <td>None</td>\n",
       "      <td>NaN</td>\n",
       "      <td>None</td>\n",
       "      <td>flamengo</td>\n",
       "    </tr>\n",
       "    <tr>\n",
       "      <th>99993</th>\n",
       "      <td>1291766</td>\n",
       "      <td>522.0</td>\n",
       "      <td>None</td>\n",
       "      <td>NaN</td>\n",
       "      <td>None</td>\n",
       "      <td>flamengo</td>\n",
       "    </tr>\n",
       "    <tr>\n",
       "      <th>99998</th>\n",
       "      <td>1666813</td>\n",
       "      <td>899.0</td>\n",
       "      <td>None</td>\n",
       "      <td>NaN</td>\n",
       "      <td>None</td>\n",
       "      <td>flamengo</td>\n",
       "    </tr>\n",
       "    <tr>\n",
       "      <th>99999</th>\n",
       "      <td>522020</td>\n",
       "      <td>341.0</td>\n",
       "      <td>None</td>\n",
       "      <td>NaN</td>\n",
       "      <td>None</td>\n",
       "      <td>palmeiras</td>\n",
       "    </tr>\n",
       "  </tbody>\n",
       "</table>\n",
       "<p>45993 rows × 6 columns</p>\n",
       "</div>"
      ],
      "text/plain": [
       "           KEY   tempo url_region url_noticia        url_campeonato  \\\n",
       "1      2428750   965.0       None         NaN                  None   \n",
       "2        23359   464.0         pb         NaN  campeonato-paraibano   \n",
       "9      3253089   539.0       None         NaN                  None   \n",
       "12     1980453   735.0       None         NaN                  None   \n",
       "13     2802136   863.0         pr         NaN                  None   \n",
       "...        ...     ...        ...         ...                   ...   \n",
       "99989   479487   736.0         sp         NaN                  None   \n",
       "99990  1041053  2050.0       None         NaN                  None   \n",
       "99993  1291766   522.0       None         NaN                  None   \n",
       "99998  1666813   899.0       None         NaN                  None   \n",
       "99999   522020   341.0       None         NaN                  None   \n",
       "\n",
       "         url_times  \n",
       "1         botafogo  \n",
       "2              NaN  \n",
       "9        palmeiras  \n",
       "12        flamengo  \n",
       "13     atletico-pr  \n",
       "...            ...  \n",
       "99989       santos  \n",
       "99990     flamengo  \n",
       "99993     flamengo  \n",
       "99998     flamengo  \n",
       "99999    palmeiras  \n",
       "\n",
       "[45993 rows x 6 columns]"
      ]
     },
     "execution_count": 491,
     "metadata": {},
     "output_type": "execute_result"
    }
   ],
   "source": [
    "am[am[['url_noticia']].isna().all(axis=1)]"
   ]
  },
  {
   "cell_type": "code",
   "execution_count": 493,
   "metadata": {},
   "outputs": [
    {
     "data": {
      "text/plain": [
       "66454"
      ]
     },
     "execution_count": 493,
     "metadata": {},
     "output_type": "execute_result"
    }
   ],
   "source": [
    "am['url_region'].isna().sum()"
   ]
  },
  {
   "cell_type": "markdown",
   "metadata": {},
   "source": [
    "## url_times"
   ]
  },
  {
   "cell_type": "code",
   "execution_count": 475,
   "metadata": {
    "scrolled": false
   },
   "outputs": [
    {
     "data": {
      "text/plain": [
       "array(['siga-atletico-mg', 'botafogo', nan, 'santos', 'palmeiras',\n",
       "       'cruzeiro', 'vasco', 'flamengo', 'atletico-pr', 'gremio',\n",
       "       'sao-paulo', 'figueirense', 'ceara', 'fluminense', 'corinthians',\n",
       "       'internacional', 'vila-nova', 'bahia', 'treze', 'santa-cruz',\n",
       "       'crb', 'atletico-mg', 'londrina', 'vitoria', 'sport',\n",
       "       'parana-clube', 'nautico', 'chapecoense', 'fortaleza', 'csa',\n",
       "       'america-mg', 'atletico-go', 'avai', 'sao-bento', 'ponte-preta',\n",
       "       'botafogo-sp', 'guarani', 'goias', 'coritiba', 'mogi-mirim',\n",
       "       'paysandu', 'botafogo-pb', 'criciuma', 'remo', 'bragantino',\n",
       "       'atletico-ac', 'operario-pr', 'sao-francisco', 'sao-mateus',\n",
       "       'ferroviario', 'sampaio-correa', 'fast', 'juventude', 'tupi',\n",
       "       'iranduba', 'tupy-es', 'cuiaba', 'brasil-de-pelotas',\n",
       "       'comercial-sp', 'boa-esporte', 'parana', 'francana', 'moto-club',\n",
       "       'xv-de-piracicaba', 'ferroviaria', 'olimpia-sp', 'manaus',\n",
       "       'confianca', 'linhares', 'joinville', 'campinense', 'imperatriz',\n",
       "       'abc', 'asa', 'luverdense', 'atletico-es', 'america-rn',\n",
       "       'portuguesa', 'gremio-prudente', 'Corinthians', 'castelo',\n",
       "       'globo-fc', 'paduano', 'vitoria-es', None, 'tombense',\n",
       "       'portuguesa-santista', 'tuna-luso', 'tubarao', 'oeste',\n",
       "       'friburguense', 'votuporanguense', 'brasiliense', 'osvaldo-cruz',\n",
       "       'prudentopolis', 'river-pi', 'real-desportivo', 'icasa',\n",
       "       'salgueiro', 'rio-branco-sp', 'noroeste', 'novorizontino',\n",
       "       'tocantins', 'urt', 'sao-jose-sp', 'pelotas',\n",
       "       'desportiva-ferroviaria', 'itabaiana', 'serra', 'aparecidense',\n",
       "       'estanciano', 'petrolina', 'santacruz'], dtype=object)"
      ]
     },
     "execution_count": 475,
     "metadata": {},
     "output_type": "execute_result"
    }
   ],
   "source": [
    "am['url_times'].unique()"
   ]
  }
 ],
 "metadata": {
  "kernelspec": {
   "display_name": "Python 3",
   "language": "python",
   "name": "python3"
  },
  "language_info": {
   "codemirror_mode": {
    "name": "ipython",
    "version": 3
   },
   "file_extension": ".py",
   "mimetype": "text/x-python",
   "name": "python",
   "nbconvert_exporter": "python",
   "pygments_lexer": "ipython3",
   "version": "3.7.9"
  }
 },
 "nbformat": 4,
 "nbformat_minor": 4
}

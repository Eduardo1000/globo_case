{
 "cells": [
  {
   "cell_type": "markdown",
   "metadata": {},
   "source": [
    "# Análise Exploratória dos Dados"
   ]
  },
  {
   "cell_type": "code",
   "execution_count": 2,
   "metadata": {},
   "outputs": [],
   "source": [
    "import pandas as pd\n",
    "import numpy as np\n",
    "import os\n",
    "import matplotlib.pyplot as plt\n",
    "\n",
    "pd.set_option('max_rows', 500)"
   ]
  },
  {
   "cell_type": "code",
   "execution_count": 3,
   "metadata": {},
   "outputs": [
    {
     "data": {
      "text/plain": [
       "['BD_SERVICOS.csv', 'BD_CONSUMO.csv', 'BD_DEM_TIME.csv']"
      ]
     },
     "execution_count": 3,
     "metadata": {},
     "output_type": "execute_result"
    }
   ],
   "source": [
    "data_path = 'dataset'\n",
    "files = [x for x in os.listdir(data_path) if x.endswith('.csv')]\n",
    "files"
   ]
  },
  {
   "cell_type": "markdown",
   "metadata": {},
   "source": [
    "## Variáveis de Ambiente"
   ]
  },
  {
   "cell_type": "code",
   "execution_count": 3,
   "metadata": {},
   "outputs": [],
   "source": [
    "ano_atual = 2021\n",
    "ano_antigo = 1900"
   ]
  },
  {
   "cell_type": "markdown",
   "metadata": {},
   "source": [
    "# BD_DEM_TIME.csv"
   ]
  },
  {
   "cell_type": "code",
   "execution_count": 15,
   "metadata": {},
   "outputs": [
    {
     "data": {
      "text/html": [
       "<div>\n",
       "<style scoped>\n",
       "    .dataframe tbody tr th:only-of-type {\n",
       "        vertical-align: middle;\n",
       "    }\n",
       "\n",
       "    .dataframe tbody tr th {\n",
       "        vertical-align: top;\n",
       "    }\n",
       "\n",
       "    .dataframe thead th {\n",
       "        text-align: right;\n",
       "    }\n",
       "</style>\n",
       "<table border=\"1\" class=\"dataframe\">\n",
       "  <thead>\n",
       "    <tr style=\"text-align: right;\">\n",
       "      <th></th>\n",
       "      <th>KEY</th>\n",
       "      <th>SEXO</th>\n",
       "      <th>DTA_NASC</th>\n",
       "      <th>ESTADO</th>\n",
       "      <th>TIME</th>\n",
       "    </tr>\n",
       "  </thead>\n",
       "  <tbody>\n",
       "    <tr>\n",
       "      <th>0</th>\n",
       "      <td>2421280</td>\n",
       "      <td>M</td>\n",
       "      <td>1994.0</td>\n",
       "      <td>Minas Gerais</td>\n",
       "      <td>Cruzeiro</td>\n",
       "    </tr>\n",
       "    <tr>\n",
       "      <th>1</th>\n",
       "      <td>1604566</td>\n",
       "      <td>M</td>\n",
       "      <td>1990.0</td>\n",
       "      <td>Bahia</td>\n",
       "      <td>Flamengo</td>\n",
       "    </tr>\n",
       "    <tr>\n",
       "      <th>2</th>\n",
       "      <td>133472</td>\n",
       "      <td>M</td>\n",
       "      <td>1985.0</td>\n",
       "      <td>Rio de Janeiro</td>\n",
       "      <td>Botafogo</td>\n",
       "    </tr>\n",
       "    <tr>\n",
       "      <th>3</th>\n",
       "      <td>1069773</td>\n",
       "      <td>M</td>\n",
       "      <td>1989.0</td>\n",
       "      <td>Rio Grande do Sul</td>\n",
       "      <td>Gremio</td>\n",
       "    </tr>\n",
       "    <tr>\n",
       "      <th>4</th>\n",
       "      <td>2083240</td>\n",
       "      <td>M</td>\n",
       "      <td>1994.0</td>\n",
       "      <td>Sao Paulo</td>\n",
       "      <td>Santos</td>\n",
       "    </tr>\n",
       "    <tr>\n",
       "      <th>...</th>\n",
       "      <td>...</td>\n",
       "      <td>...</td>\n",
       "      <td>...</td>\n",
       "      <td>...</td>\n",
       "      <td>...</td>\n",
       "    </tr>\n",
       "    <tr>\n",
       "      <th>951459</th>\n",
       "      <td>2372668</td>\n",
       "      <td>M</td>\n",
       "      <td>1994.0</td>\n",
       "      <td>Rio Grande do Sul</td>\n",
       "      <td>Gremio</td>\n",
       "    </tr>\n",
       "    <tr>\n",
       "      <th>951460</th>\n",
       "      <td>1640963</td>\n",
       "      <td>M</td>\n",
       "      <td>1988.0</td>\n",
       "      <td>Sao Paulo</td>\n",
       "      <td>Sao Paulo</td>\n",
       "    </tr>\n",
       "    <tr>\n",
       "      <th>951461</th>\n",
       "      <td>810316</td>\n",
       "      <td>M</td>\n",
       "      <td>1982.0</td>\n",
       "      <td>Sao Paulo</td>\n",
       "      <td>Corinthians</td>\n",
       "    </tr>\n",
       "    <tr>\n",
       "      <th>951462</th>\n",
       "      <td>3113267</td>\n",
       "      <td>NaN</td>\n",
       "      <td>NaN</td>\n",
       "      <td>Rio de Janeiro</td>\n",
       "      <td>Botafogo</td>\n",
       "    </tr>\n",
       "    <tr>\n",
       "      <th>951463</th>\n",
       "      <td>1413278</td>\n",
       "      <td>M</td>\n",
       "      <td>1984.0</td>\n",
       "      <td>Parana</td>\n",
       "      <td>Corinthians</td>\n",
       "    </tr>\n",
       "  </tbody>\n",
       "</table>\n",
       "<p>951464 rows × 5 columns</p>\n",
       "</div>"
      ],
      "text/plain": [
       "            KEY SEXO  DTA_NASC             ESTADO         TIME\n",
       "0       2421280    M    1994.0       Minas Gerais     Cruzeiro\n",
       "1       1604566    M    1990.0              Bahia     Flamengo\n",
       "2        133472    M    1985.0     Rio de Janeiro     Botafogo\n",
       "3       1069773    M    1989.0  Rio Grande do Sul       Gremio\n",
       "4       2083240    M    1994.0          Sao Paulo       Santos\n",
       "...         ...  ...       ...                ...          ...\n",
       "951459  2372668    M    1994.0  Rio Grande do Sul       Gremio\n",
       "951460  1640963    M    1988.0          Sao Paulo    Sao Paulo\n",
       "951461   810316    M    1982.0          Sao Paulo  Corinthians\n",
       "951462  3113267  NaN       NaN     Rio de Janeiro     Botafogo\n",
       "951463  1413278    M    1984.0             Parana  Corinthians\n",
       "\n",
       "[951464 rows x 5 columns]"
      ]
     },
     "execution_count": 15,
     "metadata": {},
     "output_type": "execute_result"
    }
   ],
   "source": [
    "df_bem_time = pd.read_csv(os.path.join(data_path, 'BD_DEM_TIME.csv'))\n",
    "df_bem_time"
   ]
  },
  {
   "cell_type": "markdown",
   "metadata": {},
   "source": [
    "## Data de Nascimento"
   ]
  },
  {
   "cell_type": "code",
   "execution_count": 107,
   "metadata": {},
   "outputs": [],
   "source": [
    "column = 'DTA_NASC'\n",
    "mask = (df_bem_time[column]>ano_antigo) & (df_bem_time[column]<ano_atual)\n",
    "df_bem_time.loc[~mask, column] = None # joga quem ta fora da data para None\n",
    "df_bem_time['IDADE'] = ano_atual - df_bem_time[column]\n",
    "df_bem_time = df_bem_time.drop(columns=[column])"
   ]
  },
  {
   "cell_type": "markdown",
   "metadata": {},
   "source": [
    "## Idade"
   ]
  },
  {
   "cell_type": "code",
   "execution_count": 108,
   "metadata": {},
   "outputs": [
    {
     "data": {
      "text/plain": [
       "<AxesSubplot:title={'center':'IDADE'}, ylabel='Frequency'>"
      ]
     },
     "execution_count": 108,
     "metadata": {},
     "output_type": "execute_result"
    },
    {
     "data": {
      "image/png": "[encoded data removed]",
      "text/plain": [
       "<Figure size 1440x432 with 1 Axes>"
      ]
     },
     "metadata": {
      "needs_background": "light"
     },
     "output_type": "display_data"
    }
   ],
   "source": [
    "# Existem valores estranhos para Data de Nascimento\n",
    "column='IDADE'\n",
    "df_bem_time[column].plot.hist(figsize=(20, 6), title=column, bins=20)"
   ]
  },
  {
   "cell_type": "code",
   "execution_count": 112,
   "metadata": {},
   "outputs": [
    {
     "data": {
      "text/html": [
       "<div>\n",
       "<style scoped>\n",
       "    .dataframe tbody tr th:only-of-type {\n",
       "        vertical-align: middle;\n",
       "    }\n",
       "\n",
       "    .dataframe tbody tr th {\n",
       "        vertical-align: top;\n",
       "    }\n",
       "\n",
       "    .dataframe thead th {\n",
       "        text-align: right;\n",
       "    }\n",
       "</style>\n",
       "<table border=\"1\" class=\"dataframe\">\n",
       "  <thead>\n",
       "    <tr style=\"text-align: right;\">\n",
       "      <th></th>\n",
       "      <th>KEY</th>\n",
       "      <th>IDADE</th>\n",
       "    </tr>\n",
       "  </thead>\n",
       "  <tbody>\n",
       "    <tr>\n",
       "      <th>count</th>\n",
       "      <td>9.514640e+05</td>\n",
       "      <td>912526.000000</td>\n",
       "    </tr>\n",
       "    <tr>\n",
       "      <th>mean</th>\n",
       "      <td>1.708691e+06</td>\n",
       "      <td>33.298431</td>\n",
       "    </tr>\n",
       "    <tr>\n",
       "      <th>std</th>\n",
       "      <td>9.852548e+05</td>\n",
       "      <td>9.324710</td>\n",
       "    </tr>\n",
       "    <tr>\n",
       "      <th>min</th>\n",
       "      <td>3.000000e+00</td>\n",
       "      <td>3.000000</td>\n",
       "    </tr>\n",
       "    <tr>\n",
       "      <th>25%</th>\n",
       "      <td>8.548928e+05</td>\n",
       "      <td>27.000000</td>\n",
       "    </tr>\n",
       "    <tr>\n",
       "      <th>50%</th>\n",
       "      <td>1.709532e+06</td>\n",
       "      <td>32.000000</td>\n",
       "    </tr>\n",
       "    <tr>\n",
       "      <th>75%</th>\n",
       "      <td>2.562060e+06</td>\n",
       "      <td>38.000000</td>\n",
       "    </tr>\n",
       "    <tr>\n",
       "      <th>max</th>\n",
       "      <td>3.414422e+06</td>\n",
       "      <td>120.000000</td>\n",
       "    </tr>\n",
       "  </tbody>\n",
       "</table>\n",
       "</div>"
      ],
      "text/plain": [
       "                KEY          IDADE\n",
       "count  9.514640e+05  912526.000000\n",
       "mean   1.708691e+06      33.298431\n",
       "std    9.852548e+05       9.324710\n",
       "min    3.000000e+00       3.000000\n",
       "25%    8.548928e+05      27.000000\n",
       "50%    1.709532e+06      32.000000\n",
       "75%    2.562060e+06      38.000000\n",
       "max    3.414422e+06     120.000000"
      ]
     },
     "execution_count": 112,
     "metadata": {},
     "output_type": "execute_result"
    }
   ],
   "source": [
    "df_bem_time.describe()"
   ]
  },
  {
   "cell_type": "code",
   "execution_count": 111,
   "metadata": {},
   "outputs": [
    {
     "data": {
      "text/plain": [
       "38938"
      ]
     },
     "execution_count": 111,
     "metadata": {},
     "output_type": "execute_result"
    }
   ],
   "source": [
    "# Quantidade de Idades Nulas\n",
    "column='IDADE'\n",
    "df_bem_time[column].isna().sum()"
   ]
  },
  {
   "cell_type": "markdown",
   "metadata": {},
   "source": [
    "## Sexo"
   ]
  },
  {
   "cell_type": "code",
   "execution_count": 113,
   "metadata": {},
   "outputs": [],
   "source": [
    "column='SEXO'\n",
    "mask = (df_bem_time[column] == 'M') | (df_bem_time[column] == 'F')\n",
    "df_bem_time.loc[~mask, 'SEXO'] = None"
   ]
  },
  {
   "cell_type": "code",
   "execution_count": 124,
   "metadata": {},
   "outputs": [
    {
     "data": {
      "text/plain": [
       "<AxesSubplot:title={'center':'SEXO'}>"
      ]
     },
     "execution_count": 124,
     "metadata": {},
     "output_type": "execute_result"
    },
    {
     "data": {
      "image/png": "[encoded data removed]",
      "text/plain": [
       "<Figure size 1440x432 with 1 Axes>"
      ]
     },
     "metadata": {
      "needs_background": "light"
     },
     "output_type": "display_data"
    }
   ],
   "source": [
    "df_bem_time[column].value_counts().plot.bar(figsize=(20, 6), title=column)"
   ]
  },
  {
   "cell_type": "code",
   "execution_count": 118,
   "metadata": {},
   "outputs": [
    {
     "data": {
      "text/html": [
       "<div>\n",
       "<style scoped>\n",
       "    .dataframe tbody tr th:only-of-type {\n",
       "        vertical-align: middle;\n",
       "    }\n",
       "\n",
       "    .dataframe tbody tr th {\n",
       "        vertical-align: top;\n",
       "    }\n",
       "\n",
       "    .dataframe thead th {\n",
       "        text-align: right;\n",
       "    }\n",
       "</style>\n",
       "<table border=\"1\" class=\"dataframe\">\n",
       "  <thead>\n",
       "    <tr style=\"text-align: right;\">\n",
       "      <th></th>\n",
       "      <th>SEXO</th>\n",
       "    </tr>\n",
       "  </thead>\n",
       "  <tbody>\n",
       "    <tr>\n",
       "      <th>M</th>\n",
       "      <td>858914</td>\n",
       "    </tr>\n",
       "    <tr>\n",
       "      <th>F</th>\n",
       "      <td>51345</td>\n",
       "    </tr>\n",
       "    <tr>\n",
       "      <th>NaN</th>\n",
       "      <td>41205</td>\n",
       "    </tr>\n",
       "  </tbody>\n",
       "</table>\n",
       "</div>"
      ],
      "text/plain": [
       "       SEXO\n",
       "M    858914\n",
       "F     51345\n",
       "NaN   41205"
      ]
     },
     "execution_count": 118,
     "metadata": {},
     "output_type": "execute_result"
    }
   ],
   "source": [
    "df_bem_time[column].value_counts(dropna=False).to_frame()"
   ]
  },
  {
   "cell_type": "markdown",
   "metadata": {},
   "source": [
    "## Estado"
   ]
  },
  {
   "cell_type": "code",
   "execution_count": 130,
   "metadata": {},
   "outputs": [],
   "source": [
    "column = 'ESTADO'\n",
    "df_bem_time.loc[df_bem_time[column]=='Nao informado', column] = None"
   ]
  },
  {
   "cell_type": "code",
   "execution_count": 234,
   "metadata": {
    "scrolled": false
   },
   "outputs": [
    {
     "data": {
      "text/plain": [
       "<AxesSubplot:title={'center':'ESTADO'}>"
      ]
     },
     "execution_count": 234,
     "metadata": {},
     "output_type": "execute_result"
    },
    {
     "data": {
      "image/png": "[encoded data removed]",
      "text/plain": [
       "<Figure size 1440x432 with 1 Axes>"
      ]
     },
     "metadata": {
      "needs_background": "light"
     },
     "output_type": "display_data"
    }
   ],
   "source": [
    "column = 'ESTADO'\n",
    "df_bem_time[column].value_counts().plot.bar(figsize=(20, 6), title=column)"
   ]
  },
  {
   "cell_type": "code",
   "execution_count": 235,
   "metadata": {},
   "outputs": [
    {
     "data": {
      "text/html": [
       "<div>\n",
       "<style scoped>\n",
       "    .dataframe tbody tr th:only-of-type {\n",
       "        vertical-align: middle;\n",
       "    }\n",
       "\n",
       "    .dataframe tbody tr th {\n",
       "        vertical-align: top;\n",
       "    }\n",
       "\n",
       "    .dataframe thead th {\n",
       "        text-align: right;\n",
       "    }\n",
       "</style>\n",
       "<table border=\"1\" class=\"dataframe\">\n",
       "  <thead>\n",
       "    <tr style=\"text-align: right;\">\n",
       "      <th></th>\n",
       "      <th>ESTADO</th>\n",
       "    </tr>\n",
       "  </thead>\n",
       "  <tbody>\n",
       "    <tr>\n",
       "      <th>Sao Paulo</th>\n",
       "      <td>298040</td>\n",
       "    </tr>\n",
       "    <tr>\n",
       "      <th>Rio de Janeiro</th>\n",
       "      <td>150608</td>\n",
       "    </tr>\n",
       "    <tr>\n",
       "      <th>Minas Gerais</th>\n",
       "      <td>108878</td>\n",
       "    </tr>\n",
       "    <tr>\n",
       "      <th>Rio Grande do Sul</th>\n",
       "      <td>52139</td>\n",
       "    </tr>\n",
       "    <tr>\n",
       "      <th>Parana</th>\n",
       "      <td>49036</td>\n",
       "    </tr>\n",
       "    <tr>\n",
       "      <th>Bahia</th>\n",
       "      <td>47848</td>\n",
       "    </tr>\n",
       "    <tr>\n",
       "      <th>Santa Catarina</th>\n",
       "      <td>34581</td>\n",
       "    </tr>\n",
       "    <tr>\n",
       "      <th>Distrito Federal</th>\n",
       "      <td>24311</td>\n",
       "    </tr>\n",
       "    <tr>\n",
       "      <th>Espirito Santo</th>\n",
       "      <td>23790</td>\n",
       "    </tr>\n",
       "    <tr>\n",
       "      <th>Pernambuco</th>\n",
       "      <td>23001</td>\n",
       "    </tr>\n",
       "    <tr>\n",
       "      <th>Goias</th>\n",
       "      <td>21742</td>\n",
       "    </tr>\n",
       "    <tr>\n",
       "      <th>Paraiba</th>\n",
       "      <td>13130</td>\n",
       "    </tr>\n",
       "    <tr>\n",
       "      <th>Ceara</th>\n",
       "      <td>13059</td>\n",
       "    </tr>\n",
       "    <tr>\n",
       "      <th>Rio Grande do Norte</th>\n",
       "      <td>12802</td>\n",
       "    </tr>\n",
       "    <tr>\n",
       "      <th>Mato Grosso</th>\n",
       "      <td>10736</td>\n",
       "    </tr>\n",
       "    <tr>\n",
       "      <th>Mato Grosso do Sul</th>\n",
       "      <td>9242</td>\n",
       "    </tr>\n",
       "    <tr>\n",
       "      <th>Maranhao</th>\n",
       "      <td>9225</td>\n",
       "    </tr>\n",
       "    <tr>\n",
       "      <th>Para</th>\n",
       "      <td>7620</td>\n",
       "    </tr>\n",
       "    <tr>\n",
       "      <th>Piaui</th>\n",
       "      <td>6867</td>\n",
       "    </tr>\n",
       "    <tr>\n",
       "      <th>Alagoas</th>\n",
       "      <td>6405</td>\n",
       "    </tr>\n",
       "    <tr>\n",
       "      <th>Amazonas</th>\n",
       "      <td>6358</td>\n",
       "    </tr>\n",
       "    <tr>\n",
       "      <th>Sergipe</th>\n",
       "      <td>5815</td>\n",
       "    </tr>\n",
       "    <tr>\n",
       "      <th>Rondonia</th>\n",
       "      <td>4808</td>\n",
       "    </tr>\n",
       "    <tr>\n",
       "      <th>Tocantins</th>\n",
       "      <td>4192</td>\n",
       "    </tr>\n",
       "    <tr>\n",
       "      <th>Acre</th>\n",
       "      <td>3047</td>\n",
       "    </tr>\n",
       "    <tr>\n",
       "      <th>Amapa</th>\n",
       "      <td>1538</td>\n",
       "    </tr>\n",
       "    <tr>\n",
       "      <th>Fora do Brasil</th>\n",
       "      <td>1456</td>\n",
       "    </tr>\n",
       "    <tr>\n",
       "      <th>Roraima</th>\n",
       "      <td>943</td>\n",
       "    </tr>\n",
       "    <tr>\n",
       "      <th>Nao informado</th>\n",
       "      <td>247</td>\n",
       "    </tr>\n",
       "  </tbody>\n",
       "</table>\n",
       "</div>"
      ],
      "text/plain": [
       "                     ESTADO\n",
       "Sao Paulo            298040\n",
       "Rio de Janeiro       150608\n",
       "Minas Gerais         108878\n",
       "Rio Grande do Sul     52139\n",
       "Parana                49036\n",
       "Bahia                 47848\n",
       "Santa Catarina        34581\n",
       "Distrito Federal      24311\n",
       "Espirito Santo        23790\n",
       "Pernambuco            23001\n",
       "Goias                 21742\n",
       "Paraiba               13130\n",
       "Ceara                 13059\n",
       "Rio Grande do Norte   12802\n",
       "Mato Grosso           10736\n",
       "Mato Grosso do Sul     9242\n",
       "Maranhao               9225\n",
       "Para                   7620\n",
       "Piaui                  6867\n",
       "Alagoas                6405\n",
       "Amazonas               6358\n",
       "Sergipe                5815\n",
       "Rondonia               4808\n",
       "Tocantins              4192\n",
       "Acre                   3047\n",
       "Amapa                  1538\n",
       "Fora do Brasil         1456\n",
       "Roraima                 943\n",
       "Nao informado           247"
      ]
     },
     "execution_count": 235,
     "metadata": {},
     "output_type": "execute_result"
    }
   ],
   "source": [
    "df_bem_time[column].value_counts(dropna=False).to_frame()"
   ]
  },
  {
   "cell_type": "markdown",
   "metadata": {},
   "source": [
    "## Time"
   ]
  },
  {
   "cell_type": "code",
   "execution_count": 140,
   "metadata": {
    "scrolled": false
   },
   "outputs": [
    {
     "name": "stdout",
     "output_type": "stream",
     "text": [
      "Total de Times: 29\n"
     ]
    },
    {
     "data": {
      "text/plain": [
       "<AxesSubplot:title={'center':'TIME'}>"
      ]
     },
     "execution_count": 140,
     "metadata": {},
     "output_type": "execute_result"
    },
    {
     "data": {
      "image/png": "[encoded data removed]",
      "text/plain": [
       "<Figure size 1440x432 with 1 Axes>"
      ]
     },
     "metadata": {
      "needs_background": "light"
     },
     "output_type": "display_data"
    }
   ],
   "source": [
    "column='TIME'\n",
    "print('Total de Times:', len(df_bem_time[column].unique()))\n",
    "df_bem_time[column].value_counts().plot.bar(figsize=(20, 6), title=column)"
   ]
  },
  {
   "cell_type": "code",
   "execution_count": 53,
   "metadata": {},
   "outputs": [
    {
     "data": {
      "text/html": [
       "<div>\n",
       "<style scoped>\n",
       "    .dataframe tbody tr th:only-of-type {\n",
       "        vertical-align: middle;\n",
       "    }\n",
       "\n",
       "    .dataframe tbody tr th {\n",
       "        vertical-align: top;\n",
       "    }\n",
       "\n",
       "    .dataframe thead th {\n",
       "        text-align: right;\n",
       "    }\n",
       "</style>\n",
       "<table border=\"1\" class=\"dataframe\">\n",
       "  <thead>\n",
       "    <tr style=\"text-align: right;\">\n",
       "      <th></th>\n",
       "      <th>TIME</th>\n",
       "    </tr>\n",
       "  </thead>\n",
       "  <tbody>\n",
       "    <tr>\n",
       "      <th>Flamengo</th>\n",
       "      <td>189334</td>\n",
       "    </tr>\n",
       "    <tr>\n",
       "      <th>Corinthians</th>\n",
       "      <td>153985</td>\n",
       "    </tr>\n",
       "    <tr>\n",
       "      <th>Sao Paulo</th>\n",
       "      <td>133624</td>\n",
       "    </tr>\n",
       "    <tr>\n",
       "      <th>Palmeiras</th>\n",
       "      <td>103745</td>\n",
       "    </tr>\n",
       "    <tr>\n",
       "      <th>Vasco</th>\n",
       "      <td>67106</td>\n",
       "    </tr>\n",
       "    <tr>\n",
       "      <th>Cruzeiro</th>\n",
       "      <td>48067</td>\n",
       "    </tr>\n",
       "    <tr>\n",
       "      <th>Santos</th>\n",
       "      <td>45403</td>\n",
       "    </tr>\n",
       "    <tr>\n",
       "      <th>Gremio</th>\n",
       "      <td>43627</td>\n",
       "    </tr>\n",
       "    <tr>\n",
       "      <th>Atletico-MG</th>\n",
       "      <td>30082</td>\n",
       "    </tr>\n",
       "    <tr>\n",
       "      <th>Internacional</th>\n",
       "      <td>28143</td>\n",
       "    </tr>\n",
       "    <tr>\n",
       "      <th>Fluminense</th>\n",
       "      <td>26426</td>\n",
       "    </tr>\n",
       "    <tr>\n",
       "      <th>Botafogo</th>\n",
       "      <td>25644</td>\n",
       "    </tr>\n",
       "    <tr>\n",
       "      <th>Bahia</th>\n",
       "      <td>12683</td>\n",
       "    </tr>\n",
       "    <tr>\n",
       "      <th>Sport</th>\n",
       "      <td>11968</td>\n",
       "    </tr>\n",
       "    <tr>\n",
       "      <th>Vitoria</th>\n",
       "      <td>8075</td>\n",
       "    </tr>\n",
       "    <tr>\n",
       "      <th>Atletico-PR</th>\n",
       "      <td>6751</td>\n",
       "    </tr>\n",
       "    <tr>\n",
       "      <th>Nautico</th>\n",
       "      <td>2896</td>\n",
       "    </tr>\n",
       "    <tr>\n",
       "      <th>Goiais</th>\n",
       "      <td>2220</td>\n",
       "    </tr>\n",
       "    <tr>\n",
       "      <th>Figueirense</th>\n",
       "      <td>2183</td>\n",
       "    </tr>\n",
       "    <tr>\n",
       "      <th>Chapecoense</th>\n",
       "      <td>2171</td>\n",
       "    </tr>\n",
       "    <tr>\n",
       "      <th>ABC</th>\n",
       "      <td>2087</td>\n",
       "    </tr>\n",
       "    <tr>\n",
       "      <th>Paysandu</th>\n",
       "      <td>1447</td>\n",
       "    </tr>\n",
       "    <tr>\n",
       "      <th>Ponte Preta</th>\n",
       "      <td>1332</td>\n",
       "    </tr>\n",
       "    <tr>\n",
       "      <th>America-RN</th>\n",
       "      <td>1202</td>\n",
       "    </tr>\n",
       "    <tr>\n",
       "      <th>Portuguesa</th>\n",
       "      <td>631</td>\n",
       "    </tr>\n",
       "    <tr>\n",
       "      <th>Icasa</th>\n",
       "      <td>195</td>\n",
       "    </tr>\n",
       "    <tr>\n",
       "      <th>Luverdense</th>\n",
       "      <td>176</td>\n",
       "    </tr>\n",
       "    <tr>\n",
       "      <th>Bragantino</th>\n",
       "      <td>138</td>\n",
       "    </tr>\n",
       "    <tr>\n",
       "      <th>Gremio Prudente</th>\n",
       "      <td>123</td>\n",
       "    </tr>\n",
       "  </tbody>\n",
       "</table>\n",
       "</div>"
      ],
      "text/plain": [
       "                   TIME\n",
       "Flamengo         189334\n",
       "Corinthians      153985\n",
       "Sao Paulo        133624\n",
       "Palmeiras        103745\n",
       "Vasco             67106\n",
       "Cruzeiro          48067\n",
       "Santos            45403\n",
       "Gremio            43627\n",
       "Atletico-MG       30082\n",
       "Internacional     28143\n",
       "Fluminense        26426\n",
       "Botafogo          25644\n",
       "Bahia             12683\n",
       "Sport             11968\n",
       "Vitoria            8075\n",
       "Atletico-PR        6751\n",
       "Nautico            2896\n",
       "Goiais             2220\n",
       "Figueirense        2183\n",
       "Chapecoense        2171\n",
       "ABC                2087\n",
       "Paysandu           1447\n",
       "Ponte Preta        1332\n",
       "America-RN         1202\n",
       "Portuguesa          631\n",
       "Icasa               195\n",
       "Luverdense          176\n",
       "Bragantino          138\n",
       "Gremio Prudente     123"
      ]
     },
     "execution_count": 53,
     "metadata": {},
     "output_type": "execute_result"
    }
   ],
   "source": [
    "column='TIME'\n",
    "df_bem_time[column].value_counts(dropna=False).to_frame()"
   ]
  },
  {
   "cell_type": "markdown",
   "metadata": {},
   "source": [
    "# BD_SERVICOS.csv"
   ]
  },
  {
   "cell_type": "code",
   "execution_count": 4,
   "metadata": {},
   "outputs": [
    {
     "data": {
      "text/html": [
       "<div>\n",
       "<style scoped>\n",
       "    .dataframe tbody tr th:only-of-type {\n",
       "        vertical-align: middle;\n",
       "    }\n",
       "\n",
       "    .dataframe tbody tr th {\n",
       "        vertical-align: top;\n",
       "    }\n",
       "\n",
       "    .dataframe thead th {\n",
       "        text-align: right;\n",
       "    }\n",
       "</style>\n",
       "<table border=\"1\" class=\"dataframe\">\n",
       "  <thead>\n",
       "    <tr style=\"text-align: right;\">\n",
       "      <th></th>\n",
       "      <th>KEY</th>\n",
       "      <th>GLOBOPLAY</th>\n",
       "      <th>PREMIERE_PLAY</th>\n",
       "      <th>GLOBOSAT_PLAY</th>\n",
       "      <th>COMBATE</th>\n",
       "      <th>CARTOLA_PRO</th>\n",
       "    </tr>\n",
       "  </thead>\n",
       "  <tbody>\n",
       "    <tr>\n",
       "      <th>0</th>\n",
       "      <td>2812202</td>\n",
       "      <td>0</td>\n",
       "      <td>0</td>\n",
       "      <td>0</td>\n",
       "      <td>0</td>\n",
       "      <td>0</td>\n",
       "    </tr>\n",
       "    <tr>\n",
       "      <th>1</th>\n",
       "      <td>609314</td>\n",
       "      <td>0</td>\n",
       "      <td>0</td>\n",
       "      <td>0</td>\n",
       "      <td>0</td>\n",
       "      <td>0</td>\n",
       "    </tr>\n",
       "    <tr>\n",
       "      <th>2</th>\n",
       "      <td>1837779</td>\n",
       "      <td>0</td>\n",
       "      <td>0</td>\n",
       "      <td>0</td>\n",
       "      <td>0</td>\n",
       "      <td>0</td>\n",
       "    </tr>\n",
       "    <tr>\n",
       "      <th>3</th>\n",
       "      <td>950603</td>\n",
       "      <td>0</td>\n",
       "      <td>0</td>\n",
       "      <td>0</td>\n",
       "      <td>0</td>\n",
       "      <td>0</td>\n",
       "    </tr>\n",
       "    <tr>\n",
       "      <th>4</th>\n",
       "      <td>2105538</td>\n",
       "      <td>0</td>\n",
       "      <td>0</td>\n",
       "      <td>1</td>\n",
       "      <td>0</td>\n",
       "      <td>0</td>\n",
       "    </tr>\n",
       "    <tr>\n",
       "      <th>...</th>\n",
       "      <td>...</td>\n",
       "      <td>...</td>\n",
       "      <td>...</td>\n",
       "      <td>...</td>\n",
       "      <td>...</td>\n",
       "      <td>...</td>\n",
       "    </tr>\n",
       "    <tr>\n",
       "      <th>951459</th>\n",
       "      <td>1278011</td>\n",
       "      <td>1</td>\n",
       "      <td>0</td>\n",
       "      <td>1</td>\n",
       "      <td>0</td>\n",
       "      <td>1</td>\n",
       "    </tr>\n",
       "    <tr>\n",
       "      <th>951460</th>\n",
       "      <td>2042105</td>\n",
       "      <td>1</td>\n",
       "      <td>0</td>\n",
       "      <td>0</td>\n",
       "      <td>0</td>\n",
       "      <td>1</td>\n",
       "    </tr>\n",
       "    <tr>\n",
       "      <th>951461</th>\n",
       "      <td>1898803</td>\n",
       "      <td>1</td>\n",
       "      <td>1</td>\n",
       "      <td>1</td>\n",
       "      <td>0</td>\n",
       "      <td>1</td>\n",
       "    </tr>\n",
       "    <tr>\n",
       "      <th>951462</th>\n",
       "      <td>3106291</td>\n",
       "      <td>1</td>\n",
       "      <td>0</td>\n",
       "      <td>1</td>\n",
       "      <td>0</td>\n",
       "      <td>1</td>\n",
       "    </tr>\n",
       "    <tr>\n",
       "      <th>951463</th>\n",
       "      <td>897760</td>\n",
       "      <td>1</td>\n",
       "      <td>1</td>\n",
       "      <td>0</td>\n",
       "      <td>0</td>\n",
       "      <td>1</td>\n",
       "    </tr>\n",
       "  </tbody>\n",
       "</table>\n",
       "<p>951464 rows × 6 columns</p>\n",
       "</div>"
      ],
      "text/plain": [
       "            KEY  GLOBOPLAY  PREMIERE_PLAY  GLOBOSAT_PLAY  COMBATE  CARTOLA_PRO\n",
       "0       2812202          0              0              0        0            0\n",
       "1        609314          0              0              0        0            0\n",
       "2       1837779          0              0              0        0            0\n",
       "3        950603          0              0              0        0            0\n",
       "4       2105538          0              0              1        0            0\n",
       "...         ...        ...            ...            ...      ...          ...\n",
       "951459  1278011          1              0              1        0            1\n",
       "951460  2042105          1              0              0        0            1\n",
       "951461  1898803          1              1              1        0            1\n",
       "951462  3106291          1              0              1        0            1\n",
       "951463   897760          1              1              0        0            1\n",
       "\n",
       "[951464 rows x 6 columns]"
      ]
     },
     "execution_count": 4,
     "metadata": {},
     "output_type": "execute_result"
    }
   ],
   "source": [
    "df_servicos = pd.read_csv(os.path.join(data_path, 'BD_SERVICOS.csv'))\n",
    "df_servicos"
   ]
  },
  {
   "cell_type": "code",
   "execution_count": 7,
   "metadata": {},
   "outputs": [
    {
     "data": {
      "text/html": [
       "<div>\n",
       "<style scoped>\n",
       "    .dataframe tbody tr th:only-of-type {\n",
       "        vertical-align: middle;\n",
       "    }\n",
       "\n",
       "    .dataframe tbody tr th {\n",
       "        vertical-align: top;\n",
       "    }\n",
       "\n",
       "    .dataframe thead th {\n",
       "        text-align: right;\n",
       "    }\n",
       "</style>\n",
       "<table border=\"1\" class=\"dataframe\">\n",
       "  <thead>\n",
       "    <tr style=\"text-align: right;\">\n",
       "      <th></th>\n",
       "      <th>KEY</th>\n",
       "      <th>GLOBOPLAY</th>\n",
       "      <th>PREMIERE_PLAY</th>\n",
       "      <th>GLOBOSAT_PLAY</th>\n",
       "      <th>COMBATE</th>\n",
       "      <th>CARTOLA_PRO</th>\n",
       "    </tr>\n",
       "  </thead>\n",
       "  <tbody>\n",
       "    <tr>\n",
       "      <th>count</th>\n",
       "      <td>9.514640e+05</td>\n",
       "      <td>951464.000000</td>\n",
       "      <td>951464.000000</td>\n",
       "      <td>951464.000000</td>\n",
       "      <td>951464.000000</td>\n",
       "      <td>951464.000000</td>\n",
       "    </tr>\n",
       "    <tr>\n",
       "      <th>mean</th>\n",
       "      <td>1.708691e+06</td>\n",
       "      <td>0.401452</td>\n",
       "      <td>0.185091</td>\n",
       "      <td>0.237106</td>\n",
       "      <td>0.017795</td>\n",
       "      <td>0.154316</td>\n",
       "    </tr>\n",
       "    <tr>\n",
       "      <th>std</th>\n",
       "      <td>9.852548e+05</td>\n",
       "      <td>0.490192</td>\n",
       "      <td>0.388371</td>\n",
       "      <td>0.425308</td>\n",
       "      <td>0.132205</td>\n",
       "      <td>0.361251</td>\n",
       "    </tr>\n",
       "    <tr>\n",
       "      <th>min</th>\n",
       "      <td>3.000000e+00</td>\n",
       "      <td>0.000000</td>\n",
       "      <td>0.000000</td>\n",
       "      <td>0.000000</td>\n",
       "      <td>0.000000</td>\n",
       "      <td>0.000000</td>\n",
       "    </tr>\n",
       "    <tr>\n",
       "      <th>25%</th>\n",
       "      <td>8.548928e+05</td>\n",
       "      <td>0.000000</td>\n",
       "      <td>0.000000</td>\n",
       "      <td>0.000000</td>\n",
       "      <td>0.000000</td>\n",
       "      <td>0.000000</td>\n",
       "    </tr>\n",
       "    <tr>\n",
       "      <th>50%</th>\n",
       "      <td>1.709532e+06</td>\n",
       "      <td>0.000000</td>\n",
       "      <td>0.000000</td>\n",
       "      <td>0.000000</td>\n",
       "      <td>0.000000</td>\n",
       "      <td>0.000000</td>\n",
       "    </tr>\n",
       "    <tr>\n",
       "      <th>75%</th>\n",
       "      <td>2.562060e+06</td>\n",
       "      <td>1.000000</td>\n",
       "      <td>0.000000</td>\n",
       "      <td>0.000000</td>\n",
       "      <td>0.000000</td>\n",
       "      <td>0.000000</td>\n",
       "    </tr>\n",
       "    <tr>\n",
       "      <th>max</th>\n",
       "      <td>3.414422e+06</td>\n",
       "      <td>1.000000</td>\n",
       "      <td>1.000000</td>\n",
       "      <td>1.000000</td>\n",
       "      <td>1.000000</td>\n",
       "      <td>1.000000</td>\n",
       "    </tr>\n",
       "  </tbody>\n",
       "</table>\n",
       "</div>"
      ],
      "text/plain": [
       "                KEY      GLOBOPLAY  PREMIERE_PLAY  GLOBOSAT_PLAY  \\\n",
       "count  9.514640e+05  951464.000000  951464.000000  951464.000000   \n",
       "mean   1.708691e+06       0.401452       0.185091       0.237106   \n",
       "std    9.852548e+05       0.490192       0.388371       0.425308   \n",
       "min    3.000000e+00       0.000000       0.000000       0.000000   \n",
       "25%    8.548928e+05       0.000000       0.000000       0.000000   \n",
       "50%    1.709532e+06       0.000000       0.000000       0.000000   \n",
       "75%    2.562060e+06       1.000000       0.000000       0.000000   \n",
       "max    3.414422e+06       1.000000       1.000000       1.000000   \n",
       "\n",
       "             COMBATE    CARTOLA_PRO  \n",
       "count  951464.000000  951464.000000  \n",
       "mean        0.017795       0.154316  \n",
       "std         0.132205       0.361251  \n",
       "min         0.000000       0.000000  \n",
       "25%         0.000000       0.000000  \n",
       "50%         0.000000       0.000000  \n",
       "75%         0.000000       0.000000  \n",
       "max         1.000000       1.000000  "
      ]
     },
     "execution_count": 7,
     "metadata": {},
     "output_type": "execute_result"
    }
   ],
   "source": [
    "df_servicos.describe() # São colunas categóricas de fato"
   ]
  },
  {
   "cell_type": "code",
   "execution_count": 166,
   "metadata": {},
   "outputs": [
    {
     "data": {
      "text/plain": [
       "<AxesSubplot:>"
      ]
     },
     "execution_count": 166,
     "metadata": {},
     "output_type": "execute_result"
    },
    {
     "data": {
      "image/png": "[encoded data removed]",
      "text/plain": [
       "<Figure size 1440x432 with 1 Axes>"
      ]
     },
     "metadata": {
      "needs_background": "light"
     },
     "output_type": "display_data"
    }
   ],
   "source": [
    "df_servicos.drop(columns=['KEY']).sum().sort_values(ascending=False).plot.bar(figsize=(20, 6))"
   ]
  },
  {
   "cell_type": "code",
   "execution_count": 165,
   "metadata": {},
   "outputs": [
    {
     "data": {
      "text/plain": [
       "<AxesSubplot:title={'center':'Número de Serviços por Usuário'}>"
      ]
     },
     "execution_count": 165,
     "metadata": {},
     "output_type": "execute_result"
    },
    {
     "data": {
      "image/png": "[encoded data removed]",
      "text/plain": [
       "<Figure size 1440x432 with 1 Axes>"
      ]
     },
     "metadata": {
      "needs_background": "light"
     },
     "output_type": "display_data"
    }
   ],
   "source": [
    "plt.title('Número de Serviços por Usuário')\n",
    "df_servicos.drop(columns=['KEY']).sum(axis=1).hist(figsize=(20, 6), bins=5, align='left', rwidth=0.8)"
   ]
  },
  {
   "cell_type": "markdown",
   "metadata": {},
   "source": [
    "# BD_CONSUMO.csv"
   ]
  },
  {
   "cell_type": "code",
   "execution_count": 5,
   "metadata": {},
   "outputs": [
    {
     "data": {
      "text/plain": [
       "(14174706, 3)"
      ]
     },
     "execution_count": 5,
     "metadata": {},
     "output_type": "execute_result"
    }
   ],
   "source": [
    "df_consumo = pd.read_csv(os.path.join(data_path, 'BD_CONSUMO.csv'))\n",
    "df_consumo = df_consumo.dropna()\n",
    "df_consumo.shape"
   ]
  },
  {
   "cell_type": "code",
   "execution_count": 65,
   "metadata": {},
   "outputs": [],
   "source": [
    "df_group_consumo = df_consumo.groupby('KEY')"
   ]
  },
  {
   "cell_type": "code",
   "execution_count": 206,
   "metadata": {},
   "outputs": [
    {
     "data": {
      "text/plain": [
       "<AxesSubplot:>"
      ]
     },
     "execution_count": 206,
     "metadata": {},
     "output_type": "execute_result"
    },
    {
     "data": {
      "image/png": "[encoded data removed]",
      "text/plain": [
       "<Figure size 1440x432 with 1 Axes>"
      ]
     },
     "metadata": {
      "needs_background": "light"
     },
     "output_type": "display_data"
    }
   ],
   "source": [
    "df_group_consumo.count()['tempo'].hist(figsize=(20, 6), bins=100, log=True)"
   ]
  },
  {
   "cell_type": "code",
   "execution_count": 207,
   "metadata": {},
   "outputs": [
    {
     "data": {
      "text/html": [
       "<div>\n",
       "<style scoped>\n",
       "    .dataframe tbody tr th:only-of-type {\n",
       "        vertical-align: middle;\n",
       "    }\n",
       "\n",
       "    .dataframe tbody tr th {\n",
       "        vertical-align: top;\n",
       "    }\n",
       "\n",
       "    .dataframe thead th {\n",
       "        text-align: right;\n",
       "    }\n",
       "</style>\n",
       "<table border=\"1\" class=\"dataframe\">\n",
       "  <thead>\n",
       "    <tr style=\"text-align: right;\">\n",
       "      <th></th>\n",
       "      <th>tempo</th>\n",
       "    </tr>\n",
       "  </thead>\n",
       "  <tbody>\n",
       "    <tr>\n",
       "      <th>count</th>\n",
       "      <td>711705.0</td>\n",
       "    </tr>\n",
       "    <tr>\n",
       "      <th>mean</th>\n",
       "      <td>19.92</td>\n",
       "    </tr>\n",
       "    <tr>\n",
       "      <th>std</th>\n",
       "      <td>35.1</td>\n",
       "    </tr>\n",
       "    <tr>\n",
       "      <th>min</th>\n",
       "      <td>1.0</td>\n",
       "    </tr>\n",
       "    <tr>\n",
       "      <th>25%</th>\n",
       "      <td>2.0</td>\n",
       "    </tr>\n",
       "    <tr>\n",
       "      <th>50%</th>\n",
       "      <td>7.0</td>\n",
       "    </tr>\n",
       "    <tr>\n",
       "      <th>75%</th>\n",
       "      <td>23.0</td>\n",
       "    </tr>\n",
       "    <tr>\n",
       "      <th>90%</th>\n",
       "      <td>53.0</td>\n",
       "    </tr>\n",
       "    <tr>\n",
       "      <th>95%</th>\n",
       "      <td>82.0</td>\n",
       "    </tr>\n",
       "    <tr>\n",
       "      <th>99%</th>\n",
       "      <td>161.0</td>\n",
       "    </tr>\n",
       "    <tr>\n",
       "      <th>99.9%</th>\n",
       "      <td>328.0</td>\n",
       "    </tr>\n",
       "    <tr>\n",
       "      <th>max</th>\n",
       "      <td>3011.0</td>\n",
       "    </tr>\n",
       "  </tbody>\n",
       "</table>\n",
       "</div>"
      ],
      "text/plain": [
       "          tempo\n",
       "count  711705.0\n",
       "mean      19.92\n",
       "std        35.1\n",
       "min         1.0\n",
       "25%         2.0\n",
       "50%         7.0\n",
       "75%        23.0\n",
       "90%        53.0\n",
       "95%        82.0\n",
       "99%       161.0\n",
       "99.9%     328.0\n",
       "max      3011.0"
      ]
     },
     "execution_count": 207,
     "metadata": {},
     "output_type": "execute_result"
    }
   ],
   "source": [
    "df_group_consumo.count()['tempo'].describe(percentiles=[.25, .5, .75, .9, .95, .99, .999]).round(2).astype(str).to_frame()"
   ]
  },
  {
   "cell_type": "markdown",
   "metadata": {},
   "source": [
    "## tempo"
   ]
  },
  {
   "cell_type": "code",
   "execution_count": 191,
   "metadata": {},
   "outputs": [
    {
     "data": {
      "text/plain": [
       "<AxesSubplot:>"
      ]
     },
     "execution_count": 191,
     "metadata": {},
     "output_type": "execute_result"
    },
    {
     "data": {
      "image/png": "[encoded data removed]",
      "text/plain": [
       "<Figure size 1440x432 with 1 Axes>"
      ]
     },
     "metadata": {
      "needs_background": "light"
     },
     "output_type": "display_data"
    }
   ],
   "source": [
    "df_consumo['tempo'].hist(figsize=(20, 6), bins=100, log=True)"
   ]
  },
  {
   "cell_type": "code",
   "execution_count": 202,
   "metadata": {},
   "outputs": [
    {
     "data": {
      "text/html": [
       "<div>\n",
       "<style scoped>\n",
       "    .dataframe tbody tr th:only-of-type {\n",
       "        vertical-align: middle;\n",
       "    }\n",
       "\n",
       "    .dataframe tbody tr th {\n",
       "        vertical-align: top;\n",
       "    }\n",
       "\n",
       "    .dataframe thead th {\n",
       "        text-align: right;\n",
       "    }\n",
       "</style>\n",
       "<table border=\"1\" class=\"dataframe\">\n",
       "  <thead>\n",
       "    <tr style=\"text-align: right;\">\n",
       "      <th></th>\n",
       "      <th>KEY</th>\n",
       "      <th>tempo</th>\n",
       "      <th>url</th>\n",
       "    </tr>\n",
       "  </thead>\n",
       "  <tbody>\n",
       "    <tr>\n",
       "      <th>1098</th>\n",
       "      <td>1367044</td>\n",
       "      <td>7656.0</td>\n",
       "      <td>https://globoesporte.globo.com/futebol/times/f...</td>\n",
       "    </tr>\n",
       "    <tr>\n",
       "      <th>2022</th>\n",
       "      <td>2735619</td>\n",
       "      <td>9209.0</td>\n",
       "      <td>https://globoesporte.globo.com/futebol/times/s...</td>\n",
       "    </tr>\n",
       "    <tr>\n",
       "      <th>2372</th>\n",
       "      <td>2226394</td>\n",
       "      <td>7743.0</td>\n",
       "      <td>http://globoesporte.globo.com/sp/santos-e-regi...</td>\n",
       "    </tr>\n",
       "    <tr>\n",
       "      <th>3476</th>\n",
       "      <td>3306127</td>\n",
       "      <td>8826.0</td>\n",
       "      <td>https://globoesporte.globo.com/futebol/selecoe...</td>\n",
       "    </tr>\n",
       "    <tr>\n",
       "      <th>4829</th>\n",
       "      <td>2079106</td>\n",
       "      <td>9564.0</td>\n",
       "      <td>http://globoesporte.globo.com/ba/futebol/notic...</td>\n",
       "    </tr>\n",
       "    <tr>\n",
       "      <th>...</th>\n",
       "      <td>...</td>\n",
       "      <td>...</td>\n",
       "      <td>...</td>\n",
       "    </tr>\n",
       "    <tr>\n",
       "      <th>14167280</th>\n",
       "      <td>1980873</td>\n",
       "      <td>7599.0</td>\n",
       "      <td>https://globoesporte.globo.com/ba/futebol/time...</td>\n",
       "    </tr>\n",
       "    <tr>\n",
       "      <th>14167899</th>\n",
       "      <td>2695456</td>\n",
       "      <td>8473.0</td>\n",
       "      <td>https://globoesporte.globo.com/mg/futebol/noti...</td>\n",
       "    </tr>\n",
       "    <tr>\n",
       "      <th>14169515</th>\n",
       "      <td>1837580</td>\n",
       "      <td>9043.0</td>\n",
       "      <td>https://globoesporte.globo.com/sp/santos-e-reg...</td>\n",
       "    </tr>\n",
       "    <tr>\n",
       "      <th>14173108</th>\n",
       "      <td>170879</td>\n",
       "      <td>7732.0</td>\n",
       "      <td>http://globoesporte.globo.com/rs/futebol/times...</td>\n",
       "    </tr>\n",
       "    <tr>\n",
       "      <th>14173808</th>\n",
       "      <td>679840</td>\n",
       "      <td>11903.0</td>\n",
       "      <td>https://globoesporte.globo.com/futebol/times/s...</td>\n",
       "    </tr>\n",
       "  </tbody>\n",
       "</table>\n",
       "<p>14172 rows × 3 columns</p>\n",
       "</div>"
      ],
      "text/plain": [
       "              KEY    tempo                                                url\n",
       "1098      1367044   7656.0  https://globoesporte.globo.com/futebol/times/f...\n",
       "2022      2735619   9209.0  https://globoesporte.globo.com/futebol/times/s...\n",
       "2372      2226394   7743.0  http://globoesporte.globo.com/sp/santos-e-regi...\n",
       "3476      3306127   8826.0  https://globoesporte.globo.com/futebol/selecoe...\n",
       "4829      2079106   9564.0  http://globoesporte.globo.com/ba/futebol/notic...\n",
       "...           ...      ...                                                ...\n",
       "14167280  1980873   7599.0  https://globoesporte.globo.com/ba/futebol/time...\n",
       "14167899  2695456   8473.0  https://globoesporte.globo.com/mg/futebol/noti...\n",
       "14169515  1837580   9043.0  https://globoesporte.globo.com/sp/santos-e-reg...\n",
       "14173108   170879   7732.0  http://globoesporte.globo.com/rs/futebol/times...\n",
       "14173808   679840  11903.0  https://globoesporte.globo.com/futebol/times/s...\n",
       "\n",
       "[14172 rows x 3 columns]"
      ]
     },
     "execution_count": 202,
     "metadata": {},
     "output_type": "execute_result"
    }
   ],
   "source": [
    "df_consumo[df_consumo['tempo'] > 7550]"
   ]
  },
  {
   "cell_type": "code",
   "execution_count": 204,
   "metadata": {},
   "outputs": [
    {
     "data": {
      "text/html": [
       "<div>\n",
       "<style scoped>\n",
       "    .dataframe tbody tr th:only-of-type {\n",
       "        vertical-align: middle;\n",
       "    }\n",
       "\n",
       "    .dataframe tbody tr th {\n",
       "        vertical-align: top;\n",
       "    }\n",
       "\n",
       "    .dataframe thead th {\n",
       "        text-align: right;\n",
       "    }\n",
       "</style>\n",
       "<table border=\"1\" class=\"dataframe\">\n",
       "  <thead>\n",
       "    <tr style=\"text-align: right;\">\n",
       "      <th></th>\n",
       "      <th>tempo</th>\n",
       "    </tr>\n",
       "  </thead>\n",
       "  <tbody>\n",
       "    <tr>\n",
       "      <th>count</th>\n",
       "      <td>14174706.0</td>\n",
       "    </tr>\n",
       "    <tr>\n",
       "      <th>mean</th>\n",
       "      <td>1362.17</td>\n",
       "    </tr>\n",
       "    <tr>\n",
       "      <th>std</th>\n",
       "      <td>978.27</td>\n",
       "    </tr>\n",
       "    <tr>\n",
       "      <th>min</th>\n",
       "      <td>292.0</td>\n",
       "    </tr>\n",
       "    <tr>\n",
       "      <th>25%</th>\n",
       "      <td>726.0</td>\n",
       "    </tr>\n",
       "    <tr>\n",
       "      <th>50%</th>\n",
       "      <td>1150.0</td>\n",
       "    </tr>\n",
       "    <tr>\n",
       "      <th>75%</th>\n",
       "      <td>1754.0</td>\n",
       "    </tr>\n",
       "    <tr>\n",
       "      <th>90%</th>\n",
       "      <td>2561.0</td>\n",
       "    </tr>\n",
       "    <tr>\n",
       "      <th>95%</th>\n",
       "      <td>3142.0</td>\n",
       "    </tr>\n",
       "    <tr>\n",
       "      <th>99%</th>\n",
       "      <td>4731.0</td>\n",
       "    </tr>\n",
       "    <tr>\n",
       "      <th>99.9%</th>\n",
       "      <td>7550.0</td>\n",
       "    </tr>\n",
       "    <tr>\n",
       "      <th>max</th>\n",
       "      <td>119347.0</td>\n",
       "    </tr>\n",
       "  </tbody>\n",
       "</table>\n",
       "</div>"
      ],
      "text/plain": [
       "            tempo\n",
       "count  14174706.0\n",
       "mean      1362.17\n",
       "std        978.27\n",
       "min         292.0\n",
       "25%         726.0\n",
       "50%        1150.0\n",
       "75%        1754.0\n",
       "90%        2561.0\n",
       "95%        3142.0\n",
       "99%        4731.0\n",
       "99.9%      7550.0\n",
       "max      119347.0"
      ]
     },
     "execution_count": 204,
     "metadata": {},
     "output_type": "execute_result"
    }
   ],
   "source": [
    "df_consumo['tempo'].describe(percentiles=[.25, .5, .75, .9, .95, .99, .999]).round(2).astype(str).to_frame()"
   ]
  },
  {
   "cell_type": "markdown",
   "metadata": {},
   "source": [
    "## links"
   ]
  },
  {
   "cell_type": "code",
   "execution_count": 6,
   "metadata": {},
   "outputs": [],
   "source": [
    "am = df_consumo[:].copy()"
   ]
  },
  {
   "cell_type": "code",
   "execution_count": 7,
   "metadata": {},
   "outputs": [],
   "source": [
    "# remove o nome do site, pega apenas os argumentos\n",
    "am['url'] = am['url'].str.split(\".com/\").str.get(1)"
   ]
  },
  {
   "cell_type": "code",
   "execution_count": 8,
   "metadata": {},
   "outputs": [],
   "source": [
    "split_futebol = am['url'].str.split(\"futebol/\")"
   ]
  },
  {
   "cell_type": "code",
   "execution_count": 393,
   "metadata": {},
   "outputs": [],
   "source": [
    "am['url_region'] = split_futebol.str.get(0).str[:-1]"
   ]
  },
  {
   "cell_type": "code",
   "execution_count": 394,
   "metadata": {},
   "outputs": [],
   "source": [
    "am['url_region'] = am['url_region'].str.split(\"/\").str.get(0)"
   ]
  },
  {
   "cell_type": "code",
   "execution_count": 395,
   "metadata": {},
   "outputs": [],
   "source": [
    "am.loc[am['url_region'].str.len() > 2, 'url_region'] = None"
   ]
  },
  {
   "cell_type": "code",
   "execution_count": 396,
   "metadata": {},
   "outputs": [],
   "source": [
    "am.loc[am['url_region'] == '', 'url_region'] = None"
   ]
  },
  {
   "cell_type": "code",
   "execution_count": 9,
   "metadata": {},
   "outputs": [],
   "source": [
    "split_noticia = split_futebol.str.get(1).str.split(\"noticia/\")"
   ]
  },
  {
   "cell_type": "code",
   "execution_count": 398,
   "metadata": {},
   "outputs": [],
   "source": [
    "am['url_noticia'] = split_noticia.str.get(1)"
   ]
  },
  {
   "cell_type": "code",
   "execution_count": null,
   "metadata": {},
   "outputs": [],
   "source": [
    "am['url_noticia'] = am['url_noticia'].str.replace('-', '')"
   ]
  },
  {
   "cell_type": "code",
   "execution_count": 9,
   "metadata": {},
   "outputs": [],
   "source": [
    "am['url_campeonato'] = split_noticia.str.get(0).str.split(\"times/\").str.get(0).str[:-1]"
   ]
  },
  {
   "cell_type": "code",
   "execution_count": 10,
   "metadata": {},
   "outputs": [],
   "source": [
    "am['url_campeonato'] = am['url_campeonato'].str.split(\"/\").str.get(0)"
   ]
  },
  {
   "cell_type": "code",
   "execution_count": 11,
   "metadata": {},
   "outputs": [],
   "source": [
    "am.loc[am['url_campeonato'] == '', 'url_campeonato'] = None"
   ]
  },
  {
   "cell_type": "code",
   "execution_count": 10,
   "metadata": {},
   "outputs": [],
   "source": [
    "am['url_times'] = split_noticia.str.get(0).str.split(\"times/\").str.get(1).str[:-1]"
   ]
  },
  {
   "cell_type": "code",
   "execution_count": 11,
   "metadata": {},
   "outputs": [],
   "source": [
    "am['url_times'] = am['url_times'].str.split(\"/\").str.get(0)"
   ]
  },
  {
   "cell_type": "code",
   "execution_count": 12,
   "metadata": {},
   "outputs": [
    {
     "ename": "NameError",
     "evalue": "name 'df_bem_time' is not defined",
     "output_type": "error",
     "traceback": [
      "\u001b[0;31m---------------------------------------------------------------------------\u001b[0m",
      "\u001b[0;31mNameError\u001b[0m                                 Traceback (most recent call last)",
      "\u001b[0;32m<ipython-input-12-5c44527e7443>\u001b[0m in \u001b[0;36m<module>\u001b[0;34m\u001b[0m\n\u001b[1;32m      1\u001b[0m \u001b[0mam\u001b[0m\u001b[0;34m[\u001b[0m\u001b[0;34m'url_times'\u001b[0m\u001b[0;34m]\u001b[0m \u001b[0;34m=\u001b[0m \u001b[0mam\u001b[0m\u001b[0;34m[\u001b[0m\u001b[0;34m'url_times'\u001b[0m\u001b[0;34m]\u001b[0m\u001b[0;34m.\u001b[0m\u001b[0mstr\u001b[0m\u001b[0;34m.\u001b[0m\u001b[0mlower\u001b[0m\u001b[0;34m(\u001b[0m\u001b[0;34m)\u001b[0m\u001b[0;34m.\u001b[0m\u001b[0mstr\u001b[0m\u001b[0;34m.\u001b[0m\u001b[0mreplace\u001b[0m\u001b[0;34m(\u001b[0m\u001b[0;34m'-'\u001b[0m\u001b[0;34m,\u001b[0m \u001b[0;34m''\u001b[0m\u001b[0;34m)\u001b[0m\u001b[0;34m.\u001b[0m\u001b[0mstr\u001b[0m\u001b[0;34m.\u001b[0m\u001b[0mreplace\u001b[0m\u001b[0;34m(\u001b[0m\u001b[0;34m' '\u001b[0m\u001b[0;34m,\u001b[0m \u001b[0;34m''\u001b[0m\u001b[0;34m)\u001b[0m\u001b[0;34m.\u001b[0m\u001b[0mstr\u001b[0m\u001b[0;34m.\u001b[0m\u001b[0mreplace\u001b[0m\u001b[0;34m(\u001b[0m\u001b[0;34m'siga'\u001b[0m\u001b[0;34m,\u001b[0m \u001b[0;34m''\u001b[0m\u001b[0;34m)\u001b[0m\u001b[0;34m\u001b[0m\u001b[0;34m\u001b[0m\u001b[0m\n\u001b[1;32m      2\u001b[0m \u001b[0;34m\u001b[0m\u001b[0m\n\u001b[0;32m----> 3\u001b[0;31m \u001b[0mnome_times\u001b[0m \u001b[0;34m=\u001b[0m \u001b[0mdf_bem_time\u001b[0m\u001b[0;34m[\u001b[0m\u001b[0;34m'TIME'\u001b[0m\u001b[0;34m]\u001b[0m\u001b[0;34m.\u001b[0m\u001b[0mstr\u001b[0m\u001b[0;34m.\u001b[0m\u001b[0mreplace\u001b[0m\u001b[0;34m(\u001b[0m\u001b[0;34m'-'\u001b[0m\u001b[0;34m,\u001b[0m \u001b[0;34m''\u001b[0m\u001b[0;34m)\u001b[0m\u001b[0;34m.\u001b[0m\u001b[0mstr\u001b[0m\u001b[0;34m.\u001b[0m\u001b[0mreplace\u001b[0m\u001b[0;34m(\u001b[0m\u001b[0;34m' '\u001b[0m\u001b[0;34m,\u001b[0m \u001b[0;34m''\u001b[0m\u001b[0;34m)\u001b[0m\u001b[0;34m.\u001b[0m\u001b[0mstr\u001b[0m\u001b[0;34m.\u001b[0m\u001b[0mlower\u001b[0m\u001b[0;34m(\u001b[0m\u001b[0;34m)\u001b[0m\u001b[0;34m.\u001b[0m\u001b[0munique\u001b[0m\u001b[0;34m(\u001b[0m\u001b[0;34m)\u001b[0m\u001b[0;34m\u001b[0m\u001b[0;34m\u001b[0m\u001b[0m\n\u001b[0m\u001b[1;32m      4\u001b[0m \u001b[0;34m\u001b[0m\u001b[0m\n\u001b[1;32m      5\u001b[0m \u001b[0mam\u001b[0m\u001b[0;34m.\u001b[0m\u001b[0mloc\u001b[0m\u001b[0;34m[\u001b[0m\u001b[0mam\u001b[0m\u001b[0;34m[\u001b[0m\u001b[0;34m'url_times'\u001b[0m\u001b[0;34m]\u001b[0m\u001b[0;34m.\u001b[0m\u001b[0misin\u001b[0m\u001b[0;34m(\u001b[0m\u001b[0mnome_times\u001b[0m\u001b[0;34m)\u001b[0m\u001b[0;34m==\u001b[0m\u001b[0;32mFalse\u001b[0m\u001b[0;34m,\u001b[0m \u001b[0;34m'url_times'\u001b[0m\u001b[0;34m]\u001b[0m \u001b[0;34m=\u001b[0m \u001b[0;32mNone\u001b[0m\u001b[0;34m\u001b[0m\u001b[0;34m\u001b[0m\u001b[0m\n",
      "\u001b[0;31mNameError\u001b[0m: name 'df_bem_time' is not defined"
     ]
    }
   ],
   "source": [
    "am['url_times'] = am['url_times'].str.lower().str.replace('-', '').str.replace(' ', '').str.replace('siga', '')\n",
    "\n",
    "nome_times = df_bem_time['TIME'].str.replace('-', '').str.replace(' ', '').str.lower().unique()\n",
    "\n",
    "am.loc[am['url_times'].isin(nome_times)==False, 'url_times'] = None"
   ]
  },
  {
   "cell_type": "code",
   "execution_count": null,
   "metadata": {},
   "outputs": [],
   "source": [
    "#am.loc[am['url_times'] == '', 'url_times'] = None"
   ]
  },
  {
   "cell_type": "code",
   "execution_count": null,
   "metadata": {},
   "outputs": [],
   "source": [
    "am.drop(columns=['url'], inplace=True)"
   ]
  },
  {
   "cell_type": "code",
   "execution_count": null,
   "metadata": {},
   "outputs": [],
   "source": [
    "am"
   ]
  },
  {
   "cell_type": "markdown",
   "metadata": {},
   "source": [
    "## url_region"
   ]
  },
  {
   "cell_type": "code",
   "execution_count": 465,
   "metadata": {},
   "outputs": [
    {
     "data": {
      "text/plain": [
       "array(['mg', None, 'pb', 'sp', 'rj', 'al', 'pr', 'rs', 'sc', 'ce', 'go',\n",
       "       'ba', 'pe', 'rn', 'df', 'pi', 'am', 'pa', 'ac', 'es', 'ma', 'mt',\n",
       "       'to', 'se', 'ms', 'ap', 'ro'], dtype=object)"
      ]
     },
     "execution_count": 465,
     "metadata": {},
     "output_type": "execute_result"
    }
   ],
   "source": [
    "am['url_region'].unique()"
   ]
  },
  {
   "cell_type": "code",
   "execution_count": 398,
   "metadata": {
    "scrolled": false
   },
   "outputs": [
    {
     "data": {
      "text/plain": [
       "<AxesSubplot:title={'center':'url_region'}>"
      ]
     },
     "execution_count": 398,
     "metadata": {},
     "output_type": "execute_result"
    },
    {
     "data": {
      "image/png": "[encoded data removed]",
      "text/plain": [
       "<Figure size 1440x432 with 1 Axes>"
      ]
     },
     "metadata": {
      "needs_background": "light"
     },
     "output_type": "display_data"
    }
   ],
   "source": [
    "am['url_region'].value_counts().plot.bar(figsize=(20, 6), title='url_region', rot=0)"
   ]
  },
  {
   "cell_type": "code",
   "execution_count": 396,
   "metadata": {
    "scrolled": true
   },
   "outputs": [
    {
     "data": {
      "text/plain": [
       "NaN    66454\n",
       "sp     12687\n",
       "rs      9683\n",
       "pr      1958\n",
       "pe      1778\n",
       "ba      1665\n",
       "rj      1354\n",
       "sc      1310\n",
       "mg       875\n",
       "ce       839\n",
       "al       587\n",
       "go       245\n",
       "am       129\n",
       "pb        98\n",
       "pa        78\n",
       "pi        53\n",
       "ma        43\n",
       "es        38\n",
       "df        33\n",
       "ac        31\n",
       "rn        24\n",
       "to        12\n",
       "mt        12\n",
       "se         7\n",
       "ap         3\n",
       "ms         3\n",
       "ro         1\n",
       "Name: url_region, dtype: int64"
      ]
     },
     "execution_count": 396,
     "metadata": {},
     "output_type": "execute_result"
    }
   ],
   "source": [
    "am['url_region'].value_counts(dropna=False)"
   ]
  },
  {
   "cell_type": "markdown",
   "metadata": {},
   "source": [
    "## url_noticia"
   ]
  },
  {
   "cell_type": "code",
   "execution_count": 285,
   "metadata": {},
   "outputs": [
    {
     "data": {
      "text/plain": [
       "(162656,)"
      ]
     },
     "execution_count": 285,
     "metadata": {},
     "output_type": "execute_result"
    }
   ],
   "source": [
    "am['url_noticia'].dropna().shape"
   ]
  },
  {
   "cell_type": "code",
   "execution_count": 410,
   "metadata": {},
   "outputs": [
    {
     "data": {
      "text/plain": [
       "0         False\n",
       "1          True\n",
       "2          True\n",
       "3         False\n",
       "4         False\n",
       "          ...  \n",
       "299995    False\n",
       "299996     True\n",
       "299997     True\n",
       "299998    False\n",
       "299999     True\n",
       "Name: url_noticia, Length: 300000, dtype: bool"
      ]
     },
     "execution_count": 410,
     "metadata": {},
     "output_type": "execute_result"
    }
   ],
   "source": [
    "am['url_noticia'].isna()"
   ]
  },
  {
   "cell_type": "code",
   "execution_count": 417,
   "metadata": {},
   "outputs": [
    {
     "data": {
      "text/html": [
       "<div>\n",
       "<style scoped>\n",
       "    .dataframe tbody tr th:only-of-type {\n",
       "        vertical-align: middle;\n",
       "    }\n",
       "\n",
       "    .dataframe tbody tr th {\n",
       "        vertical-align: top;\n",
       "    }\n",
       "\n",
       "    .dataframe thead th {\n",
       "        text-align: right;\n",
       "    }\n",
       "</style>\n",
       "<table border=\"1\" class=\"dataframe\">\n",
       "  <thead>\n",
       "    <tr style=\"text-align: right;\">\n",
       "      <th></th>\n",
       "      <th>KEY</th>\n",
       "      <th>tempo</th>\n",
       "      <th>url_region</th>\n",
       "      <th>url_noticia</th>\n",
       "      <th>url_times</th>\n",
       "    </tr>\n",
       "  </thead>\n",
       "  <tbody>\n",
       "    <tr>\n",
       "      <th>10</th>\n",
       "      <td>1044874</td>\n",
       "      <td>1850.0</td>\n",
       "      <td>pr</td>\n",
       "      <td>rodada20tudooquevoceprecisasabersobreparanaxsa...</td>\n",
       "      <td>None</td>\n",
       "    </tr>\n",
       "    <tr>\n",
       "      <th>17</th>\n",
       "      <td>1019801</td>\n",
       "      <td>478.0</td>\n",
       "      <td>sp</td>\n",
       "      <td>rodada20tudooquevoceprecisasabersobrepalmeiras...</td>\n",
       "      <td>None</td>\n",
       "    </tr>\n",
       "    <tr>\n",
       "      <th>21</th>\n",
       "      <td>2853306</td>\n",
       "      <td>1661.0</td>\n",
       "      <td>rj</td>\n",
       "      <td>segueovicelidersaopauloassumeliderancaetorcedo...</td>\n",
       "      <td>None</td>\n",
       "    </tr>\n",
       "    <tr>\n",
       "      <th>56</th>\n",
       "      <td>2473054</td>\n",
       "      <td>736.0</td>\n",
       "      <td>rs</td>\n",
       "      <td>alemdetitegremioxflamengoatraiolheiroseuropeus...</td>\n",
       "      <td>None</td>\n",
       "    </tr>\n",
       "    <tr>\n",
       "      <th>58</th>\n",
       "      <td>3295101</td>\n",
       "      <td>2154.0</td>\n",
       "      <td>sp</td>\n",
       "      <td>saopauloacertaacontratacaodeevertonfelipemorat...</td>\n",
       "      <td>None</td>\n",
       "    </tr>\n",
       "    <tr>\n",
       "      <th>...</th>\n",
       "      <td>...</td>\n",
       "      <td>...</td>\n",
       "      <td>...</td>\n",
       "      <td>...</td>\n",
       "      <td>...</td>\n",
       "    </tr>\n",
       "    <tr>\n",
       "      <th>299875</th>\n",
       "      <td>1019642</td>\n",
       "      <td>2602.0</td>\n",
       "      <td>sp</td>\n",
       "      <td>stjdaceitapedidodopalmeirasparajulgarcasoeadia...</td>\n",
       "      <td>None</td>\n",
       "    </tr>\n",
       "    <tr>\n",
       "      <th>299899</th>\n",
       "      <td>2645627</td>\n",
       "      <td>1878.0</td>\n",
       "      <td>sp</td>\n",
       "      <td>rodada20tudooquevoceprecisasabersobrepalmeiras...</td>\n",
       "      <td>None</td>\n",
       "    </tr>\n",
       "    <tr>\n",
       "      <th>299919</th>\n",
       "      <td>67876</td>\n",
       "      <td>1123.0</td>\n",
       "      <td>pe</td>\n",
       "      <td>nosportevertonfelipepedeparanaotreinarenquanto...</td>\n",
       "      <td>None</td>\n",
       "    </tr>\n",
       "    <tr>\n",
       "      <th>299962</th>\n",
       "      <td>120992</td>\n",
       "      <td>2349.0</td>\n",
       "      <td>sp</td>\n",
       "      <td>rodada18tudooquevoceprecisasabersobrepalmeiras...</td>\n",
       "      <td>None</td>\n",
       "    </tr>\n",
       "    <tr>\n",
       "      <th>299998</th>\n",
       "      <td>1783120</td>\n",
       "      <td>754.0</td>\n",
       "      <td>pr</td>\n",
       "      <td>gremioderenatoenfrentanovoatleticopraposdueloe...</td>\n",
       "      <td>None</td>\n",
       "    </tr>\n",
       "  </tbody>\n",
       "</table>\n",
       "<p>20688 rows × 5 columns</p>\n",
       "</div>"
      ],
      "text/plain": [
       "            KEY   tempo url_region  \\\n",
       "10      1044874  1850.0         pr   \n",
       "17      1019801   478.0         sp   \n",
       "21      2853306  1661.0         rj   \n",
       "56      2473054   736.0         rs   \n",
       "58      3295101  2154.0         sp   \n",
       "...         ...     ...        ...   \n",
       "299875  1019642  2602.0         sp   \n",
       "299899  2645627  1878.0         sp   \n",
       "299919    67876  1123.0         pe   \n",
       "299962   120992  2349.0         sp   \n",
       "299998  1783120   754.0         pr   \n",
       "\n",
       "                                              url_noticia url_times  \n",
       "10      rodada20tudooquevoceprecisasabersobreparanaxsa...      None  \n",
       "17      rodada20tudooquevoceprecisasabersobrepalmeiras...      None  \n",
       "21      segueovicelidersaopauloassumeliderancaetorcedo...      None  \n",
       "56      alemdetitegremioxflamengoatraiolheiroseuropeus...      None  \n",
       "58      saopauloacertaacontratacaodeevertonfelipemorat...      None  \n",
       "...                                                   ...       ...  \n",
       "299875  stjdaceitapedidodopalmeirasparajulgarcasoeadia...      None  \n",
       "299899  rodada20tudooquevoceprecisasabersobrepalmeiras...      None  \n",
       "299919  nosportevertonfelipepedeparanaotreinarenquanto...      None  \n",
       "299962  rodada18tudooquevoceprecisasabersobrepalmeiras...      None  \n",
       "299998  gremioderenatoenfrentanovoatleticopraposdueloe...      None  \n",
       "\n",
       "[20688 rows x 5 columns]"
      ]
     },
     "execution_count": 417,
     "metadata": {},
     "output_type": "execute_result"
    }
   ],
   "source": [
    "mask = (am['url_noticia'].str.contains('|'.join(nome_times))) & (am['url_times'].isna())\n",
    "am[mask]"
   ]
  },
  {
   "cell_type": "code",
   "execution_count": 377,
   "metadata": {
    "scrolled": false
   },
   "outputs": [],
   "source": [
    "df_not = am.loc[am['url_times'].isna(), ['url_noticia', 'url_times', 'url_region']].dropna(subset=['url_noticia'])"
   ]
  },
  {
   "cell_type": "code",
   "execution_count": 379,
   "metadata": {},
   "outputs": [],
   "source": [
    "df_not['url_noticia'] = df_not['url_noticia'].str.replace('-', '')"
   ]
  },
  {
   "cell_type": "code",
   "execution_count": 381,
   "metadata": {},
   "outputs": [],
   "source": [
    "df_not = df_not[df_not['url_noticia'].str.contains('|'.join(nome_times))]"
   ]
  },
  {
   "cell_type": "code",
   "execution_count": 383,
   "metadata": {},
   "outputs": [
    {
     "name": "stderr",
     "output_type": "stream",
     "text": [
      "/home/betine/anaconda3/envs/Globo_Case/lib/python3.7/site-packages/ipykernel_launcher.py:2: SettingWithCopyWarning: \n",
      "A value is trying to be set on a copy of a slice from a DataFrame.\n",
      "Try using .loc[row_indexer,col_indexer] = value instead\n",
      "\n",
      "See the caveats in the documentation: https://pandas.pydata.org/pandas-docs/stable/user_guide/indexing.html#returning-a-view-versus-a-copy\n",
      "  \n"
     ]
    }
   ],
   "source": [
    "for time in nome_times:\n",
    "    df_not[time] = df_not['url_noticia'].str.find(time)+1"
   ]
  },
  {
   "cell_type": "code",
   "execution_count": 385,
   "metadata": {},
   "outputs": [
    {
     "name": "stderr",
     "output_type": "stream",
     "text": [
      "/home/betine/anaconda3/envs/Globo_Case/lib/python3.7/site-packages/pandas/core/frame.py:4312: SettingWithCopyWarning: \n",
      "A value is trying to be set on a copy of a slice from a DataFrame\n",
      "\n",
      "See the caveats in the documentation: https://pandas.pydata.org/pandas-docs/stable/user_guide/indexing.html#returning-a-view-versus-a-copy\n",
      "  errors=errors,\n"
     ]
    }
   ],
   "source": [
    "df_not.drop(columns=['url_noticia'], inplace=True)"
   ]
  },
  {
   "cell_type": "code",
   "execution_count": null,
   "metadata": {},
   "outputs": [],
   "source": [
    "df_not.drop(columns=['url_times'], inplace=True)"
   ]
  },
  {
   "cell_type": "markdown",
   "metadata": {},
   "source": [
    "## url_campeonato"
   ]
  },
  {
   "cell_type": "code",
   "execution_count": null,
   "metadata": {},
   "outputs": [],
   "source": [
    "nome_estados=df_bem_time['ESTADO'].dropna().str.replace('-', '').str.replace(' ', '').str.lower().unique()\n",
    "nome_estados"
   ]
  },
  {
   "cell_type": "code",
   "execution_count": 12,
   "metadata": {},
   "outputs": [],
   "source": [
    "am['url_campeonato'] = am['url_campeonato'].str.replace('-', '').str.replace('campeonato', '').str.replace('copa', '')"
   ]
  },
  {
   "cell_type": "code",
   "execution_count": 13,
   "metadata": {},
   "outputs": [],
   "source": [
    "replace_times = {\n",
    "    \"mineiro\": \"minasgerais\",\n",
    "    \"baiano\": \"bahia\",\n",
    "    \"carioca\": \"riodejaneiro\",\n",
    "    \"fluminense\": \"riodejaneiro\",\n",
    "    \"gaucho\": \"riograndedosul\",\n",
    "    \"paulista\": \"saopaulo\",\n",
    "    \"pernambucano\": \"pernambuco\",\n",
    "    \"capixaba\": \"espiritosanto\",\n",
    "    \"espiritosantense\": \"espiritosanto\",\n",
    "    \"piauiense\": \"piaui\",\n",
    "    \"potiguar\": \"riograndedonorte\",\n",
    "    \"norteriograndense\": \"riograndedonorte\",\n",
    "    \"catarinense\": \"santacatarina\",\n",
    "    \"barrigaverde\": \"santacatarina\",\n",
    "    \"paraibano\": 'paraiba', \n",
    "    \"sulmatogrossense\": 'matogrossodosul', \n",
    "    \"matogrossense\": 'matogrosso',\n",
    "    \"paranaense\": 'parana', \n",
    "    \"goiano\": 'goias', \n",
    "    \"paraense\": 'para', \n",
    "    \"cearense\": 'ceara', \n",
    "    \"sergipano\": 'sergipe',\n",
    "    \"rondoniano\": 'rondonia', \n",
    "    \"rondoniense\": 'rondonia', \n",
    "    \"brasiliense\": 'distritofederal', \n",
    "    \"alagoano\": 'alagoas', \n",
    "    \"amazonense\": 'amazonas', \n",
    "    \"amapaense\": 'amapa',\n",
    "    \"maranhense\": 'maranhao', \n",
    "    \"acriano\": 'acre', \n",
    "    \"acreano\": 'acre',\n",
    "    \"tocantinense\": 'tocantins', \n",
    "    \"roraimense\": 'roraima'\n",
    "}"
   ]
  },
  {
   "cell_type": "code",
   "execution_count": 14,
   "metadata": {},
   "outputs": [
    {
     "data": {
      "text/plain": [
       "array([None, 'paraiba', 'brasileiraoseriea', 'libertadores', 'dobrasil',\n",
       "       'riodejaneiroserieb1', 'minasgeraismodulo2', nan, 'sulamericana',\n",
       "       'riodejaneiroseriec', 'voceescala', 'riograndedosulsegundadivisao',\n",
       "       'minasgeraissegundadivisao', 'saopaulo', 'riodejaneiroserieb2',\n",
       "       'mundialdeclubes', 'saopaulosegundadivisao',\n",
       "       'simuladordocampeaobrasileiro', 'brasileiro', 'selecoes',\n",
       "       'santacatarinasegundadivisao', 'espiritosanto', '',\n",
       "       'riograndedosul', 'spdefuteboljunior', 'saopauloseriea2',\n",
       "       'minasgerais', 'mapadascurtidas2017', 'tacabhsub17',\n",
       "       'riodejaneiro', 'rio', 'riograndedonorte', 'ligadoscampeoes',\n",
       "       'parana', 'brasileiraoseriea%20simulador', 'verde',\n",
       "       'quintaldabola', 'futebolfeminino', 'acre', 'amazonas',\n",
       "       'donordeste', 'torneiodaflorida', 'aovivo', 'votacao', '12042012',\n",
       "       'ceara', 'america', 'CopaSPdefuteboljunior', 'matogrossodosul',\n",
       "       'vaievemdomercado', 'mapadastorcidasnofacebook', 'pernambuco',\n",
       "       'paraibasegundadivisao', 'sergipe', 'maranhaoserieb',\n",
       "       'goiassegundadivisao', 'santacatarina', 'saopauloseriea3',\n",
       "       'centraldomercado', 'lembradessesjogadoresdosanos90', 'maranhao',\n",
       "       'brasileirao', 'rogerioceni100', 'ligadasnacoes',\n",
       "       'distritofederal', 'especial', 'pernambucoseriea2',\n",
       "       'escolhaaselecaodobrasileirao', 'parasegundadivisao',\n",
       "       'dasconfederacoes', 'futebo', 'artilheirodoano', 'sergipeseriea2',\n",
       "       'matogrosso', 'sulamericanosub20', 'brasileirofeminino',\n",
       "       'jogodamemoria', 'primeiraliga', 'espiritosantofeminino',\n",
       "       'alagoas', 'daasia', 'camisomatic.htm', 'brasileiraoseriedj6',\n",
       "       'sp', 'TIMES', 'brasileiraoserieB', 'rondonia', 'piaui', 'time',\n",
       "       'espiritosantoserieb', 'brasileiraoserieC', 'mundialsub20',\n",
       "       'index', 'bahia', 'cearaserieb', 'brasileiraoserie%20',\n",
       "       'paraibasub21', 'futebolcam4', 'goias',\n",
       "       'almanaquedosestaduais2017', 'mundialsub17', 'minasgeraismodulo32',\n",
       "       'modalidades', 'amapa', 'timesmcorinthians', 'brasileiraoseriee',\n",
       "       'tocantins', '100anosdeflaflu', 'brasildefutebolinfantil',\n",
       "       'brasileiraoserie1', 'masculino.htm', 'para',\n",
       "       'bragoosileiraoseriea', '02122014', 'brasileiraoserie',\n",
       "       'eliminatoriasdaeuro', 'euro', 'adeusronaldo',\n",
       "       'riodejaneiroserieb', '%E2%80%93brasilero', 'paranaserieb',\n",
       "       'fotos', 'tacafareslopes', 'sulminasrio',\n",
       "       'brasileiraoserieagoogle', 'atleticomg', 'espiritosantosub20',\n",
       "       'roraima', 'brasileiraoserieA', 'matogrossodosulserieb',\n",
       "       'bcracker%20corel%20draw%20x8sileiraoseriea', 'brasileiraoserieD',\n",
       "       'mundialfeminino', '12122012',\n",
       "       'temvagavejajogadoresnaovemsendoutilizadosequepoderiamreforcarseutime',\n",
       "       'futebolinyouernacional', 'feminino.htm', 'flamengo',\n",
       "       'brasileiraoneriea', 'palmeiras', 'internacional', 'futebolEUROPA',\n",
       "       'brasileiraoseriea%20classifica%C3%A7%C3%A3o%20returno',\n",
       "       'violenciatorcidascorinthianssaopaulo', 'timeess', 'timcares',\n",
       "       'colocolo', 'COPA%20DO%20BRASIL', 'especialmaracana', 'tiME',\n",
       "       '23082012', 'timmeus', 'Cruzeiro', 'botafogo',\n",
       "       'acresegundadivisao', 'dobrail', 'plantao.htm', 'yseriea',\n",
       "       'agenda', '06072014', 'timesnetriodejaneiro', 'brasileiraoseried',\n",
       "       'brasileiraoseried.', 'timesyflamengo', '17052013', 'timfacees',\n",
       "       'SPdefuteboljunior', 'brasileiraoserieBa', 'espiritosantosub17',\n",
       "       'seria%20a', 'timem', 'flaamengo', '21122013', '19072014',\n",
       "       '28082013', '25012012', 'brasileiraoseriesub20', '11122012',\n",
       "       '07102011',\n",
       "       'futebolinternacionalpescar%20esturjao%20far%20cry%205aovivo',\n",
       "       'tombense', 'globoesporte.glob', '28092011',\n",
       "       'dobrasildefutebolfeminino', 'RB%20Lipzig',\n",
       "       'futebyouolinternacional',\n",
       "       'quizdomajestosotesteosseusconhecimentos',\n",
       "       'santacatarinaterceiradivisao', 'cobertura.htm',\n",
       "       'brasileiraoseriec', 'futebolReal%20Valladolidinternacional',\n",
       "       'timeGMAIL.COM', 'riodejaneiroseriea', '16102011',\n",
       "       'brasileiraosefaceriea', 'atletico%20mg', 'brasileiraoseries',\n",
       "       'vaievem', 'jogos',\n",
       "       'corinthiansepalmeirasconversamnotwitterequebramainternet',\n",
       "       '%20libertadores', '10052012', 'angra', '%20sulamericana',\n",
       "       'saopauloseriea', 'modalidade', '22012013', 'fseriea', 'gl',\n",
       "       'mercadodabola', '05032013', 'es', 'classifica%C3%A7%C3%A3o',\n",
       "       'brasilesiraoseriea', 'brasileiraoserie%20c', 'eurosub21',\n",
       "       '23112011',\n",
       "       'sabetudodalibertaosdetalhesemnoveperguntasparatestarseuconhecimento',\n",
       "       'futebolinternacionayoul', 'tixmes', 'brasileiraoserien',\n",
       "       'cartola', '20022013', '02112013', 'brasileiraoserie%20d',\n",
       "       'brasilfiraoserieb',\n",
       "       'selecaobrasileirasele%C3%A7%C3%A3o%20brasileira', 'ties',\n",
       "       'youtubeseriea', 'interatividade', 'timesusantos',\n",
       "       'brafleiraoseriec', '20032013', '27072014', 'tim3es', 'UOL',\n",
       "       'ingles', 'matogrossoserieb', 'brasileiraoseriebc', '19052012',\n",
       "       'brasileiraosfaa', 'saopauloserieb', 'brasileiraoba',\n",
       "       'rible%20de%20corpo', 'tiymes', 'brasileiraoseriecb',\n",
       "       'trofeugringodoano', '21042012', 'brasileiraoserieachapecoese',\n",
       "       'timesvi', 'pe', 'Juazeirense', 'esp%C3%ADritosanto',\n",
       "       'libertadore', 'portuguesa', 'libertadoresyjogo', 'timesgremio',\n",
       "       'brasileiraoseriecffe', '23052012', 'timesl',\n",
       "       'saopaulosegundadivs%C3%A3o', '15042012', 'fuuolebolinternacional',\n",
       "       '03112013', 'uimes', 'br', 'brasileiraoserieat', 'timforinthians',\n",
       "       'brasileiraoserieac', '13102012', 'futebolinternaciona',\n",
       "       'fgloutebolinternacional', '14122011', 'brasileiraoseriedc',\n",
       "       '23112013', 'futebolbrasileiroa', 'futebolintyrnacional',\n",
       "       'amazonasserieb', 'brasileiraoserieasimulador',\n",
       "       'brasileiraoserie%C3%A9%C2%A7', 'vasco', '04122012', 'simulator',\n",
       "       'brasileiraoserieasimuladpr', 'brasileiraoyoua',\n",
       "       'proutebolinternacional', '02082013',\n",
       "       'sele%C3%A7%C3%A3obrasileira', 'cruzeiro', 'timeschapecoense',\n",
       "       'cowadobrasil', 'yinternacional', 'brasileiraoserie%20a',\n",
       "       'timgloes', 'libertadoresglo', '13092013', '03082013', 'sulamer',\n",
       "       'doBrasil', 'post', 'dobrasiL', 'g', 'ca', 'brasileircara',\n",
       "       'FLAMENGO', 'tabelas', 'santos', 'timeuol', 'brasileiraoserieag',\n",
       "       'gremio', 'sport', 'goias2divisao', 'Flamengo',\n",
       "       'brasileiraoserieainternacional', '21022012', 'brasileiraoseriecd',\n",
       "       '30062013', 'brasileiraoseriec=5', 'ba', 'COPADOBRASIL',\n",
       "       'brserieb', 'ligadoscampeos', 'playlist.htm', 'times.ghtm',\n",
       "       'brasileiraoserieaflamengo', '04072012',\n",
       "       'brasileiraoserieflamengo', 'imes', 'corinthians',\n",
       "       'brasileiyaoseriea', '19102014', 'saopauloseriea4',\n",
       "       'futebolinternayouional', 'timeyous', 'timsv2.dragonballrpg.coms',\n",
       "       'umsaioutronaoeninguemvemflamengoeprotagon', 'eliminado',\n",
       "       'cartolafc', 'futebolpje', 'dobr', 'copes',\n",
       "       'futebolinyouternacional', 'libertadoSOL%20DE%20AMERICAs',\n",
       "       'timtribes', 'tuolmes', 'dobrasill', 'timeswww.clicgremio',\n",
       "       'seriec', '07092013', '30052012', 'timyos',\n",
       "       '10anosdebotafogoxriodejaneironoengenhaovocesabetudosobreoclassiconoestadioteste',\n",
       "       'sulamericanosub17', 'saopauloseriea1', '28072013', 'futebolg',\n",
       "       'ti', 'pi', 'brasileiraoserieaface', 'globo', 'timesbahia',\n",
       "       '19092012', 'timeslpalmeiras', 'brasileiraoserieg',\n",
       "       'qualomelhorjogadorbrasileirocanhotodetodosostempos',\n",
       "       'netinternacional', 'seriea', 'brasileiraosericlea',\n",
       "       'globointernacional', 'tespnmes', '25012013', 'oeste',\n",
       "       'futebolinternacional', 'fa', 'brasileiraoserieaa',\n",
       "       'brasileiraoserieaf', 'timecalculo%20de%20datass',\n",
       "       'brasileiraoseriebtabela%20b', 'brasileiraosub17', '21102012',\n",
       "       '03022013', 'gols', '11102012', 'tyoumes', 'brasileiraosersea',\n",
       "       'futebyoutulinternacional', 'LIBERTADORES',\n",
       "       'brasileiraoseriecampp', 'brasileiraoseriev', 'timcartolas',\n",
       "       'brasileiraoseries12082018', 'espimes', '11112012', 'fla',\n",
       "       'do%20brasil', '22092013', 'yo', 'riodejaneiroseried',\n",
       "       'brasiyeiraoseriea', 'meu', 'l', 'saopauloa2', '04042013', 't',\n",
       "       '15032012', 'futebolinteyoutnacional', '25012014', '_saopaulo',\n",
       "       'timcarts', '19102011', 'nautico', 'brasileiraoserieb',\n",
       "       'liberadores', 'palmeitas', 'd', 'brasi', 'classificacao',\n",
       "       'brasileiraoseradvogada%20caindo%20de%20predido%20imagens%20sem%20corts',\n",
       "       'saopaulosegundadivsao',\n",
       "       'carbrasileorinho%20x%20atletico%20riodejaneiroiocaseriec',\n",
       "       'timesy', 'brasil', 'minasgeraismodulo', 'libertadorer',\n",
       "       'pernambucoa2', '100anosFlaxBota.htm', 'riodejaneiroserieC',\n",
       "       '01062013', '%20do%20brasil', 'brasileiraoserieb[', '10022013',\n",
       "       'ybrasileiraoseriea', 'timescartola', 'riodejaneiroserieb3',\n",
       "       'futebolf', 'brasileiraoserieal',\n",
       "       'timesvar%20no%20jogo%20do%20corinthians',\n",
       "       'fuvidalebolinternacional', 'saopauloa3',\n",
       "       'minasgeraisterceiradivisao', 'gloseriea',\n",
       "       'futebolinterglobo[acional', 'futebolGinternacional', '12012012',\n",
       "       'africanadenacoes', 'brasileiraoserie%20ca', 'desafiodapuberdade',\n",
       "       '15122012', 'fagnerdapaulistinhaemcuevaegerarevoltanasredes',\n",
       "       'timeyago%20pikachu', '06112012', 'brasileiraoserieab',\n",
       "       'futebolinternacionalgo', '29082012', 'brasileiraoserieb.co',\n",
       "       'futebolinternacigooonal', 'governadorse',\n",
       "       'tocantinssegundadivisao', 'abc', '%20do%20Brasil', 'timyes',\n",
       "       'noticiGLO', 'timuols', 'libertadoras', 'vitoria'], dtype=object)"
      ]
     },
     "execution_count": 14,
     "metadata": {},
     "output_type": "execute_result"
    }
   ],
   "source": [
    "am['url_campeonato'] = am['url_campeonato'].replace(replace_times, regex=True)\n",
    "am['url_campeonato'].unique()"
   ]
  },
  {
   "cell_type": "code",
   "execution_count": 15,
   "metadata": {
    "scrolled": true
   },
   "outputs": [
    {
     "data": {
      "text/plain": [
       "NaN                                                                                13229950\n",
       "brasileiraoseriea                                                                    469673\n",
       "libertadores                                                                         195973\n",
       "dobrasil                                                                             149460\n",
       "sulamericana                                                                          26841\n",
       "saopaulo                                                                              16749\n",
       "brasileiro                                                                            15080\n",
       "selecoes                                                                               9396\n",
       "saopaulosegundadivisao                                                                 7930\n",
       "voceescala                                                                             5510\n",
       "santacatarinasegundadivisao                                                            5051\n",
       "riodejaneiroserieb1                                                                    5009\n",
       "mapadascurtidas2017                                                                    2931\n",
       "minasgeraissegundadivisao                                                              2821\n",
       "rio                                                                                    2509\n",
       "riodejaneiroserieb2                                                                    2420\n",
       "tacabhsub17                                                                            2384\n",
       "riodejaneiroseriec                                                                     2373\n",
       "espiritosanto                                                                          2137\n",
       "acre                                                                                   1998\n",
       "                                                                                       1514\n",
       "riodejaneiro                                                                            940\n",
       "futebolfeminino                                                                         826\n",
       "america                                                                                 805\n",
       "simuladordocampeaobrasileiro                                                            804\n",
       "ligadoscampeoes                                                                         791\n",
       "santacatarina                                                                           776\n",
       "pernambuco                                                                              556\n",
       "riograndedosul                                                                          487\n",
       "especial                                                                                456\n",
       "minasgerais                                                                             446\n",
       "spdefuteboljunior                                                                       422\n",
       "minasgeraismodulo2                                                                      365\n",
       "saopauloseriea2                                                                         365\n",
       "donordeste                                                                              353\n",
       "pernambucoseriea2                                                                       325\n",
       "vaievemdomercado                                                                        309\n",
       "paraiba                                                                                 299\n",
       "votacao                                                                                 292\n",
       "aovivo                                                                                  291\n",
       "saopauloseriea3                                                                         277\n",
       "sergipeseriea2                                                                          261\n",
       "distritofederal                                                                         237\n",
       "parana                                                                                  231\n",
       "index                                                                                   229\n",
       "centraldomercado                                                                        221\n",
       "goias                                                                                   204\n",
       "maranhao                                                                                202\n",
       "mundialdeclubes                                                                         197\n",
       "goiassegundadivisao                                                                     195\n",
       "verde                                                                                   182\n",
       "artilheirodoano                                                                         176\n",
       "riograndedosulsegundadivisao                                                            170\n",
       "CopaSPdefuteboljunior                                                                   167\n",
       "bahia                                                                                   165\n",
       "piaui                                                                                   164\n",
       "maranhaoserieb                                                                          150\n",
       "parasegundadivisao                                                                      150\n",
       "matogrosso                                                                              132\n",
       "ceara                                                                                   128\n",
       "dasconfederacoes                                                                        126\n",
       "paraibasegundadivisao                                                                   126\n",
       "brasileirofeminino                                                                      123\n",
       "primeiraliga                                                                            122\n",
       "riograndedonorte                                                                        120\n",
       "mapadastorcidasnofacebook                                                               118\n",
       "jogodamemoria                                                                           112\n",
       "alagoas                                                                                 112\n",
       "camisomatic.htm                                                                         103\n",
       "sergipe                                                                                  99\n",
       "espiritosantoserieb                                                                      99\n",
       "ligadasnacoes                                                                            95\n",
       "para                                                                                     92\n",
       "amazonas                                                                                 86\n",
       "matogrossodosul                                                                          73\n",
       "cearaserieb                                                                              71\n",
       "mundialsub17                                                                             66\n",
       "euro                                                                                     55\n",
       "torneiodaflorida                                                                         53\n",
       "tocantins                                                                                47\n",
       "mundialsub20                                                                             46\n",
       "rondonia                                                                                 44\n",
       "brasileiraoserieB                                                                        38\n",
       "roraima                                                                                  37\n",
       "rogerioceni100                                                                           37\n",
       "amapa                                                                                    36\n",
       "riodejaneiroserieb                                                                       34\n",
       "masculino.htm                                                                            34\n",
       "tacafareslopes                                                                           32\n",
       "paranaserieb                                                                             32\n",
       "sulamericanosub20                                                                        31\n",
       "mundialfeminino                                                                          31\n",
       "100anosdeflaflu                                                                          29\n",
       "daasia                                                                                   26\n",
       "quintaldabola                                                                            26\n",
       "SPdefuteboljunior                                                                        25\n",
       "brasildefutebolinfantil                                                                  22\n",
       "lembradessesjogadoresdosanos90                                                           21\n",
       "acresegundadivisao                                                                       21\n",
       "brasileiraoserieA                                                                        21\n",
       "palmeiras                                                                                19\n",
       "vaievem                                                                                  19\n",
       "adeusronaldo                                                                             19\n",
       "flamengo                                                                                 18\n",
       "brasileiraoserieC                                                                        18\n",
       "especialmaracana                                                                         18\n",
       "fotos                                                                                    17\n",
       "sp                                                                                       16\n",
       "espiritosantosub20                                                                       15\n",
       "12122012                                                                                 13\n",
       "espiritosantofeminino                                                                    12\n",
       "feminino.htm                                                                             11\n",
       "brasileiraoserie                                                                         10\n",
       "internacional                                                                            10\n",
       "eliminatoriasdaeuro                                                                      10\n",
       "13102012                                                                                  9\n",
       "25012012                                                                                  9\n",
       "plantao.htm                                                                               8\n",
       "globoesporte.glob                                                                         8\n",
       "time                                                                                      8\n",
       "dobrasildefutebolfeminino                                                                 7\n",
       "cruzeiro                                                                                  7\n",
       "brasileiraoseriee                                                                         6\n",
       "matogrossodosulserieb                                                                     6\n",
       "playlist.htm                                                                              5\n",
       "brasileiraoserieD                                                                         5\n",
       "espiritosantosub17                                                                        5\n",
       "02122014                                                                                  5\n",
       "temvagavejajogadoresnaovemsendoutilizadosequepoderiamreforcarseutime                      4\n",
       "ingles                                                                                    4\n",
       "brasil                                                                                    4\n",
       "cartola                                                                                   3\n",
       "brasileiraoseriebc                                                                        3\n",
       "gremio                                                                                    3\n",
       "brasileiraoserie%20c                                                                      3\n",
       "19052012                                                                                  3\n",
       "timesl                                                                                    3\n",
       "post                                                                                      3\n",
       "violenciatorcidascorinthianssaopaulo                                                      3\n",
       "eurosub21                                                                                 3\n",
       "cobertura.htm                                                                             3\n",
       "brasileiraoserien                                                                         3\n",
       "brasileiraoseriec                                                                         3\n",
       "matogrossoserieb                                                                          3\n",
       "brasileiraoseries                                                                         3\n",
       "futebo                                                                                    3\n",
       "yinternacional                                                                            2\n",
       "21122013                                                                                  2\n",
       "cartolafc                                                                                 2\n",
       "timgloes                                                                                  2\n",
       "22012013                                                                                  2\n",
       "timeGMAIL.COM                                                                             2\n",
       "28082013                                                                                  2\n",
       "modalidades                                                                               2\n",
       "LIBERTADORES                                                                              2\n",
       "10anosdebotafogoxriodejaneironoengenhaovocesabetudosobreoclassiconoestadioteste           2\n",
       "pi                                                                                        2\n",
       "sulamericanosub17                                                                         2\n",
       "21022012                                                                                  2\n",
       "brasileirao                                                                               2\n",
       "classifica%C3%A7%C3%A3o                                                                   2\n",
       "abc                                                                                       2\n",
       "sabetudodalibertaosdetalhesemnoveperguntasparatestarseuconhecimento                       2\n",
       "escolhaaselecaodobrasileirao                                                              2\n",
       "timeuol                                                                                   2\n",
       "santacatarinaterceiradivisao                                                              2\n",
       "libertadorer                                                                              2\n",
       "20032013                                                                                  2\n",
       "saopauloseriea                                                                            2\n",
       "brasileiraoserieag                                                                        2\n",
       "23052012                                                                                  2\n",
       "trofeugringodoano                                                                         2\n",
       "%E2%80%93brasilero                                                                        2\n",
       "es                                                                                        2\n",
       "%20do%20brasil                                                                            2\n",
       "almanaquedosestaduais2017                                                                 2\n",
       "libertadore                                                                               2\n",
       "botafogo                                                                                  2\n",
       "ba                                                                                        2\n",
       "brasileiraoserieasimulador                                                                2\n",
       "25012013                                                                                  2\n",
       "11112012                                                                                  2\n",
       "yseriea                                                                                   2\n",
       "amazonasserieb                                                                            2\n",
       "ties                                                                                      2\n",
       "brasileiraoseriea%20simulador                                                             2\n",
       "04122012                                                                                  2\n",
       "timesyflamengo                                                                            2\n",
       "ligadoscampeos                                                                            1\n",
       "Juazeirense                                                                               1\n",
       "africanadenacoes                                                                          1\n",
       "16102011                                                                                  1\n",
       "timuols                                                                                   1\n",
       "copes                                                                                     1\n",
       "01062013                                                                                  1\n",
       "COPA%20DO%20BRASIL                                                                        1\n",
       "25012014                                                                                  1\n",
       "futebolinterglobo[acional                                                                 1\n",
       "qualomelhorjogadorbrasileirocanhotodetodosostempos                                        1\n",
       "timeswww.clicgremio                                                                       1\n",
       "riodejaneiroseriea                                                                        1\n",
       "brasileiraoserieab                                                                        1\n",
       "04042013                                                                                  1\n",
       "tim3es                                                                                    1\n",
       "brasileiraoserie%20ca                                                                     1\n",
       "nautico                                                                                   1\n",
       "19092012                                                                                  1\n",
       "netinternacional                                                                          1\n",
       "futebolcam4                                                                               1\n",
       "jogos                                                                                     1\n",
       "%20libertadores                                                                           1\n",
       "corinthians                                                                               1\n",
       "10052012                                                                                  1\n",
       "tyoumes                                                                                   1\n",
       "fuvidalebolinternacional                                                                  1\n",
       "riodejaneiroserieb3                                                                       1\n",
       "28072013                                                                                  1\n",
       "timesbahia                                                                                1\n",
       "portuguesa                                                                                1\n",
       "brasileiraoseried                                                                         1\n",
       "pe                                                                                        1\n",
       "brasilfiraoserieb                                                                         1\n",
       "brasileiraosefaceriea                                                                     1\n",
       "espimes                                                                                   1\n",
       "timecalculo%20de%20datass                                                                 1\n",
       "futebolinteyoutnacional                                                                   1\n",
       "19102011                                                                                  1\n",
       "quizdomajestosotesteosseusconhecimentos                                                   1\n",
       "brasileiraoseriesub20                                                                     1\n",
       "brasileiraoseradvogada%20caindo%20de%20predido%20imagens%20sem%20corts                    1\n",
       "futebolbrasileiroa                                                                        1\n",
       "28092011                                                                                  1\n",
       "brasileiraosfaa                                                                           1\n",
       "t                                                                                         1\n",
       "agenda                                                                                    1\n",
       "paraibasub21                                                                              1\n",
       "timescartola                                                                              1\n",
       "uimes                                                                                     1\n",
       "11122012                                                                                  1\n",
       "timesusantos                                                                              1\n",
       "brasileiraosersea                                                                         1\n",
       "19072014                                                                                  1\n",
       "rible%20de%20corpo                                                                        1\n",
       "02112013                                                                                  1\n",
       "fgloutebolinternacional                                                                   1\n",
       "flaamengo                                                                                 1\n",
       "timesy                                                                                    1\n",
       "proutebolinternacional                                                                    1\n",
       "colocolo                                                                                  1\n",
       "goias2divisao                                                                             1\n",
       "tiME                                                                                      1\n",
       "COPADOBRASIL                                                                              1\n",
       "timeyous                                                                                  1\n",
       "tixmes                                                                                    1\n",
       "23112011                                                                                  1\n",
       "g                                                                                         1\n",
       "desafiodapuberdade                                                                        1\n",
       "12012012                                                                                  1\n",
       "meu                                                                                       1\n",
       "brasileiraoserieflamengo                                                                  1\n",
       "brasileiraoserieainternacional                                                            1\n",
       "03082013                                                                                  1\n",
       "21042012                                                                                  1\n",
       "fa                                                                                        1\n",
       "saopauloserieb                                                                            1\n",
       "fagnerdapaulistinhaemcuevaegerarevoltanasredes                                            1\n",
       "20022013                                                                                  1\n",
       "_saopaulo                                                                                 1\n",
       "brasileiraoserieagoogle                                                                   1\n",
       "mercadodabola                                                                             1\n",
       "santos                                                                                    1\n",
       "globo                                                                                     1\n",
       "brasileiraoserieaa                                                                        1\n",
       "10022013                                                                                  1\n",
       "brasileiraoseriec=5                                                                       1\n",
       "timeschapecoense                                                                          1\n",
       "ti                                                                                        1\n",
       "tocantinssegundadivisao                                                                   1\n",
       "simulator                                                                                 1\n",
       "futebolinternacionayoul                                                                   1\n",
       "modalidade                                                                                1\n",
       "brasileiraoserieachapecoese                                                               1\n",
       "gols                                                                                      1\n",
       "riodejaneiroserieC                                                                        1\n",
       "brasileiraoserieb.co                                                                      1\n",
       "do%20brasil                                                                               1\n",
       "30062013                                                                                  1\n",
       "sport                                                                                     1\n",
       "sele%C3%A7%C3%A3obrasileira                                                               1\n",
       "futebolinyouternacional                                                                   1\n",
       "atleticomg                                                                                1\n",
       "brasileiraoserieat                                                                        1\n",
       "brasileiraoseriedj6                                                                       1\n",
       "seriec                                                                                    1\n",
       "12042012                                                                                  1\n",
       "doBrasil                                                                                  1\n",
       "14122011                                                                                  1\n",
       "saopauloa3                                                                                1\n",
       "noticiGLO                                                                                 1\n",
       "brasileiraoserie1                                                                         1\n",
       "cowadobrasil                                                                              1\n",
       "futebyoutulinternacional                                                                  1\n",
       "saopaulosegundadivs%C3%A3o                                                                1\n",
       "timmeus                                                                                   1\n",
       "15032012                                                                                  1\n",
       "07092013                                                                                  1\n",
       "tombense                                                                                  1\n",
       "30052012                                                                                  1\n",
       "seria%20a                                                                                 1\n",
       "saopaulosegundadivsao                                                                     1\n",
       "brasileiraoyoua                                                                           1\n",
       "sulamer                                                                                   1\n",
       "TIMES                                                                                     1\n",
       "liberadores                                                                               1\n",
       "RB%20Lipzig                                                                               1\n",
       "04072012                                                                                  1\n",
       "brasileiraoseriea%20classifica%C3%A7%C3%A3o%20returno                                     1\n",
       "fla                                                                                       1\n",
       "FLAMENGO                                                                                  1\n",
       "timyos                                                                                    1\n",
       "06112012                                                                                  1\n",
       "timfacees                                                                                 1\n",
       "pernambucoa2                                                                              1\n",
       "carbrasileorinho%20x%20atletico%20riodejaneiroiocaseriec                                  1\n",
       "brasileiraoseried.                                                                        1\n",
       "17052013                                                                                  1\n",
       "tuolmes                                                                                   1\n",
       "timesmcorinthians                                                                         1\n",
       "07102011                                                                                  1\n",
       "timforinthians                                                                            1\n",
       "saopauloseriea1                                                                           1\n",
       "libertadoSOL%20DE%20AMERICAs                                                              1\n",
       "futebolinternayouional                                                                    1\n",
       "libertadoresglo                                                                           1\n",
       "timesvar%20no%20jogo%20do%20corinthians                                                   1\n",
       "brasileiraoseriecb                                                                        1\n",
       "bcracker%20corel%20draw%20x8sileiraoseriea                                                1\n",
       "timesgremio                                                                               1\n",
       "brasileiraoserieg                                                                         1\n",
       "brasileiraoserieaface                                                                     1\n",
       "brasileiraoseriev                                                                         1\n",
       "minasgeraisterceiradivisao                                                                1\n",
       "timeslpalmeiras                                                                           1\n",
       "19102014                                                                                  1\n",
       "brasileiraoseriecffe                                                                      1\n",
       "brasileiraoserie%C3%A9%C2%A7                                                              1\n",
       "l                                                                                         1\n",
       "brafleiraoseriec                                                                          1\n",
       "tabelas                                                                                   1\n",
       "fseriea                                                                                   1\n",
       "youtubeseriea                                                                             1\n",
       "brasileiraoserieBa                                                                        1\n",
       "brasileiyaoseriea                                                                         1\n",
       "sulminasrio                                                                               1\n",
       "brasileiraosub17                                                                          1\n",
       "dobrasiL                                                                                  1\n",
       "futebolGinternacional                                                                     1\n",
       "corinthiansepalmeirasconversamnotwitterequebramainternet                                  1\n",
       "02082013                                                                                  1\n",
       "timesnetriodejaneiro                                                                      1\n",
       "brasileiraoserieaflamengo                                                                 1\n",
       "timtribes                                                                                 1\n",
       "ybrasileiraoseriea                                                                        1\n",
       "brasileiraoseriebtabela%20b                                                               1\n",
       "classificacao                                                                             1\n",
       "futebolg                                                                                  1\n",
       "timeyago%20pikachu                                                                        1\n",
       "Flamengo                                                                                  1\n",
       "saopauloa2                                                                                1\n",
       "futebolf                                                                                  1\n",
       "libertadoresyjogo                                                                         1\n",
       "interatividade                                                                            1\n",
       "governadorse                                                                              1\n",
       "timesvi                                                                                   1\n",
       "%20do%20Brasil                                                                            1\n",
       "timem                                                                                     1\n",
       "minasgeraismodulo                                                                         1\n",
       "oeste                                                                                     1\n",
       "%20sulamericana                                                                           1\n",
       "futebolEUROPA                                                                             1\n",
       "brasileircara                                                                             1\n",
       "futebolinyouernacional                                                                    1\n",
       "timcartolas                                                                               1\n",
       "brasileiraoba                                                                             1\n",
       "03112013                                                                                  1\n",
       "ca                                                                                        1\n",
       "dobrasill                                                                                 1\n",
       "13092013                                                                                  1\n",
       "brasiyeiraoseriea                                                                         1\n",
       "06072014                                                                                  1\n",
       "brasileiraoserieb[                                                                        1\n",
       "vasco                                                                                     1\n",
       "saopauloseriea4                                                                           1\n",
       "brasileiraosericlea                                                                       1\n",
       "brasileiraoserieac                                                                        1\n",
       "100anosFlaxBota.htm                                                                       1\n",
       "gloseriea                                                                                 1\n",
       "futebolinternacional                                                                      1\n",
       "27072014                                                                                  1\n",
       "brasileiraoserieal                                                                        1\n",
       "eliminado                                                                                 1\n",
       "fuuolebolinternacional                                                                    1\n",
       "timeess                                                                                   1\n",
       "UOL                                                                                       1\n",
       "brasi                                                                                     1\n",
       "brasileiraoseries12082018                                                                 1\n",
       "br                                                                                        1\n",
       "tiymes                                                                                    1\n",
       "futebyouolinternacional                                                                   1\n",
       "dobr                                                                                      1\n",
       "brasileiraoseriecd                                                                        1\n",
       "05032013                                                                                  1\n",
       "brasileiraoserieaf                                                                        1\n",
       "vitoria                                                                                   1\n",
       "minasgeraismodulo32                                                                       1\n",
       "15122012                                                                                  1\n",
       "libertadoras                                                                              1\n",
       "gl                                                                                        1\n",
       "brasileiraoserie%20                                                                       1\n",
       "15042012                                                                                  1\n",
       "23082012                                                                                  1\n",
       "riodejaneiroseried                                                                        1\n",
       "angra                                                                                     1\n",
       "29082012                                                                                  1\n",
       "palmeitas                                                                                 1\n",
       "yo                                                                                        1\n",
       "futebolinternacionalgo                                                                    1\n",
       "futebolReal%20Valladolidinternacional                                                     1\n",
       "times.ghtm                                                                                1\n",
       "dobrail                                                                                   1\n",
       "timcares                                                                                  1\n",
       "futebolintyrnacional                                                                      1\n",
       "d                                                                                         1\n",
       "03022013                                                                                  1\n",
       "11102012                                                                                  1\n",
       "Cruzeiro                                                                                  1\n",
       "brasileiraoserieasimuladpr                                                                1\n",
       "futebolinternacionalpescar%20esturjao%20far%20cry%205aovivo                               1\n",
       "umsaioutronaoeninguemvemflamengoeprotagon                                                 1\n",
       "seriea                                                                                    1\n",
       "futebolpje                                                                                1\n",
       "bragoosileiraoseriea                                                                      1\n",
       "22092013                                                                                  1\n",
       "21102012                                                                                  1\n",
       "brasileiraoserie%20a                                                                      1\n",
       "brasileiraoserie%20d                                                                      1\n",
       "esp%C3%ADritosanto                                                                        1\n",
       "selecaobrasileirasele%C3%A7%C3%A3o%20brasileira                                           1\n",
       "timsv2.dragonballrpg.coms                                                                 1\n",
       "tespnmes                                                                                  1\n",
       "brasilesiraoseriea                                                                        1\n",
       "brasileiraoseriedc                                                                        1\n",
       "imes                                                                                      1\n",
       "atletico%20mg                                                                             1\n",
       "23112013                                                                                  1\n",
       "timcarts                                                                                  1\n",
       "brasileiraoserieb                                                                         1\n",
       "futebolinternacigooonal                                                                   1\n",
       "globointernacional                                                                        1\n",
       "timyes                                                                                    1\n",
       "brserieb                                                                                  1\n",
       "futebolinternaciona                                                                       1\n",
       "brasileiraoseriecampp                                                                     1\n",
       "brasileiraoneriea                                                                         1\n",
       "Name: url_campeonato, dtype: int64"
      ]
     },
     "execution_count": 15,
     "metadata": {},
     "output_type": "execute_result"
    }
   ],
   "source": [
    "am['url_campeonato'].value_counts(dropna=False)"
   ]
  },
  {
   "cell_type": "code",
   "execution_count": 16,
   "metadata": {},
   "outputs": [
    {
     "data": {
      "text/plain": [
       "(14174706, 4)"
      ]
     },
     "execution_count": 16,
     "metadata": {},
     "output_type": "execute_result"
    }
   ],
   "source": [
    "am.shape"
   ]
  },
  {
   "cell_type": "code",
   "execution_count": 272,
   "metadata": {},
   "outputs": [
    {
     "data": {
      "text/plain": [
       "array(['paraiba', 'riodejaneiroserieb1', 'minasgeraismodulo2',\n",
       "       'riodejaneiroseriec', 'riograndedosulsegundadivisao',\n",
       "       'minasgeraissegundadivisao', 'saopaulo', 'riodejaneiroserieb2',\n",
       "       'saopaulosegundadivisao', 'santacatarinasegundadivisao',\n",
       "       'espiritosanto', 'riograndedosul', 'saopauloseriea2',\n",
       "       'minasgerais', 'riodejaneiro', 'riograndedonorte', 'parana',\n",
       "       'acre', 'amazonas', 'ceara', 'matogrossodosul', 'pernambuco',\n",
       "       'paraibasegundadivisao', 'sergipe', 'maranhaoserieb',\n",
       "       'goiassegundadivisao', 'santacatarina', 'saopauloseriea3',\n",
       "       'maranhao', 'distritofederal', 'pernambucoseriea2',\n",
       "       'parasegundadivisao', 'sergipeseriea2', 'matogrosso',\n",
       "       'espiritosantofeminino', 'alagoas', 'rondonia', 'piaui',\n",
       "       'espiritosantoserieb', 'bahia', 'cearaserieb', 'paraibasub21'],\n",
       "      dtype=object)"
      ]
     },
     "execution_count": 272,
     "metadata": {},
     "output_type": "execute_result"
    }
   ],
   "source": [
    "am.loc[am['url_campeonato'].str.contains('|'.join(nome_estados))==True]['url_campeonato'].unique()"
   ]
  },
  {
   "cell_type": "code",
   "execution_count": 495,
   "metadata": {},
   "outputs": [
    {
     "data": {
      "text/html": [
       "<div>\n",
       "<style scoped>\n",
       "    .dataframe tbody tr th:only-of-type {\n",
       "        vertical-align: middle;\n",
       "    }\n",
       "\n",
       "    .dataframe tbody tr th {\n",
       "        vertical-align: top;\n",
       "    }\n",
       "\n",
       "    .dataframe thead th {\n",
       "        text-align: right;\n",
       "    }\n",
       "</style>\n",
       "<table border=\"1\" class=\"dataframe\">\n",
       "  <thead>\n",
       "    <tr style=\"text-align: right;\">\n",
       "      <th></th>\n",
       "      <th>KEY</th>\n",
       "      <th>tempo</th>\n",
       "      <th>url_region</th>\n",
       "      <th>url_noticia</th>\n",
       "      <th>url_campeonato</th>\n",
       "      <th>url_times</th>\n",
       "    </tr>\n",
       "  </thead>\n",
       "  <tbody>\n",
       "    <tr>\n",
       "      <th>5</th>\n",
       "      <td>2205445</td>\n",
       "      <td>464.0</td>\n",
       "      <td>rj</td>\n",
       "      <td>ex-capitao-do-fla-jonatas-desiste-de-retomar-a...</td>\n",
       "      <td>None</td>\n",
       "      <td>NaN</td>\n",
       "    </tr>\n",
       "    <tr>\n",
       "      <th>6</th>\n",
       "      <td>1099505</td>\n",
       "      <td>1656.0</td>\n",
       "      <td>al</td>\n",
       "      <td>walter-e-preso-em-maceio-por-mostrar-arma-de-b...</td>\n",
       "      <td>None</td>\n",
       "      <td>NaN</td>\n",
       "    </tr>\n",
       "    <tr>\n",
       "      <th>56</th>\n",
       "      <td>2473054</td>\n",
       "      <td>736.0</td>\n",
       "      <td>rs</td>\n",
       "      <td>alem-de-tite-gremio-x-flamengo-atrai-olheiros-...</td>\n",
       "      <td>None</td>\n",
       "      <td>NaN</td>\n",
       "    </tr>\n",
       "    <tr>\n",
       "      <th>58</th>\n",
       "      <td>3295101</td>\n",
       "      <td>2154.0</td>\n",
       "      <td>sp</td>\n",
       "      <td>sao-paulo-acerta-a-contratacao-de-everton-feli...</td>\n",
       "      <td>None</td>\n",
       "      <td>NaN</td>\n",
       "    </tr>\n",
       "    <tr>\n",
       "      <th>95</th>\n",
       "      <td>3357704</td>\n",
       "      <td>1896.0</td>\n",
       "      <td>rj</td>\n",
       "      <td>ex-capitao-do-fla-jonatas-desiste-de-retomar-a...</td>\n",
       "      <td>None</td>\n",
       "      <td>NaN</td>\n",
       "    </tr>\n",
       "    <tr>\n",
       "      <th>...</th>\n",
       "      <td>...</td>\n",
       "      <td>...</td>\n",
       "      <td>...</td>\n",
       "      <td>...</td>\n",
       "      <td>...</td>\n",
       "      <td>...</td>\n",
       "    </tr>\n",
       "    <tr>\n",
       "      <th>99823</th>\n",
       "      <td>955513</td>\n",
       "      <td>1225.0</td>\n",
       "      <td>ba</td>\n",
       "      <td>vencido-pelas-dores-obina-anuncia-fim-da-carre...</td>\n",
       "      <td>None</td>\n",
       "      <td>NaN</td>\n",
       "    </tr>\n",
       "    <tr>\n",
       "      <th>99940</th>\n",
       "      <td>580560</td>\n",
       "      <td>3753.0</td>\n",
       "      <td>sp</td>\n",
       "      <td>sao-paulo-acerta-a-contratacao-de-everton-feli...</td>\n",
       "      <td>None</td>\n",
       "      <td>NaN</td>\n",
       "    </tr>\n",
       "    <tr>\n",
       "      <th>99958</th>\n",
       "      <td>875165</td>\n",
       "      <td>1357.0</td>\n",
       "      <td>rj</td>\n",
       "      <td>juiza-atende-pedido-do-flu-e-determina-bloquei...</td>\n",
       "      <td>None</td>\n",
       "      <td>NaN</td>\n",
       "    </tr>\n",
       "    <tr>\n",
       "      <th>99968</th>\n",
       "      <td>40576</td>\n",
       "      <td>3068.0</td>\n",
       "      <td>rs</td>\n",
       "      <td>apos-reuniao-inter-fecha-contratacao-de-guerre...</td>\n",
       "      <td>None</td>\n",
       "      <td>NaN</td>\n",
       "    </tr>\n",
       "    <tr>\n",
       "      <th>99975</th>\n",
       "      <td>3339092</td>\n",
       "      <td>2947.0</td>\n",
       "      <td>ba</td>\n",
       "      <td>vencido-pelas-dores-obina-anuncia-fim-da-carre...</td>\n",
       "      <td>None</td>\n",
       "      <td>NaN</td>\n",
       "    </tr>\n",
       "  </tbody>\n",
       "</table>\n",
       "<p>5667 rows × 6 columns</p>\n",
       "</div>"
      ],
      "text/plain": [
       "           KEY   tempo url_region  \\\n",
       "5      2205445   464.0         rj   \n",
       "6      1099505  1656.0         al   \n",
       "56     2473054   736.0         rs   \n",
       "58     3295101  2154.0         sp   \n",
       "95     3357704  1896.0         rj   \n",
       "...        ...     ...        ...   \n",
       "99823   955513  1225.0         ba   \n",
       "99940   580560  3753.0         sp   \n",
       "99958   875165  1357.0         rj   \n",
       "99968    40576  3068.0         rs   \n",
       "99975  3339092  2947.0         ba   \n",
       "\n",
       "                                             url_noticia url_campeonato  \\\n",
       "5      ex-capitao-do-fla-jonatas-desiste-de-retomar-a...           None   \n",
       "6      walter-e-preso-em-maceio-por-mostrar-arma-de-b...           None   \n",
       "56     alem-de-tite-gremio-x-flamengo-atrai-olheiros-...           None   \n",
       "58     sao-paulo-acerta-a-contratacao-de-everton-feli...           None   \n",
       "95     ex-capitao-do-fla-jonatas-desiste-de-retomar-a...           None   \n",
       "...                                                  ...            ...   \n",
       "99823  vencido-pelas-dores-obina-anuncia-fim-da-carre...           None   \n",
       "99940  sao-paulo-acerta-a-contratacao-de-everton-feli...           None   \n",
       "99958  juiza-atende-pedido-do-flu-e-determina-bloquei...           None   \n",
       "99968  apos-reuniao-inter-fecha-contratacao-de-guerre...           None   \n",
       "99975  vencido-pelas-dores-obina-anuncia-fim-da-carre...           None   \n",
       "\n",
       "      url_times  \n",
       "5           NaN  \n",
       "6           NaN  \n",
       "56          NaN  \n",
       "58          NaN  \n",
       "95          NaN  \n",
       "...         ...  \n",
       "99823       NaN  \n",
       "99940       NaN  \n",
       "99958       NaN  \n",
       "99968       NaN  \n",
       "99975       NaN  \n",
       "\n",
       "[5667 rows x 6 columns]"
      ]
     },
     "execution_count": 495,
     "metadata": {},
     "output_type": "execute_result"
    }
   ],
   "source": [
    "am[am[['url_campeonato', 'url_times']].isna().all(axis=1)]"
   ]
  },
  {
   "cell_type": "markdown",
   "metadata": {},
   "source": [
    "## url_times"
   ]
  },
  {
   "cell_type": "code",
   "execution_count": null,
   "metadata": {
    "scrolled": false
   },
   "outputs": [],
   "source": [
    "am['url_times'].unique()"
   ]
  },
  {
   "cell_type": "code",
   "execution_count": 16,
   "metadata": {},
   "outputs": [],
   "source": [
    "nome_times = df_bem_time['TIME'].str.replace('-', '').str.replace(' ', '').str.lower().unique()\n",
    "am['url_times'] = am['url_times'].str.lower().str.replace('-', '').str.replace(' ', '').str.replace('siga', '')\n",
    "valid = am['url_times'].isin(nome_times)\n",
    "am.loc[valid==False, 'url_times'] = None"
   ]
  },
  {
   "cell_type": "code",
   "execution_count": 17,
   "metadata": {},
   "outputs": [
    {
     "data": {
      "text/plain": [
       "<AxesSubplot:title={'center':'URL time'}>"
      ]
     },
     "execution_count": 17,
     "metadata": {},
     "output_type": "execute_result"
    },
    {
     "data": {
      "image/png": "[encoded data removed]",
      "text/plain": [
       "<Figure size 1440x432 with 1 Axes>"
      ]
     },
     "metadata": {
      "needs_background": "light"
     },
     "output_type": "display_data"
    }
   ],
   "source": [
    "am['url_times'].value_counts().plot.bar(figsize=(20, 6), title='URL time')"
   ]
  },
  {
   "cell_type": "code",
   "execution_count": null,
   "metadata": {},
   "outputs": [],
   "source": []
  }
 ],
 "metadata": {
  "kernelspec": {
   "display_name": "Python 3",
   "language": "python",
   "name": "python3"
  },
  "language_info": {
   "codemirror_mode": {
    "name": "ipython",
    "version": 3
   },
   "file_extension": ".py",
   "mimetype": "text/x-python",
   "name": "python",
   "nbconvert_exporter": "python",
   "pygments_lexer": "ipython3",
   "version": "3.7.9"
  }
 },
 "nbformat": 4,
 "nbformat_minor": 4
}
